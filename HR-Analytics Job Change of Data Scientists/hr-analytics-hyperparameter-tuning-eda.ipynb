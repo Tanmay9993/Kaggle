{
 "cells": [
  {
   "cell_type": "markdown",
   "id": "c9425269",
   "metadata": {
    "papermill": {
     "duration": 0.06889,
     "end_time": "2021-10-02T14:03:50.765152",
     "exception": false,
     "start_time": "2021-10-02T14:03:50.696262",
     "status": "completed"
    },
    "tags": []
   },
   "source": [
    "<div style=\"width:100%;text-align: center;\"> <img align=middle src=\"https://www.clipartkey.com/mpngs/m/200-2006710_processmaker-alternative-cflow-cavintek-data-analysis-vector.png\" alt=\"HR\" style=\"height:450px;margin-top:3rem;\"> </div>"
   ]
  },
  {
   "cell_type": "markdown",
   "id": "f1a963ed",
   "metadata": {
    "papermill": {
     "duration": 0.065571,
     "end_time": "2021-10-02T14:03:50.897511",
     "exception": false,
     "start_time": "2021-10-02T14:03:50.831940",
     "status": "completed"
    },
    "tags": []
   },
   "source": [
    "## HR Analytics: Job Change of Data Scientists"
   ]
  },
  {
   "cell_type": "markdown",
   "id": "a3bf47fa",
   "metadata": {
    "papermill": {
     "duration": 0.066263,
     "end_time": "2021-10-02T14:03:51.030256",
     "exception": false,
     "start_time": "2021-10-02T14:03:50.963993",
     "status": "completed"
    },
    "tags": []
   },
   "source": [
    "#### A company which is active in Big Data and Data Science wants to hire data scientists among people who successfully pass some courses which conduct by the company. Many people signup for their training. Company wants to know which of these candidates are really wants to work for the company after training or looking for a new employment because it helps to reduce the cost and time as well as the quality of training or planning the courses and categorization of candidates. Information related to demographics, education, experience are in hands from candidates signup and enrollment.\n",
    "\n",
    "#### Features\n",
    "- enrollee_id : Unique ID for candidate\n",
    "- city: City code\n",
    "- city_ development _index : Development index of the city (scaled)\n",
    "- gender: Gender of candidate\n",
    "- relevent_experience: Relevant experience of candidate\n",
    "- enrolled_university: Type of University course enrolled if any\n",
    "- education_level: Education level of candidate\n",
    "- major_discipline :Education major discipline of candidate\n",
    "- experience: Candidate total experience in years\n",
    "- company_size: No of employees in current employer's company\n",
    "- company_type : Type of current employer\n",
    "- lastnewjob: Difference in years between previous job and current job\n",
    "- training_hours: training hours completed\n",
    "- target: 0 – Not looking for job change, 1 – Looking for a job change"
   ]
  },
  {
   "cell_type": "code",
   "execution_count": 1,
   "id": "127eb2f6",
   "metadata": {
    "_cell_guid": "b1076dfc-b9ad-4769-8c92-a6c4dae69d19",
    "_uuid": "8f2839f25d086af736a60e9eeb907d3b93b6e0e5",
    "execution": {
     "iopub.execute_input": "2021-10-02T14:03:51.245554Z",
     "iopub.status.busy": "2021-10-02T14:03:51.244861Z",
     "iopub.status.idle": "2021-10-02T14:03:51.926782Z",
     "shell.execute_reply": "2021-10-02T14:03:51.926115Z",
     "shell.execute_reply.started": "2021-10-02T12:30:22.792248Z"
    },
    "papermill": {
     "duration": 0.829753,
     "end_time": "2021-10-02T14:03:51.926950",
     "exception": false,
     "start_time": "2021-10-02T14:03:51.097197",
     "status": "completed"
    },
    "tags": []
   },
   "outputs": [],
   "source": [
    "import pandas as pd\n",
    "import numpy as np\n",
    "import matplotlib.pyplot as plt\n",
    "import seaborn as sns"
   ]
  },
  {
   "cell_type": "code",
   "execution_count": 2,
   "id": "9709bff4",
   "metadata": {
    "execution": {
     "iopub.execute_input": "2021-10-02T14:03:52.065096Z",
     "iopub.status.busy": "2021-10-02T14:03:52.064553Z",
     "iopub.status.idle": "2021-10-02T14:03:52.144180Z",
     "shell.execute_reply": "2021-10-02T14:03:52.143091Z",
     "shell.execute_reply.started": "2021-10-02T12:30:23.805826Z"
    },
    "papermill": {
     "duration": 0.15107,
     "end_time": "2021-10-02T14:03:52.144373",
     "exception": false,
     "start_time": "2021-10-02T14:03:51.993303",
     "status": "completed"
    },
    "tags": []
   },
   "outputs": [],
   "source": [
    "data_df = pd.read_csv('../input/hr-analytics-job-change-of-data-scientists/aug_train.csv')\n",
    "data_df = data_df[0:1000].copy()\n",
    "data = data_df.copy()"
   ]
  },
  {
   "cell_type": "markdown",
   "id": "b4865b21",
   "metadata": {
    "papermill": {
     "duration": 0.082763,
     "end_time": "2021-10-02T14:03:52.319695",
     "exception": false,
     "start_time": "2021-10-02T14:03:52.236932",
     "status": "completed"
    },
    "tags": []
   },
   "source": [
    "**Taking the first 1000 values from the dataset.**"
   ]
  },
  {
   "cell_type": "code",
   "execution_count": 3,
   "id": "44944e98",
   "metadata": {
    "execution": {
     "iopub.execute_input": "2021-10-02T14:03:52.498750Z",
     "iopub.status.busy": "2021-10-02T14:03:52.498002Z",
     "iopub.status.idle": "2021-10-02T14:03:52.504122Z",
     "shell.execute_reply": "2021-10-02T14:03:52.504681Z",
     "shell.execute_reply.started": "2021-10-02T12:30:28.797178Z"
    },
    "papermill": {
     "duration": 0.098509,
     "end_time": "2021-10-02T14:03:52.504884",
     "exception": false,
     "start_time": "2021-10-02T14:03:52.406375",
     "status": "completed"
    },
    "tags": []
   },
   "outputs": [
    {
     "data": {
      "text/plain": [
       "(1000, 14)"
      ]
     },
     "execution_count": 3,
     "metadata": {},
     "output_type": "execute_result"
    }
   ],
   "source": [
    "data.shape"
   ]
  },
  {
   "cell_type": "code",
   "execution_count": 4,
   "id": "ae5b8461",
   "metadata": {
    "execution": {
     "iopub.execute_input": "2021-10-02T14:03:52.656840Z",
     "iopub.status.busy": "2021-10-02T14:03:52.656223Z",
     "iopub.status.idle": "2021-10-02T14:03:52.677361Z",
     "shell.execute_reply": "2021-10-02T14:03:52.676960Z",
     "shell.execute_reply.started": "2021-10-02T12:30:24.810873Z"
    },
    "papermill": {
     "duration": 0.096115,
     "end_time": "2021-10-02T14:03:52.677510",
     "exception": false,
     "start_time": "2021-10-02T14:03:52.581395",
     "status": "completed"
    },
    "tags": []
   },
   "outputs": [
    {
     "data": {
      "text/html": [
       "<div>\n",
       "<style scoped>\n",
       "    .dataframe tbody tr th:only-of-type {\n",
       "        vertical-align: middle;\n",
       "    }\n",
       "\n",
       "    .dataframe tbody tr th {\n",
       "        vertical-align: top;\n",
       "    }\n",
       "\n",
       "    .dataframe thead th {\n",
       "        text-align: right;\n",
       "    }\n",
       "</style>\n",
       "<table border=\"1\" class=\"dataframe\">\n",
       "  <thead>\n",
       "    <tr style=\"text-align: right;\">\n",
       "      <th></th>\n",
       "      <th>enrollee_id</th>\n",
       "      <th>city</th>\n",
       "      <th>city_development_index</th>\n",
       "      <th>gender</th>\n",
       "      <th>relevent_experience</th>\n",
       "      <th>enrolled_university</th>\n",
       "      <th>education_level</th>\n",
       "      <th>major_discipline</th>\n",
       "      <th>experience</th>\n",
       "      <th>company_size</th>\n",
       "      <th>company_type</th>\n",
       "      <th>last_new_job</th>\n",
       "      <th>training_hours</th>\n",
       "      <th>target</th>\n",
       "    </tr>\n",
       "  </thead>\n",
       "  <tbody>\n",
       "    <tr>\n",
       "      <th>0</th>\n",
       "      <td>8949</td>\n",
       "      <td>city_103</td>\n",
       "      <td>0.920</td>\n",
       "      <td>Male</td>\n",
       "      <td>Has relevent experience</td>\n",
       "      <td>no_enrollment</td>\n",
       "      <td>Graduate</td>\n",
       "      <td>STEM</td>\n",
       "      <td>&gt;20</td>\n",
       "      <td>NaN</td>\n",
       "      <td>NaN</td>\n",
       "      <td>1</td>\n",
       "      <td>36</td>\n",
       "      <td>1.0</td>\n",
       "    </tr>\n",
       "    <tr>\n",
       "      <th>1</th>\n",
       "      <td>29725</td>\n",
       "      <td>city_40</td>\n",
       "      <td>0.776</td>\n",
       "      <td>Male</td>\n",
       "      <td>No relevent experience</td>\n",
       "      <td>no_enrollment</td>\n",
       "      <td>Graduate</td>\n",
       "      <td>STEM</td>\n",
       "      <td>15</td>\n",
       "      <td>50-99</td>\n",
       "      <td>Pvt Ltd</td>\n",
       "      <td>&gt;4</td>\n",
       "      <td>47</td>\n",
       "      <td>0.0</td>\n",
       "    </tr>\n",
       "    <tr>\n",
       "      <th>2</th>\n",
       "      <td>11561</td>\n",
       "      <td>city_21</td>\n",
       "      <td>0.624</td>\n",
       "      <td>NaN</td>\n",
       "      <td>No relevent experience</td>\n",
       "      <td>Full time course</td>\n",
       "      <td>Graduate</td>\n",
       "      <td>STEM</td>\n",
       "      <td>5</td>\n",
       "      <td>NaN</td>\n",
       "      <td>NaN</td>\n",
       "      <td>never</td>\n",
       "      <td>83</td>\n",
       "      <td>0.0</td>\n",
       "    </tr>\n",
       "    <tr>\n",
       "      <th>3</th>\n",
       "      <td>33241</td>\n",
       "      <td>city_115</td>\n",
       "      <td>0.789</td>\n",
       "      <td>NaN</td>\n",
       "      <td>No relevent experience</td>\n",
       "      <td>NaN</td>\n",
       "      <td>Graduate</td>\n",
       "      <td>Business Degree</td>\n",
       "      <td>&lt;1</td>\n",
       "      <td>NaN</td>\n",
       "      <td>Pvt Ltd</td>\n",
       "      <td>never</td>\n",
       "      <td>52</td>\n",
       "      <td>1.0</td>\n",
       "    </tr>\n",
       "    <tr>\n",
       "      <th>4</th>\n",
       "      <td>666</td>\n",
       "      <td>city_162</td>\n",
       "      <td>0.767</td>\n",
       "      <td>Male</td>\n",
       "      <td>Has relevent experience</td>\n",
       "      <td>no_enrollment</td>\n",
       "      <td>Masters</td>\n",
       "      <td>STEM</td>\n",
       "      <td>&gt;20</td>\n",
       "      <td>50-99</td>\n",
       "      <td>Funded Startup</td>\n",
       "      <td>4</td>\n",
       "      <td>8</td>\n",
       "      <td>0.0</td>\n",
       "    </tr>\n",
       "  </tbody>\n",
       "</table>\n",
       "</div>"
      ],
      "text/plain": [
       "   enrollee_id      city  city_development_index gender  \\\n",
       "0         8949  city_103                   0.920   Male   \n",
       "1        29725   city_40                   0.776   Male   \n",
       "2        11561   city_21                   0.624    NaN   \n",
       "3        33241  city_115                   0.789    NaN   \n",
       "4          666  city_162                   0.767   Male   \n",
       "\n",
       "       relevent_experience enrolled_university education_level  \\\n",
       "0  Has relevent experience       no_enrollment        Graduate   \n",
       "1   No relevent experience       no_enrollment        Graduate   \n",
       "2   No relevent experience    Full time course        Graduate   \n",
       "3   No relevent experience                 NaN        Graduate   \n",
       "4  Has relevent experience       no_enrollment         Masters   \n",
       "\n",
       "  major_discipline experience company_size    company_type last_new_job  \\\n",
       "0             STEM        >20          NaN             NaN            1   \n",
       "1             STEM         15        50-99         Pvt Ltd           >4   \n",
       "2             STEM          5          NaN             NaN        never   \n",
       "3  Business Degree         <1          NaN         Pvt Ltd        never   \n",
       "4             STEM        >20        50-99  Funded Startup            4   \n",
       "\n",
       "   training_hours  target  \n",
       "0              36     1.0  \n",
       "1              47     0.0  \n",
       "2              83     0.0  \n",
       "3              52     1.0  \n",
       "4               8     0.0  "
      ]
     },
     "metadata": {},
     "output_type": "display_data"
    }
   ],
   "source": [
    "display(data_df.head())"
   ]
  },
  {
   "cell_type": "code",
   "execution_count": 5,
   "id": "255b00d0",
   "metadata": {
    "execution": {
     "iopub.execute_input": "2021-10-02T14:03:52.821580Z",
     "iopub.status.busy": "2021-10-02T14:03:52.818715Z",
     "iopub.status.idle": "2021-10-02T14:03:52.824505Z",
     "shell.execute_reply": "2021-10-02T14:03:52.824865Z",
     "shell.execute_reply.started": "2021-10-02T12:30:24.845076Z"
    },
    "papermill": {
     "duration": 0.078859,
     "end_time": "2021-10-02T14:03:52.825024",
     "exception": false,
     "start_time": "2021-10-02T14:03:52.746165",
     "status": "completed"
    },
    "tags": []
   },
   "outputs": [],
   "source": [
    "data.drop(['enrollee_id'],axis=1,inplace=True)\n",
    "pred = data_df['target']"
   ]
  },
  {
   "cell_type": "markdown",
   "id": "cd6fb0d9",
   "metadata": {
    "papermill": {
     "duration": 0.066784,
     "end_time": "2021-10-02T14:03:52.959048",
     "exception": false,
     "start_time": "2021-10-02T14:03:52.892264",
     "status": "completed"
    },
    "tags": []
   },
   "source": [
    "#### Here the label is target where, 0 – Not looking for a job change and, 1 – Looking for a job change."
   ]
  },
  {
   "cell_type": "markdown",
   "id": "088a4603",
   "metadata": {
    "papermill": {
     "duration": 0.070802,
     "end_time": "2021-10-02T14:03:53.096799",
     "exception": false,
     "start_time": "2021-10-02T14:03:53.025997",
     "status": "completed"
    },
    "tags": []
   },
   "source": [
    "# Plan of Action\n",
    "#### We will be looking at the following things:\n",
    "* Data visualization\n",
    "* Filling in missing values\n",
    "* Data Preprocessing\n",
    "* Encoding\n",
    "\n",
    "**Missing values are filled with the maximum value for that feature.**                                        \n",
    "**For encoding, '.get_dummies()' is used.**                                                                    \n",
    "**Features with less or negligible influence are dropped.**                                         "
   ]
  },
  {
   "cell_type": "markdown",
   "id": "0a88620f",
   "metadata": {
    "papermill": {
     "duration": 0.067201,
     "end_time": "2021-10-02T14:03:53.233550",
     "exception": false,
     "start_time": "2021-10-02T14:03:53.166349",
     "status": "completed"
    },
    "tags": []
   },
   "source": [
    "### Missing values\n"
   ]
  },
  {
   "cell_type": "code",
   "execution_count": 6,
   "id": "a682ecc6",
   "metadata": {
    "execution": {
     "iopub.execute_input": "2021-10-02T14:03:53.377228Z",
     "iopub.status.busy": "2021-10-02T14:03:53.376448Z",
     "iopub.status.idle": "2021-10-02T14:03:53.379468Z",
     "shell.execute_reply": "2021-10-02T14:03:53.379888Z",
     "shell.execute_reply.started": "2021-10-02T12:30:28.813187Z"
    },
    "papermill": {
     "duration": 0.07891,
     "end_time": "2021-10-02T14:03:53.380021",
     "exception": false,
     "start_time": "2021-10-02T14:03:53.301111",
     "status": "completed"
    },
    "tags": []
   },
   "outputs": [
    {
     "data": {
      "text/plain": [
       "city                        0\n",
       "city_development_index      0\n",
       "gender                    231\n",
       "relevent_experience         0\n",
       "enrolled_university        27\n",
       "education_level            28\n",
       "major_discipline          151\n",
       "experience                  2\n",
       "company_size              295\n",
       "company_type              310\n",
       "last_new_job               17\n",
       "training_hours              0\n",
       "target                      0\n",
       "dtype: int64"
      ]
     },
     "execution_count": 6,
     "metadata": {},
     "output_type": "execute_result"
    }
   ],
   "source": [
    "data.isnull().sum()"
   ]
  },
  {
   "cell_type": "markdown",
   "id": "1a761f90",
   "metadata": {
    "papermill": {
     "duration": 0.067169,
     "end_time": "2021-10-02T14:03:53.514629",
     "exception": false,
     "start_time": "2021-10-02T14:03:53.447460",
     "status": "completed"
    },
    "tags": []
   },
   "source": [
    "# Features"
   ]
  },
  {
   "cell_type": "markdown",
   "id": "505b8526",
   "metadata": {
    "papermill": {
     "duration": 0.06665,
     "end_time": "2021-10-02T14:03:53.648175",
     "exception": false,
     "start_time": "2021-10-02T14:03:53.581525",
     "status": "completed"
    },
    "tags": []
   },
   "source": [
    "### 1. City\n",
    "#### This feature has details about the city code."
   ]
  },
  {
   "cell_type": "code",
   "execution_count": 7,
   "id": "5f09fd49",
   "metadata": {
    "execution": {
     "iopub.execute_input": "2021-10-02T14:03:53.788847Z",
     "iopub.status.busy": "2021-10-02T14:03:53.787054Z",
     "iopub.status.idle": "2021-10-02T14:03:53.791864Z",
     "shell.execute_reply": "2021-10-02T14:03:53.792465Z",
     "shell.execute_reply.started": "2021-10-02T12:30:30.782916Z"
    },
    "papermill": {
     "duration": 0.077828,
     "end_time": "2021-10-02T14:03:53.792644",
     "exception": false,
     "start_time": "2021-10-02T14:03:53.714816",
     "status": "completed"
    },
    "tags": []
   },
   "outputs": [
    {
     "name": "stdout",
     "output_type": "stream",
     "text": [
      "The number of missing values for this feature is 0\n"
     ]
    }
   ],
   "source": [
    "print(\"The number of missing values for this feature is\",data[\"city\"].isnull().sum())"
   ]
  },
  {
   "cell_type": "code",
   "execution_count": 8,
   "id": "8aafb6d7",
   "metadata": {
    "execution": {
     "iopub.execute_input": "2021-10-02T14:03:53.935628Z",
     "iopub.status.busy": "2021-10-02T14:03:53.934939Z",
     "iopub.status.idle": "2021-10-02T14:03:53.938501Z",
     "shell.execute_reply": "2021-10-02T14:03:53.938096Z",
     "shell.execute_reply.started": "2021-10-02T12:30:30.79612Z"
    },
    "papermill": {
     "duration": 0.076665,
     "end_time": "2021-10-02T14:03:53.938612",
     "exception": false,
     "start_time": "2021-10-02T14:03:53.861947",
     "status": "completed"
    },
    "tags": []
   },
   "outputs": [
    {
     "name": "stdout",
     "output_type": "stream",
     "text": [
      "The number of unique values for this feature is: 87\n"
     ]
    }
   ],
   "source": [
    "print(\"The number of unique values for this feature is:\",len(data[\"city\"].unique()))"
   ]
  },
  {
   "cell_type": "markdown",
   "id": "994984b4",
   "metadata": {
    "papermill": {
     "duration": 0.068136,
     "end_time": "2021-10-02T14:03:54.074800",
     "exception": false,
     "start_time": "2021-10-02T14:03:54.006664",
     "status": "completed"
    },
    "tags": []
   },
   "source": [
    "#### We drop the 'city' attribute because it has too many unique values and does not contribute in any way."
   ]
  },
  {
   "cell_type": "code",
   "execution_count": 9,
   "id": "64e02ec8",
   "metadata": {
    "execution": {
     "iopub.execute_input": "2021-10-02T14:03:54.267797Z",
     "iopub.status.busy": "2021-10-02T14:03:54.266990Z",
     "iopub.status.idle": "2021-10-02T14:03:54.282048Z",
     "shell.execute_reply": "2021-10-02T14:03:54.282669Z",
     "shell.execute_reply.started": "2021-10-02T12:30:31.805156Z"
    },
    "papermill": {
     "duration": 0.135581,
     "end_time": "2021-10-02T14:03:54.282910",
     "exception": false,
     "start_time": "2021-10-02T14:03:54.147329",
     "status": "completed"
    },
    "tags": []
   },
   "outputs": [],
   "source": [
    "data.drop(['city'],axis=1,inplace=True) "
   ]
  },
  {
   "cell_type": "markdown",
   "id": "7b9ca1ac",
   "metadata": {
    "papermill": {
     "duration": 0.11654,
     "end_time": "2021-10-02T14:03:54.528901",
     "exception": false,
     "start_time": "2021-10-02T14:03:54.412361",
     "status": "completed"
    },
    "tags": []
   },
   "source": [
    "### 2. City Development Index\n",
    "#### This feature has the developement index of the city (scaled)."
   ]
  },
  {
   "cell_type": "code",
   "execution_count": 10,
   "id": "30f80bfe",
   "metadata": {
    "execution": {
     "iopub.execute_input": "2021-10-02T14:03:54.801714Z",
     "iopub.status.busy": "2021-10-02T14:03:54.800909Z",
     "iopub.status.idle": "2021-10-02T14:03:54.803957Z",
     "shell.execute_reply": "2021-10-02T14:03:54.804372Z",
     "shell.execute_reply.started": "2021-10-02T12:30:49.606696Z"
    },
    "papermill": {
     "duration": 0.160795,
     "end_time": "2021-10-02T14:03:54.804500",
     "exception": false,
     "start_time": "2021-10-02T14:03:54.643705",
     "status": "completed"
    },
    "tags": []
   },
   "outputs": [
    {
     "name": "stdout",
     "output_type": "stream",
     "text": [
      "The number of missing values for this feature is 0\n"
     ]
    }
   ],
   "source": [
    "print(\"The number of missing values for this feature is\",data[\"city_development_index\"].isnull().sum())"
   ]
  },
  {
   "cell_type": "code",
   "execution_count": 11,
   "id": "dcd8c317",
   "metadata": {
    "execution": {
     "iopub.execute_input": "2021-10-02T14:03:54.954789Z",
     "iopub.status.busy": "2021-10-02T14:03:54.953681Z",
     "iopub.status.idle": "2021-10-02T14:03:54.961958Z",
     "shell.execute_reply": "2021-10-02T14:03:54.961278Z",
     "shell.execute_reply.started": "2021-10-02T12:30:51.503967Z"
    },
    "papermill": {
     "duration": 0.085989,
     "end_time": "2021-10-02T14:03:54.962100",
     "exception": false,
     "start_time": "2021-10-02T14:03:54.876111",
     "status": "completed"
    },
    "tags": []
   },
   "outputs": [
    {
     "name": "stdout",
     "output_type": "stream",
     "text": [
      "Value for City Development Index ranges from: 0.479 to 0.949\n"
     ]
    }
   ],
   "source": [
    "print(\"Value for City Development Index ranges from:\",data_df[\"city_development_index\"].describe()[3],\"to\",data_df[\"city_development_index\"].describe()[7])"
   ]
  },
  {
   "cell_type": "code",
   "execution_count": 12,
   "id": "3ac85896",
   "metadata": {
    "execution": {
     "iopub.execute_input": "2021-10-02T14:03:55.124959Z",
     "iopub.status.busy": "2021-10-02T14:03:55.122534Z",
     "iopub.status.idle": "2021-10-02T14:03:55.434941Z",
     "shell.execute_reply": "2021-10-02T14:03:55.434449Z",
     "shell.execute_reply.started": "2021-10-02T12:30:53.61601Z"
    },
    "papermill": {
     "duration": 0.392985,
     "end_time": "2021-10-02T14:03:55.435069",
     "exception": false,
     "start_time": "2021-10-02T14:03:55.042084",
     "status": "completed"
    },
    "tags": []
   },
   "outputs": [
    {
     "data": {
      "text/plain": [
       "<AxesSubplot:xlabel='city_development_index', ylabel='Density'>"
      ]
     },
     "execution_count": 12,
     "metadata": {},
     "output_type": "execute_result"
    },
    {
     "data": {
      "image/png": "[encoded data removed]",
      "text/plain": [
       "<Figure size 864x360 with 1 Axes>"
      ]
     },
     "metadata": {
      "needs_background": "light"
     },
     "output_type": "display_data"
    }
   ],
   "source": [
    "plt.figure(figsize=(12, 5))\n",
    "sns.kdeplot(data=data, x=\"city_development_index\", hue=\"target\",cut = 0,palette='Set1')"
   ]
  },
  {
   "cell_type": "markdown",
   "id": "9b408096",
   "metadata": {
    "papermill": {
     "duration": 0.072929,
     "end_time": "2021-10-02T14:03:55.582384",
     "exception": false,
     "start_time": "2021-10-02T14:03:55.509455",
     "status": "completed"
    },
    "tags": []
   },
   "source": [
    "#### Here we can see that people living in developed cities have a lesser probability of switching their jobs."
   ]
  },
  {
   "cell_type": "markdown",
   "id": "35dce1cb",
   "metadata": {
    "papermill": {
     "duration": 0.072333,
     "end_time": "2021-10-02T14:03:55.727666",
     "exception": false,
     "start_time": "2021-10-02T14:03:55.655333",
     "status": "completed"
    },
    "tags": []
   },
   "source": [
    "### 3. Gender\n",
    "#### This feature has the gender of candidate."
   ]
  },
  {
   "cell_type": "code",
   "execution_count": 13,
   "id": "11e47e56",
   "metadata": {
    "execution": {
     "iopub.execute_input": "2021-10-02T14:03:55.882961Z",
     "iopub.status.busy": "2021-10-02T14:03:55.882398Z",
     "iopub.status.idle": "2021-10-02T14:03:55.887690Z",
     "shell.execute_reply": "2021-10-02T14:03:55.887053Z",
     "shell.execute_reply.started": "2021-10-02T12:30:56.570807Z"
    },
    "papermill": {
     "duration": 0.08694,
     "end_time": "2021-10-02T14:03:55.887850",
     "exception": false,
     "start_time": "2021-10-02T14:03:55.800910",
     "status": "completed"
    },
    "tags": []
   },
   "outputs": [
    {
     "name": "stdout",
     "output_type": "stream",
     "text": [
      "The number of missing values for this feature is 231\n"
     ]
    }
   ],
   "source": [
    "print(\"The number of missing values for this feature is\",data[\"gender\"].isnull().sum())"
   ]
  },
  {
   "cell_type": "code",
   "execution_count": 14,
   "id": "50295ac6",
   "metadata": {
    "execution": {
     "iopub.execute_input": "2021-10-02T14:03:56.041281Z",
     "iopub.status.busy": "2021-10-02T14:03:56.040563Z",
     "iopub.status.idle": "2021-10-02T14:03:56.044686Z",
     "shell.execute_reply": "2021-10-02T14:03:56.044259Z",
     "shell.execute_reply.started": "2021-10-02T12:30:57.663259Z"
    },
    "papermill": {
     "duration": 0.083322,
     "end_time": "2021-10-02T14:03:56.044796",
     "exception": false,
     "start_time": "2021-10-02T14:03:55.961474",
     "status": "completed"
    },
    "tags": []
   },
   "outputs": [
    {
     "name": "stdout",
     "output_type": "stream",
     "text": [
      "The number of unique values for this feature is: 3\n"
     ]
    }
   ],
   "source": [
    "print(\"The number of unique values for this feature is:\",len(data[\"gender\"].unique())-1)"
   ]
  },
  {
   "cell_type": "code",
   "execution_count": 15,
   "id": "3663d819",
   "metadata": {
    "execution": {
     "iopub.execute_input": "2021-10-02T14:03:56.211946Z",
     "iopub.status.busy": "2021-10-02T14:03:56.204225Z",
     "iopub.status.idle": "2021-10-02T14:03:56.446725Z",
     "shell.execute_reply": "2021-10-02T14:03:56.446292Z",
     "shell.execute_reply.started": "2021-10-02T12:30:57.68451Z"
    },
    "papermill": {
     "duration": 0.325805,
     "end_time": "2021-10-02T14:03:56.446848",
     "exception": false,
     "start_time": "2021-10-02T14:03:56.121043",
     "status": "completed"
    },
    "tags": []
   },
   "outputs": [
    {
     "data": {
      "text/plain": [
       "<AxesSubplot:xlabel='gender', ylabel='count'>"
      ]
     },
     "execution_count": 15,
     "metadata": {},
     "output_type": "execute_result"
    },
    {
     "data": {
      "image/png": "[encoded data removed]",
      "text/plain": [
       "<Figure size 576x360 with 1 Axes>"
      ]
     },
     "metadata": {
      "needs_background": "light"
     },
     "output_type": "display_data"
    }
   ],
   "source": [
    "plt.figure(figsize=(8, 5))\n",
    "sns.set_style('whitegrid')\n",
    "sns.countplot(x = 'gender',hue='target',data=data,palette='rainbow')"
   ]
  },
  {
   "cell_type": "code",
   "execution_count": 16,
   "id": "1cabe1bf",
   "metadata": {
    "execution": {
     "iopub.execute_input": "2021-10-02T14:03:56.601379Z",
     "iopub.status.busy": "2021-10-02T14:03:56.600639Z",
     "iopub.status.idle": "2021-10-02T14:03:56.607777Z",
     "shell.execute_reply": "2021-10-02T14:03:56.607192Z",
     "shell.execute_reply.started": "2021-10-02T12:30:58.71343Z"
    },
    "papermill": {
     "duration": 0.087106,
     "end_time": "2021-10-02T14:03:56.607912",
     "exception": false,
     "start_time": "2021-10-02T14:03:56.520806",
     "status": "completed"
    },
    "tags": []
   },
   "outputs": [],
   "source": [
    "data[\"gender\"].fillna(\"Male\", inplace = True)\n",
    "\n",
    "\n",
    "gen = pd.get_dummies(data['gender'])\n",
    "data.drop(['gender'],axis=1,inplace=True)\n",
    "data = pd.concat([data,gen],axis=1)\n",
    "\n",
    "\n",
    "data.drop(['Other'],axis=1,inplace=True) "
   ]
  },
  {
   "cell_type": "markdown",
   "id": "0c165bbd",
   "metadata": {
    "papermill": {
     "duration": 0.073285,
     "end_time": "2021-10-02T14:03:56.754307",
     "exception": false,
     "start_time": "2021-10-02T14:03:56.681022",
     "status": "completed"
    },
    "tags": []
   },
   "source": [
    "### 4. Relevant Experience\n",
    "#### This feature tells whether the candidate has some relevant experience or not."
   ]
  },
  {
   "cell_type": "code",
   "execution_count": 17,
   "id": "199bc680",
   "metadata": {
    "execution": {
     "iopub.execute_input": "2021-10-02T14:03:56.905700Z",
     "iopub.status.busy": "2021-10-02T14:03:56.904817Z",
     "iopub.status.idle": "2021-10-02T14:03:56.911863Z",
     "shell.execute_reply": "2021-10-02T14:03:56.912495Z",
     "shell.execute_reply.started": "2021-10-02T12:31:00.61326Z"
    },
    "papermill": {
     "duration": 0.083978,
     "end_time": "2021-10-02T14:03:56.912668",
     "exception": false,
     "start_time": "2021-10-02T14:03:56.828690",
     "status": "completed"
    },
    "tags": []
   },
   "outputs": [
    {
     "name": "stdout",
     "output_type": "stream",
     "text": [
      "The number of missing values for this feature is 0\n"
     ]
    }
   ],
   "source": [
    "print(\"The number of missing values for this feature is\",data[\"relevent_experience\"].isnull().sum())"
   ]
  },
  {
   "cell_type": "code",
   "execution_count": 18,
   "id": "711709a1",
   "metadata": {
    "execution": {
     "iopub.execute_input": "2021-10-02T14:03:57.066359Z",
     "iopub.status.busy": "2021-10-02T14:03:57.065615Z",
     "iopub.status.idle": "2021-10-02T14:03:57.068928Z",
     "shell.execute_reply": "2021-10-02T14:03:57.069368Z",
     "shell.execute_reply.started": "2021-10-02T12:31:00.625515Z"
    },
    "papermill": {
     "duration": 0.082754,
     "end_time": "2021-10-02T14:03:57.069499",
     "exception": false,
     "start_time": "2021-10-02T14:03:56.986745",
     "status": "completed"
    },
    "tags": []
   },
   "outputs": [
    {
     "name": "stdout",
     "output_type": "stream",
     "text": [
      "The number of unique values for this feature is: 2\n"
     ]
    }
   ],
   "source": [
    "print(\"The number of unique values for this feature is:\",len(data[\"relevent_experience\"].unique()))"
   ]
  },
  {
   "cell_type": "code",
   "execution_count": 19,
   "id": "34bf5725",
   "metadata": {
    "execution": {
     "iopub.execute_input": "2021-10-02T14:03:57.230726Z",
     "iopub.status.busy": "2021-10-02T14:03:57.229115Z",
     "iopub.status.idle": "2021-10-02T14:03:57.472683Z",
     "shell.execute_reply": "2021-10-02T14:03:57.472256Z",
     "shell.execute_reply.started": "2021-10-02T12:31:01.615321Z"
    },
    "papermill": {
     "duration": 0.325043,
     "end_time": "2021-10-02T14:03:57.472805",
     "exception": false,
     "start_time": "2021-10-02T14:03:57.147762",
     "status": "completed"
    },
    "tags": []
   },
   "outputs": [
    {
     "data": {
      "text/plain": [
       "<AxesSubplot:xlabel='relevent_experience', ylabel='count'>"
      ]
     },
     "execution_count": 19,
     "metadata": {},
     "output_type": "execute_result"
    },
    {
     "data": {
      "image/png": "[encoded data removed]",
      "text/plain": [
       "<Figure size 576x360 with 1 Axes>"
      ]
     },
     "metadata": {},
     "output_type": "display_data"
    }
   ],
   "source": [
    "plt.figure(figsize=(8, 5))\n",
    "sns.set_style('whitegrid')\n",
    "sns.countplot(x = 'relevent_experience',hue='target',data=data,palette='deep')"
   ]
  },
  {
   "cell_type": "code",
   "execution_count": 20,
   "id": "fdee77f4",
   "metadata": {
    "execution": {
     "iopub.execute_input": "2021-10-02T14:03:57.639154Z",
     "iopub.status.busy": "2021-10-02T14:03:57.633308Z",
     "iopub.status.idle": "2021-10-02T14:03:57.642486Z",
     "shell.execute_reply": "2021-10-02T14:03:57.641956Z",
     "shell.execute_reply.started": "2021-10-02T12:31:01.934852Z"
    },
    "papermill": {
     "duration": 0.09164,
     "end_time": "2021-10-02T14:03:57.642607",
     "exception": false,
     "start_time": "2021-10-02T14:03:57.550967",
     "status": "completed"
    },
    "tags": []
   },
   "outputs": [],
   "source": [
    "rel = pd.get_dummies(data['relevent_experience'])\n",
    "data.drop(['relevent_experience'],axis=1,inplace=True)\n",
    "data = pd.concat([data,rel],axis=1)\n",
    "\n",
    "\n",
    "data.drop(['No relevent experience'],axis=1,inplace=True) "
   ]
  },
  {
   "cell_type": "markdown",
   "id": "52fc6c68",
   "metadata": {
    "papermill": {
     "duration": 0.079365,
     "end_time": "2021-10-02T14:03:57.800488",
     "exception": false,
     "start_time": "2021-10-02T14:03:57.721123",
     "status": "completed"
    },
    "tags": []
   },
   "source": [
    "### 5. Enrolled University\n",
    "#### This feature mentions the type of university course enrolled if any."
   ]
  },
  {
   "cell_type": "code",
   "execution_count": 21,
   "id": "d156ebe6",
   "metadata": {
    "execution": {
     "iopub.execute_input": "2021-10-02T14:03:57.964473Z",
     "iopub.status.busy": "2021-10-02T14:03:57.963924Z",
     "iopub.status.idle": "2021-10-02T14:03:57.967977Z",
     "shell.execute_reply": "2021-10-02T14:03:57.968431Z",
     "shell.execute_reply.started": "2021-10-02T12:31:02.571203Z"
    },
    "papermill": {
     "duration": 0.089273,
     "end_time": "2021-10-02T14:03:57.968569",
     "exception": false,
     "start_time": "2021-10-02T14:03:57.879296",
     "status": "completed"
    },
    "tags": []
   },
   "outputs": [
    {
     "name": "stdout",
     "output_type": "stream",
     "text": [
      "The number of missing values for this feature is 27\n"
     ]
    }
   ],
   "source": [
    "print(\"The number of missing values for this feature is\",data[\"enrolled_university\"].isnull().sum())"
   ]
  },
  {
   "cell_type": "code",
   "execution_count": 22,
   "id": "f97227a3",
   "metadata": {
    "execution": {
     "iopub.execute_input": "2021-10-02T14:03:58.132554Z",
     "iopub.status.busy": "2021-10-02T14:03:58.132004Z",
     "iopub.status.idle": "2021-10-02T14:03:58.134900Z",
     "shell.execute_reply": "2021-10-02T14:03:58.135322Z",
     "shell.execute_reply.started": "2021-10-02T12:31:03.633665Z"
    },
    "papermill": {
     "duration": 0.087784,
     "end_time": "2021-10-02T14:03:58.135455",
     "exception": false,
     "start_time": "2021-10-02T14:03:58.047671",
     "status": "completed"
    },
    "tags": []
   },
   "outputs": [
    {
     "name": "stdout",
     "output_type": "stream",
     "text": [
      "The number of unique values for this feature is: 3\n"
     ]
    }
   ],
   "source": [
    "print(\"The number of unique values for this feature is:\",len(data[\"enrolled_university\"].unique())-1)"
   ]
  },
  {
   "cell_type": "code",
   "execution_count": 23,
   "id": "d77261b9",
   "metadata": {
    "execution": {
     "iopub.execute_input": "2021-10-02T14:03:58.295706Z",
     "iopub.status.busy": "2021-10-02T14:03:58.293279Z",
     "iopub.status.idle": "2021-10-02T14:03:58.531800Z",
     "shell.execute_reply": "2021-10-02T14:03:58.531389Z",
     "shell.execute_reply.started": "2021-10-02T12:31:03.646117Z"
    },
    "papermill": {
     "duration": 0.320795,
     "end_time": "2021-10-02T14:03:58.531963",
     "exception": false,
     "start_time": "2021-10-02T14:03:58.211168",
     "status": "completed"
    },
    "tags": []
   },
   "outputs": [
    {
     "data": {
      "text/plain": [
       "<AxesSubplot:xlabel='enrolled_university', ylabel='count'>"
      ]
     },
     "execution_count": 23,
     "metadata": {},
     "output_type": "execute_result"
    },
    {
     "data": {
      "image/png": "[encoded data removed]",
      "text/plain": [
       "<Figure size 576x360 with 1 Axes>"
      ]
     },
     "metadata": {},
     "output_type": "display_data"
    }
   ],
   "source": [
    "plt.figure(figsize=(8, 5))\n",
    "sns.set_style('whitegrid')\n",
    "sns.countplot(x = 'enrolled_university',hue='target',data=data,palette='Set2')"
   ]
  },
  {
   "cell_type": "code",
   "execution_count": 24,
   "id": "ac60720b",
   "metadata": {
    "execution": {
     "iopub.execute_input": "2021-10-02T14:03:58.691318Z",
     "iopub.status.busy": "2021-10-02T14:03:58.690495Z",
     "iopub.status.idle": "2021-10-02T14:03:58.695865Z",
     "shell.execute_reply": "2021-10-02T14:03:58.695467Z",
     "shell.execute_reply.started": "2021-10-02T12:31:03.891317Z"
    },
    "papermill": {
     "duration": 0.08733,
     "end_time": "2021-10-02T14:03:58.695997",
     "exception": false,
     "start_time": "2021-10-02T14:03:58.608667",
     "status": "completed"
    },
    "tags": []
   },
   "outputs": [],
   "source": [
    "data[\"enrolled_university\"].fillna(\"no_enrollment\", inplace = True)\n",
    "\n",
    "\n",
    "enr = pd.get_dummies(data['enrolled_university'])\n",
    "data.drop(['enrolled_university'],axis=1,inplace=True)\n",
    "data = pd.concat([data,enr],axis=1)\n",
    "\n",
    "\n",
    "data.drop(['Part time course'],axis=1,inplace=True) "
   ]
  },
  {
   "cell_type": "markdown",
   "id": "1d2c6a33",
   "metadata": {
    "papermill": {
     "duration": 0.074688,
     "end_time": "2021-10-02T14:03:58.844659",
     "exception": false,
     "start_time": "2021-10-02T14:03:58.769971",
     "status": "completed"
    },
    "tags": []
   },
   "source": [
    "### 6. Education Level\n",
    "#### This feature mentions the education level of the candidate."
   ]
  },
  {
   "cell_type": "code",
   "execution_count": 25,
   "id": "8b1d26e7",
   "metadata": {
    "execution": {
     "iopub.execute_input": "2021-10-02T14:03:58.998118Z",
     "iopub.status.busy": "2021-10-02T14:03:58.997208Z",
     "iopub.status.idle": "2021-10-02T14:03:59.002018Z",
     "shell.execute_reply": "2021-10-02T14:03:59.002597Z",
     "shell.execute_reply.started": "2021-10-02T12:31:04.599901Z"
    },
    "papermill": {
     "duration": 0.083826,
     "end_time": "2021-10-02T14:03:59.002775",
     "exception": false,
     "start_time": "2021-10-02T14:03:58.918949",
     "status": "completed"
    },
    "tags": []
   },
   "outputs": [
    {
     "name": "stdout",
     "output_type": "stream",
     "text": [
      "The number of missing values for this feature is 28\n"
     ]
    }
   ],
   "source": [
    "print(\"The number of missing values for this feature is\",data[\"education_level\"].isnull().sum())"
   ]
  },
  {
   "cell_type": "code",
   "execution_count": 26,
   "id": "0811623e",
   "metadata": {
    "execution": {
     "iopub.execute_input": "2021-10-02T14:03:59.161762Z",
     "iopub.status.busy": "2021-10-02T14:03:59.160990Z",
     "iopub.status.idle": "2021-10-02T14:03:59.164078Z",
     "shell.execute_reply": "2021-10-02T14:03:59.164748Z",
     "shell.execute_reply.started": "2021-10-02T12:31:05.696313Z"
    },
    "papermill": {
     "duration": 0.085552,
     "end_time": "2021-10-02T14:03:59.164930",
     "exception": false,
     "start_time": "2021-10-02T14:03:59.079378",
     "status": "completed"
    },
    "tags": []
   },
   "outputs": [
    {
     "name": "stdout",
     "output_type": "stream",
     "text": [
      "The number of unique values for this feature is: 5\n"
     ]
    }
   ],
   "source": [
    "print(\"The number of unique values for this feature is:\",len(data[\"education_level\"].unique())-1)"
   ]
  },
  {
   "cell_type": "code",
   "execution_count": 27,
   "id": "49275b76",
   "metadata": {
    "execution": {
     "iopub.execute_input": "2021-10-02T14:03:59.334474Z",
     "iopub.status.busy": "2021-10-02T14:03:59.332462Z",
     "iopub.status.idle": "2021-10-02T14:03:59.587858Z",
     "shell.execute_reply": "2021-10-02T14:03:59.587303Z",
     "shell.execute_reply.started": "2021-10-02T12:31:05.706201Z"
    },
    "papermill": {
     "duration": 0.342996,
     "end_time": "2021-10-02T14:03:59.588006",
     "exception": false,
     "start_time": "2021-10-02T14:03:59.245010",
     "status": "completed"
    },
    "tags": []
   },
   "outputs": [
    {
     "data": {
      "text/plain": [
       "<AxesSubplot:xlabel='education_level', ylabel='count'>"
      ]
     },
     "execution_count": 27,
     "metadata": {},
     "output_type": "execute_result"
    },
    {
     "data": {
      "image/png": "[encoded data removed]",
      "text/plain": [
       "<Figure size 576x360 with 1 Axes>"
      ]
     },
     "metadata": {},
     "output_type": "display_data"
    }
   ],
   "source": [
    "plt.figure(figsize=(8, 5))\n",
    "sns.set_style('whitegrid')\n",
    "sns.countplot(x = 'education_level',hue='target',data=data,palette='cool')"
   ]
  },
  {
   "cell_type": "code",
   "execution_count": 28,
   "id": "412d1e37",
   "metadata": {
    "execution": {
     "iopub.execute_input": "2021-10-02T14:03:59.751065Z",
     "iopub.status.busy": "2021-10-02T14:03:59.749867Z",
     "iopub.status.idle": "2021-10-02T14:03:59.756820Z",
     "shell.execute_reply": "2021-10-02T14:03:59.757256Z",
     "shell.execute_reply.started": "2021-10-02T12:31:05.973526Z"
    },
    "papermill": {
     "duration": 0.091041,
     "end_time": "2021-10-02T14:03:59.757388",
     "exception": false,
     "start_time": "2021-10-02T14:03:59.666347",
     "status": "completed"
    },
    "tags": []
   },
   "outputs": [],
   "source": [
    "data[\"education_level\"].fillna(\"Graduate\", inplace = True)\n",
    "\n",
    "\n",
    "edu = pd.get_dummies(data['education_level'])\n",
    "data.drop(['education_level'],axis=1,inplace=True)\n",
    "data = pd.concat([data,edu],axis=1)\n",
    "\n",
    "\n",
    "data.drop(['Phd','Primary School'],axis=1,inplace=True) "
   ]
  },
  {
   "cell_type": "markdown",
   "id": "e5fd15ab",
   "metadata": {
    "papermill": {
     "duration": 0.084638,
     "end_time": "2021-10-02T14:03:59.922154",
     "exception": false,
     "start_time": "2021-10-02T14:03:59.837516",
     "status": "completed"
    },
    "tags": []
   },
   "source": [
    "### 7. Major Discipline\n",
    "#### This feature mentions the education major discipline of the candidate."
   ]
  },
  {
   "cell_type": "code",
   "execution_count": 29,
   "id": "754a2c28",
   "metadata": {
    "execution": {
     "iopub.execute_input": "2021-10-02T14:04:00.092041Z",
     "iopub.status.busy": "2021-10-02T14:04:00.091242Z",
     "iopub.status.idle": "2021-10-02T14:04:00.095010Z",
     "shell.execute_reply": "2021-10-02T14:04:00.095624Z",
     "shell.execute_reply.started": "2021-10-02T12:31:06.67205Z"
    },
    "papermill": {
     "duration": 0.091066,
     "end_time": "2021-10-02T14:04:00.095803",
     "exception": false,
     "start_time": "2021-10-02T14:04:00.004737",
     "status": "completed"
    },
    "tags": []
   },
   "outputs": [
    {
     "name": "stdout",
     "output_type": "stream",
     "text": [
      "The number of missing values for this feature is 151\n"
     ]
    }
   ],
   "source": [
    "print(\"The number of missing values for this feature is\",data[\"major_discipline\"].isnull().sum())"
   ]
  },
  {
   "cell_type": "code",
   "execution_count": 30,
   "id": "0ae9fed4",
   "metadata": {
    "execution": {
     "iopub.execute_input": "2021-10-02T14:04:00.258694Z",
     "iopub.status.busy": "2021-10-02T14:04:00.258002Z",
     "iopub.status.idle": "2021-10-02T14:04:00.260954Z",
     "shell.execute_reply": "2021-10-02T14:04:00.261531Z",
     "shell.execute_reply.started": "2021-10-02T12:31:07.630934Z"
    },
    "papermill": {
     "duration": 0.086342,
     "end_time": "2021-10-02T14:04:00.261733",
     "exception": false,
     "start_time": "2021-10-02T14:04:00.175391",
     "status": "completed"
    },
    "tags": []
   },
   "outputs": [
    {
     "name": "stdout",
     "output_type": "stream",
     "text": [
      "The number of unique values for this feature is: 6\n"
     ]
    }
   ],
   "source": [
    "print(\"The number of unique values for this feature is:\",len(data[\"major_discipline\"].unique())-1)"
   ]
  },
  {
   "cell_type": "code",
   "execution_count": 31,
   "id": "40d07213",
   "metadata": {
    "execution": {
     "iopub.execute_input": "2021-10-02T14:04:00.428268Z",
     "iopub.status.busy": "2021-10-02T14:04:00.427110Z",
     "iopub.status.idle": "2021-10-02T14:04:00.707883Z",
     "shell.execute_reply": "2021-10-02T14:04:00.707295Z",
     "shell.execute_reply.started": "2021-10-02T12:31:07.645547Z"
    },
    "papermill": {
     "duration": 0.367172,
     "end_time": "2021-10-02T14:04:00.708017",
     "exception": false,
     "start_time": "2021-10-02T14:04:00.340845",
     "status": "completed"
    },
    "tags": []
   },
   "outputs": [
    {
     "data": {
      "text/plain": [
       "<AxesSubplot:xlabel='major_discipline', ylabel='count'>"
      ]
     },
     "execution_count": 31,
     "metadata": {},
     "output_type": "execute_result"
    },
    {
     "data": {
      "image/png": "[encoded data removed]",
      "text/plain": [
       "<Figure size 576x360 with 1 Axes>"
      ]
     },
     "metadata": {},
     "output_type": "display_data"
    }
   ],
   "source": [
    "plt.figure(figsize=(8, 5))\n",
    "sns.set_style('whitegrid')\n",
    "sns.countplot(x = 'major_discipline',hue='target',data=data,palette='YlGn')"
   ]
  },
  {
   "cell_type": "code",
   "execution_count": 32,
   "id": "d6bf96a5",
   "metadata": {
    "execution": {
     "iopub.execute_input": "2021-10-02T14:04:00.884582Z",
     "iopub.status.busy": "2021-10-02T14:04:00.880489Z",
     "iopub.status.idle": "2021-10-02T14:04:00.887410Z",
     "shell.execute_reply": "2021-10-02T14:04:00.888162Z",
     "shell.execute_reply.started": "2021-10-02T12:31:07.932271Z"
    },
    "papermill": {
     "duration": 0.097474,
     "end_time": "2021-10-02T14:04:00.888388",
     "exception": false,
     "start_time": "2021-10-02T14:04:00.790914",
     "status": "completed"
    },
    "tags": []
   },
   "outputs": [],
   "source": [
    "data[\"major_discipline\"].fillna(\"STEM\", inplace = True)\n",
    "\n",
    "\n",
    "md = pd.get_dummies(data['major_discipline'])\n",
    "data.drop(['major_discipline'],axis=1,inplace=True)\n",
    "data = pd.concat([data,md],axis=1)\n",
    "\n",
    "\n",
    "data.drop(['Business Degree','Arts','Humanities','No Major','Other'],axis=1,inplace=True) "
   ]
  },
  {
   "cell_type": "markdown",
   "id": "3c7dd50b",
   "metadata": {
    "papermill": {
     "duration": 0.086168,
     "end_time": "2021-10-02T14:04:01.058719",
     "exception": false,
     "start_time": "2021-10-02T14:04:00.972551",
     "status": "completed"
    },
    "tags": []
   },
   "source": [
    "### 8. Experience\n",
    "#### This feature mentions the candidate's total experience in years."
   ]
  },
  {
   "cell_type": "code",
   "execution_count": 33,
   "id": "4a46ce77",
   "metadata": {
    "execution": {
     "iopub.execute_input": "2021-10-02T14:04:01.224624Z",
     "iopub.status.busy": "2021-10-02T14:04:01.224003Z",
     "iopub.status.idle": "2021-10-02T14:04:01.227054Z",
     "shell.execute_reply": "2021-10-02T14:04:01.227709Z",
     "shell.execute_reply.started": "2021-10-02T12:31:08.599857Z"
    },
    "papermill": {
     "duration": 0.088253,
     "end_time": "2021-10-02T14:04:01.227913",
     "exception": false,
     "start_time": "2021-10-02T14:04:01.139660",
     "status": "completed"
    },
    "tags": []
   },
   "outputs": [
    {
     "name": "stdout",
     "output_type": "stream",
     "text": [
      "The number of missing values for this feature is 2\n"
     ]
    }
   ],
   "source": [
    "print(\"The number of missing values for this feature is\",data[\"experience\"].isnull().sum())"
   ]
  },
  {
   "cell_type": "code",
   "execution_count": 34,
   "id": "3a32eb7d",
   "metadata": {
    "execution": {
     "iopub.execute_input": "2021-10-02T14:04:01.402738Z",
     "iopub.status.busy": "2021-10-02T14:04:01.402055Z",
     "iopub.status.idle": "2021-10-02T14:04:01.405184Z",
     "shell.execute_reply": "2021-10-02T14:04:01.405583Z",
     "shell.execute_reply.started": "2021-10-02T12:31:08.610468Z"
    },
    "papermill": {
     "duration": 0.093619,
     "end_time": "2021-10-02T14:04:01.405714",
     "exception": false,
     "start_time": "2021-10-02T14:04:01.312095",
     "status": "completed"
    },
    "tags": []
   },
   "outputs": [
    {
     "name": "stdout",
     "output_type": "stream",
     "text": [
      "The number of unique values for this feature is: 22\n"
     ]
    }
   ],
   "source": [
    "print(\"The number of unique values for this feature is:\",len(data[\"experience\"].unique())-1)"
   ]
  },
  {
   "cell_type": "code",
   "execution_count": 35,
   "id": "7f37041a",
   "metadata": {
    "execution": {
     "iopub.execute_input": "2021-10-02T14:04:01.569609Z",
     "iopub.status.busy": "2021-10-02T14:04:01.569101Z",
     "iopub.status.idle": "2021-10-02T14:04:01.573956Z",
     "shell.execute_reply": "2021-10-02T14:04:01.574724Z",
     "shell.execute_reply.started": "2021-10-02T12:31:09.708534Z"
    },
    "papermill": {
     "duration": 0.091471,
     "end_time": "2021-10-02T14:04:01.574899",
     "exception": false,
     "start_time": "2021-10-02T14:04:01.483428",
     "status": "completed"
    },
    "tags": []
   },
   "outputs": [
    {
     "data": {
      "text/plain": [
       ">20    177\n",
       "4       85\n",
       "5       73\n",
       "9       73\n",
       "3       70\n",
       "2       67\n",
       "6       60\n",
       "7       50\n",
       "10      49\n",
       "8       43\n",
       "15      39\n",
       "11      33\n",
       "14      29\n",
       "12      29\n",
       "1       23\n",
       "<1      21\n",
       "13      20\n",
       "16      16\n",
       "17      13\n",
       "18      13\n",
       "20       8\n",
       "19       7\n",
       "Name: experience, dtype: int64"
      ]
     },
     "execution_count": 35,
     "metadata": {},
     "output_type": "execute_result"
    }
   ],
   "source": [
    "data[\"experience\"].value_counts()"
   ]
  },
  {
   "cell_type": "code",
   "execution_count": 36,
   "id": "0608dea9",
   "metadata": {
    "execution": {
     "iopub.execute_input": "2021-10-02T14:04:01.738839Z",
     "iopub.status.busy": "2021-10-02T14:04:01.737377Z",
     "iopub.status.idle": "2021-10-02T14:04:01.739496Z",
     "shell.execute_reply": "2021-10-02T14:04:01.739905Z",
     "shell.execute_reply.started": "2021-10-02T12:31:09.726814Z"
    },
    "papermill": {
     "duration": 0.087437,
     "end_time": "2021-10-02T14:04:01.740033",
     "exception": false,
     "start_time": "2021-10-02T14:04:01.652596",
     "status": "completed"
    },
    "tags": []
   },
   "outputs": [],
   "source": [
    "data[\"experience\"].fillna(\"20\", inplace = True)\n",
    "\n",
    "data.replace({\"experience\":{\">20\":20,\"<1\":1}},inplace = True)\n",
    "\n",
    "data[\"experience\"] = data[\"experience\"].astype(\"int64\")"
   ]
  },
  {
   "cell_type": "code",
   "execution_count": 37,
   "id": "1626770b",
   "metadata": {
    "execution": {
     "iopub.execute_input": "2021-10-02T14:04:01.902567Z",
     "iopub.status.busy": "2021-10-02T14:04:01.901769Z",
     "iopub.status.idle": "2021-10-02T14:04:02.490857Z",
     "shell.execute_reply": "2021-10-02T14:04:02.491572Z",
     "shell.execute_reply.started": "2021-10-02T12:31:09.738865Z"
    },
    "papermill": {
     "duration": 0.674318,
     "end_time": "2021-10-02T14:04:02.491733",
     "exception": false,
     "start_time": "2021-10-02T14:04:01.817415",
     "status": "completed"
    },
    "tags": []
   },
   "outputs": [
    {
     "data": {
      "text/plain": [
       "<AxesSubplot:xlabel='experience', ylabel='count'>"
      ]
     },
     "execution_count": 37,
     "metadata": {},
     "output_type": "execute_result"
    },
    {
     "data": {
      "image/png": "[encoded data removed]",
      "text/plain": [
       "<Figure size 1152x360 with 1 Axes>"
      ]
     },
     "metadata": {},
     "output_type": "display_data"
    }
   ],
   "source": [
    "plt.figure(figsize=(16, 5))\n",
    "sns.set_style('whitegrid')\n",
    "sns.countplot(x = 'experience',hue=\"target\",data=data,palette='turbo')"
   ]
  },
  {
   "cell_type": "code",
   "execution_count": 38,
   "id": "b772c405",
   "metadata": {
    "execution": {
     "iopub.execute_input": "2021-10-02T14:04:02.657386Z",
     "iopub.status.busy": "2021-10-02T14:04:02.656783Z",
     "iopub.status.idle": "2021-10-02T14:04:02.687048Z",
     "shell.execute_reply": "2021-10-02T14:04:02.686524Z",
     "shell.execute_reply.started": "2021-10-02T12:31:10.758848Z"
    },
    "papermill": {
     "duration": 0.1159,
     "end_time": "2021-10-02T14:04:02.687218",
     "exception": false,
     "start_time": "2021-10-02T14:04:02.571318",
     "status": "completed"
    },
    "tags": []
   },
   "outputs": [],
   "source": [
    "def yearexp(x):\n",
    "    if  (x['experience'])  >= 1 and (x['experience'])  <= 5 :\n",
    "        return 1\n",
    "    elif  (x['experience'])  >= 6 and (x['experience'])  <= 10 :\n",
    "        return 2\n",
    "    elif  (x['experience'])  >= 11 and (x['experience'])  <= 15 :\n",
    "        return 3\n",
    "    else :\n",
    "        return 4\n",
    "\n",
    "data['exp_count'] = data.apply(yearexp, axis = 1)"
   ]
  },
  {
   "cell_type": "code",
   "execution_count": 39,
   "id": "841d938b",
   "metadata": {
    "execution": {
     "iopub.execute_input": "2021-10-02T14:04:02.853291Z",
     "iopub.status.busy": "2021-10-02T14:04:02.852472Z",
     "iopub.status.idle": "2021-10-02T14:04:03.097560Z",
     "shell.execute_reply": "2021-10-02T14:04:03.098181Z",
     "shell.execute_reply.started": "2021-10-02T12:31:10.798225Z"
    },
    "papermill": {
     "duration": 0.332029,
     "end_time": "2021-10-02T14:04:03.098365",
     "exception": false,
     "start_time": "2021-10-02T14:04:02.766336",
     "status": "completed"
    },
    "tags": []
   },
   "outputs": [
    {
     "data": {
      "text/plain": [
       "<AxesSubplot:xlabel='exp_count', ylabel='count'>"
      ]
     },
     "execution_count": 39,
     "metadata": {},
     "output_type": "execute_result"
    },
    {
     "data": {
      "image/png": "[encoded data removed]",
      "text/plain": [
       "<Figure size 720x360 with 1 Axes>"
      ]
     },
     "metadata": {},
     "output_type": "display_data"
    }
   ],
   "source": [
    "plt.figure(figsize=(10, 5))\n",
    "sns.set_style('whitegrid')\n",
    "sns.countplot(x = 'exp_count',hue=\"target\",data=data,palette='rocket')"
   ]
  },
  {
   "cell_type": "code",
   "execution_count": 40,
   "id": "012da0e7",
   "metadata": {
    "execution": {
     "iopub.execute_input": "2021-10-02T14:04:03.265950Z",
     "iopub.status.busy": "2021-10-02T14:04:03.265031Z",
     "iopub.status.idle": "2021-10-02T14:04:03.267288Z",
     "shell.execute_reply": "2021-10-02T14:04:03.267691Z",
     "shell.execute_reply.started": "2021-10-02T12:31:11.049245Z"
    },
    "papermill": {
     "duration": 0.088635,
     "end_time": "2021-10-02T14:04:03.267823",
     "exception": false,
     "start_time": "2021-10-02T14:04:03.179188",
     "status": "completed"
    },
    "tags": []
   },
   "outputs": [],
   "source": [
    "data.drop(['experience'],axis=1,inplace=True) "
   ]
  },
  {
   "cell_type": "code",
   "execution_count": 41,
   "id": "deaa371e",
   "metadata": {
    "execution": {
     "iopub.execute_input": "2021-10-02T14:04:03.536653Z",
     "iopub.status.busy": "2021-10-02T14:04:03.534592Z",
     "iopub.status.idle": "2021-10-02T14:04:03.541119Z",
     "shell.execute_reply": "2021-10-02T14:04:03.541738Z",
     "shell.execute_reply.started": "2021-10-02T12:31:11.722489Z"
    },
    "papermill": {
     "duration": 0.141619,
     "end_time": "2021-10-02T14:04:03.541962",
     "exception": false,
     "start_time": "2021-10-02T14:04:03.400343",
     "status": "completed"
    },
    "tags": []
   },
   "outputs": [],
   "source": [
    "data.drop(['exp_count'],axis=1,inplace=True) "
   ]
  },
  {
   "cell_type": "markdown",
   "id": "6e87eb75",
   "metadata": {
    "papermill": {
     "duration": 0.133479,
     "end_time": "2021-10-02T14:04:03.803781",
     "exception": false,
     "start_time": "2021-10-02T14:04:03.670302",
     "status": "completed"
    },
    "tags": []
   },
   "source": [
    "#### We drop this feature because it does not provide any useful insight."
   ]
  },
  {
   "cell_type": "markdown",
   "id": "6c7da9f2",
   "metadata": {
    "papermill": {
     "duration": 0.140507,
     "end_time": "2021-10-02T14:04:04.080491",
     "exception": false,
     "start_time": "2021-10-02T14:04:03.939984",
     "status": "completed"
    },
    "tags": []
   },
   "source": [
    "### 9. Company Size\n",
    "#### This feature mentions the number of employees in the current employer's company."
   ]
  },
  {
   "cell_type": "code",
   "execution_count": 42,
   "id": "4adcb3f3",
   "metadata": {
    "execution": {
     "iopub.execute_input": "2021-10-02T14:04:04.356747Z",
     "iopub.status.busy": "2021-10-02T14:04:04.355882Z",
     "iopub.status.idle": "2021-10-02T14:04:04.359668Z",
     "shell.execute_reply": "2021-10-02T14:04:04.359012Z",
     "shell.execute_reply.started": "2021-10-02T12:31:11.763665Z"
    },
    "papermill": {
     "duration": 0.145772,
     "end_time": "2021-10-02T14:04:04.359836",
     "exception": false,
     "start_time": "2021-10-02T14:04:04.214064",
     "status": "completed"
    },
    "tags": []
   },
   "outputs": [
    {
     "name": "stdout",
     "output_type": "stream",
     "text": [
      "The number of missing values for this feature is 295\n"
     ]
    }
   ],
   "source": [
    "print(\"The number of missing values for this feature is\",data[\"company_size\"].isnull().sum())"
   ]
  },
  {
   "cell_type": "code",
   "execution_count": 43,
   "id": "2d4bf892",
   "metadata": {
    "execution": {
     "iopub.execute_input": "2021-10-02T14:04:04.577521Z",
     "iopub.status.busy": "2021-10-02T14:04:04.575955Z",
     "iopub.status.idle": "2021-10-02T14:04:04.579748Z",
     "shell.execute_reply": "2021-10-02T14:04:04.579143Z",
     "shell.execute_reply.started": "2021-10-02T12:31:12.719156Z"
    },
    "papermill": {
     "duration": 0.089458,
     "end_time": "2021-10-02T14:04:04.579906",
     "exception": false,
     "start_time": "2021-10-02T14:04:04.490448",
     "status": "completed"
    },
    "tags": []
   },
   "outputs": [
    {
     "name": "stdout",
     "output_type": "stream",
     "text": [
      "The number of unique values for this feature is: 8\n"
     ]
    }
   ],
   "source": [
    "print(\"The number of unique values for this feature is:\",len(data[\"company_size\"].unique())-1)"
   ]
  },
  {
   "cell_type": "code",
   "execution_count": 44,
   "id": "e08f713d",
   "metadata": {
    "execution": {
     "iopub.execute_input": "2021-10-02T14:04:04.751670Z",
     "iopub.status.busy": "2021-10-02T14:04:04.750853Z",
     "iopub.status.idle": "2021-10-02T14:04:05.047823Z",
     "shell.execute_reply": "2021-10-02T14:04:05.047409Z",
     "shell.execute_reply.started": "2021-10-02T12:31:12.730566Z"
    },
    "papermill": {
     "duration": 0.385802,
     "end_time": "2021-10-02T14:04:05.047961",
     "exception": false,
     "start_time": "2021-10-02T14:04:04.662159",
     "status": "completed"
    },
    "tags": []
   },
   "outputs": [
    {
     "data": {
      "text/plain": [
       "<AxesSubplot:xlabel='company_size', ylabel='count'>"
      ]
     },
     "execution_count": 44,
     "metadata": {},
     "output_type": "execute_result"
    },
    {
     "data": {
      "image/png": "[encoded data removed]",
      "text/plain": [
       "<Figure size 576x360 with 1 Axes>"
      ]
     },
     "metadata": {},
     "output_type": "display_data"
    }
   ],
   "source": [
    "plt.figure(figsize=(8, 5))\n",
    "sns.set_style('whitegrid')\n",
    "sns.countplot(x = 'company_size',hue='target',data=data_df,palette='spring')"
   ]
  },
  {
   "cell_type": "code",
   "execution_count": 45,
   "id": "7700589a",
   "metadata": {
    "execution": {
     "iopub.execute_input": "2021-10-02T14:04:05.284788Z",
     "iopub.status.busy": "2021-10-02T14:04:05.283319Z",
     "iopub.status.idle": "2021-10-02T14:04:05.285707Z",
     "shell.execute_reply": "2021-10-02T14:04:05.286402Z",
     "shell.execute_reply.started": "2021-10-02T12:31:13.036737Z"
    },
    "papermill": {
     "duration": 0.156892,
     "end_time": "2021-10-02T14:04:05.286615",
     "exception": false,
     "start_time": "2021-10-02T14:04:05.129723",
     "status": "completed"
    },
    "tags": []
   },
   "outputs": [],
   "source": [
    "data.drop(['company_size'],axis=1,inplace=True) "
   ]
  },
  {
   "cell_type": "markdown",
   "id": "f607a9f3",
   "metadata": {
    "papermill": {
     "duration": 0.14438,
     "end_time": "2021-10-02T14:04:05.591557",
     "exception": false,
     "start_time": "2021-10-02T14:04:05.447177",
     "status": "completed"
    },
    "tags": []
   },
   "source": [
    "### 10. Company Type\n",
    "#### This feature mentions the company type of the employer that wishes to hire."
   ]
  },
  {
   "cell_type": "code",
   "execution_count": 46,
   "id": "abeba99f",
   "metadata": {
    "execution": {
     "iopub.execute_input": "2021-10-02T14:04:05.811450Z",
     "iopub.status.busy": "2021-10-02T14:04:05.809765Z",
     "iopub.status.idle": "2021-10-02T14:04:05.813738Z",
     "shell.execute_reply": "2021-10-02T14:04:05.813114Z",
     "shell.execute_reply.started": "2021-10-02T12:31:13.768936Z"
    },
    "papermill": {
     "duration": 0.091807,
     "end_time": "2021-10-02T14:04:05.813909",
     "exception": false,
     "start_time": "2021-10-02T14:04:05.722102",
     "status": "completed"
    },
    "tags": []
   },
   "outputs": [
    {
     "name": "stdout",
     "output_type": "stream",
     "text": [
      "The number of missing values for this feature is 310\n"
     ]
    }
   ],
   "source": [
    "print(\"The number of missing values for this feature is\",data[\"company_type\"].isnull().sum())"
   ]
  },
  {
   "cell_type": "code",
   "execution_count": 47,
   "id": "d5561a42",
   "metadata": {
    "execution": {
     "iopub.execute_input": "2021-10-02T14:04:05.990044Z",
     "iopub.status.busy": "2021-10-02T14:04:05.989267Z",
     "iopub.status.idle": "2021-10-02T14:04:05.992379Z",
     "shell.execute_reply": "2021-10-02T14:04:05.992968Z",
     "shell.execute_reply.started": "2021-10-02T12:31:14.806847Z"
    },
    "papermill": {
     "duration": 0.095898,
     "end_time": "2021-10-02T14:04:05.993142",
     "exception": false,
     "start_time": "2021-10-02T14:04:05.897244",
     "status": "completed"
    },
    "tags": []
   },
   "outputs": [
    {
     "name": "stdout",
     "output_type": "stream",
     "text": [
      "The number of unique values for this feature is: 6\n"
     ]
    }
   ],
   "source": [
    "print(\"The number of unique values for this feature is:\",len(data[\"company_type\"].unique())-1)"
   ]
  },
  {
   "cell_type": "code",
   "execution_count": 48,
   "id": "d035446f",
   "metadata": {
    "execution": {
     "iopub.execute_input": "2021-10-02T14:04:06.171171Z",
     "iopub.status.busy": "2021-10-02T14:04:06.169471Z",
     "iopub.status.idle": "2021-10-02T14:04:06.447616Z",
     "shell.execute_reply": "2021-10-02T14:04:06.447203Z",
     "shell.execute_reply.started": "2021-10-02T12:31:14.81797Z"
    },
    "papermill": {
     "duration": 0.371287,
     "end_time": "2021-10-02T14:04:06.447737",
     "exception": false,
     "start_time": "2021-10-02T14:04:06.076450",
     "status": "completed"
    },
    "tags": []
   },
   "outputs": [
    {
     "data": {
      "text/plain": [
       "<AxesSubplot:xlabel='company_type', ylabel='count'>"
      ]
     },
     "execution_count": 48,
     "metadata": {},
     "output_type": "execute_result"
    },
    {
     "data": {
      "image/png": "[encoded data removed]",
      "text/plain": [
       "<Figure size 720x360 with 1 Axes>"
      ]
     },
     "metadata": {},
     "output_type": "display_data"
    }
   ],
   "source": [
    "plt.figure(figsize=(10, 5))\n",
    "sns.set_style('whitegrid')\n",
    "sns.countplot(x = 'company_type',hue='target',data=data_df,palette='winter_r')"
   ]
  },
  {
   "cell_type": "code",
   "execution_count": 49,
   "id": "af3a569a",
   "metadata": {
    "execution": {
     "iopub.execute_input": "2021-10-02T14:04:06.620383Z",
     "iopub.status.busy": "2021-10-02T14:04:06.619583Z",
     "iopub.status.idle": "2021-10-02T14:04:06.625440Z",
     "shell.execute_reply": "2021-10-02T14:04:06.625802Z",
     "shell.execute_reply.started": "2021-10-02T12:31:15.093273Z"
    },
    "papermill": {
     "duration": 0.095216,
     "end_time": "2021-10-02T14:04:06.625962",
     "exception": false,
     "start_time": "2021-10-02T14:04:06.530746",
     "status": "completed"
    },
    "tags": []
   },
   "outputs": [],
   "source": [
    "data[\"company_type\"].fillna(\"Pvt Ltd\", inplace = True)\n",
    "\n",
    "\n",
    "ct = pd.get_dummies(data['company_type'])\n",
    "data.drop(['company_type'],axis=1,inplace=True)\n",
    "data = pd.concat([data,ct],axis=1)\n",
    "\n",
    "\n",
    "data.drop(['Funded Startup','Early Stage Startup','NGO','Other'],axis=1,inplace=True) "
   ]
  },
  {
   "cell_type": "markdown",
   "id": "e3c7d0f3",
   "metadata": {
    "papermill": {
     "duration": 0.082389,
     "end_time": "2021-10-02T14:04:06.791304",
     "exception": false,
     "start_time": "2021-10-02T14:04:06.708915",
     "status": "completed"
    },
    "tags": []
   },
   "source": [
    "### 11. Last New Job\n",
    "#### This feature mentions the difference in years between previous job and current job."
   ]
  },
  {
   "cell_type": "code",
   "execution_count": 50,
   "id": "ca8ee853",
   "metadata": {
    "execution": {
     "iopub.execute_input": "2021-10-02T14:04:06.963145Z",
     "iopub.status.busy": "2021-10-02T14:04:06.962568Z",
     "iopub.status.idle": "2021-10-02T14:04:06.965639Z",
     "shell.execute_reply": "2021-10-02T14:04:06.966021Z",
     "shell.execute_reply.started": "2021-10-02T12:31:15.86717Z"
    },
    "papermill": {
     "duration": 0.092508,
     "end_time": "2021-10-02T14:04:06.966157",
     "exception": false,
     "start_time": "2021-10-02T14:04:06.873649",
     "status": "completed"
    },
    "tags": []
   },
   "outputs": [
    {
     "name": "stdout",
     "output_type": "stream",
     "text": [
      "The number of missing values for this feature is 17\n"
     ]
    }
   ],
   "source": [
    "print(\"The number of missing values for this feature is\",data[\"last_new_job\"].isnull().sum())"
   ]
  },
  {
   "cell_type": "code",
   "execution_count": 51,
   "id": "db95a2c4",
   "metadata": {
    "execution": {
     "iopub.execute_input": "2021-10-02T14:04:07.138499Z",
     "iopub.status.busy": "2021-10-02T14:04:07.137836Z",
     "iopub.status.idle": "2021-10-02T14:04:07.141455Z",
     "shell.execute_reply": "2021-10-02T14:04:07.141025Z",
     "shell.execute_reply.started": "2021-10-02T12:31:16.936237Z"
    },
    "papermill": {
     "duration": 0.091809,
     "end_time": "2021-10-02T14:04:07.141566",
     "exception": false,
     "start_time": "2021-10-02T14:04:07.049757",
     "status": "completed"
    },
    "tags": []
   },
   "outputs": [
    {
     "name": "stdout",
     "output_type": "stream",
     "text": [
      "The number of unique values for this feature is: 6\n"
     ]
    }
   ],
   "source": [
    "print(\"The number of unique values for this feature is:\",len(data[\"last_new_job\"].unique())-1)"
   ]
  },
  {
   "cell_type": "code",
   "execution_count": 52,
   "id": "cb95d552",
   "metadata": {
    "execution": {
     "iopub.execute_input": "2021-10-02T14:04:07.311779Z",
     "iopub.status.busy": "2021-10-02T14:04:07.311007Z",
     "iopub.status.idle": "2021-10-02T14:04:07.582924Z",
     "shell.execute_reply": "2021-10-02T14:04:07.583597Z",
     "shell.execute_reply.started": "2021-10-02T12:31:16.945122Z"
    },
    "papermill": {
     "duration": 0.358246,
     "end_time": "2021-10-02T14:04:07.583767",
     "exception": false,
     "start_time": "2021-10-02T14:04:07.225521",
     "status": "completed"
    },
    "tags": []
   },
   "outputs": [
    {
     "data": {
      "text/plain": [
       "<AxesSubplot:xlabel='last_new_job', ylabel='count'>"
      ]
     },
     "execution_count": 52,
     "metadata": {},
     "output_type": "execute_result"
    },
    {
     "data": {
      "image/png": "[encoded data removed]",
      "text/plain": [
       "<Figure size 720x360 with 1 Axes>"
      ]
     },
     "metadata": {},
     "output_type": "display_data"
    }
   ],
   "source": [
    "plt.figure(figsize=(10, 5))\n",
    "sns.set_style('whitegrid')\n",
    "sns.countplot(x = 'last_new_job',hue='target',data=data_df,palette='bwr')"
   ]
  },
  {
   "cell_type": "code",
   "execution_count": 53,
   "id": "210c3cac",
   "metadata": {
    "execution": {
     "iopub.execute_input": "2021-10-02T14:04:07.758077Z",
     "iopub.status.busy": "2021-10-02T14:04:07.757206Z",
     "iopub.status.idle": "2021-10-02T14:04:07.759655Z",
     "shell.execute_reply": "2021-10-02T14:04:07.759198Z",
     "shell.execute_reply.started": "2021-10-02T12:31:17.227237Z"
    },
    "papermill": {
     "duration": 0.091597,
     "end_time": "2021-10-02T14:04:07.759767",
     "exception": false,
     "start_time": "2021-10-02T14:04:07.668170",
     "status": "completed"
    },
    "tags": []
   },
   "outputs": [],
   "source": [
    "data.drop(['last_new_job'],axis=1,inplace=True) "
   ]
  },
  {
   "cell_type": "markdown",
   "id": "5a838341",
   "metadata": {
    "papermill": {
     "duration": 0.085882,
     "end_time": "2021-10-02T14:04:07.931629",
     "exception": false,
     "start_time": "2021-10-02T14:04:07.845747",
     "status": "completed"
    },
    "tags": []
   },
   "source": [
    "### 12. Training Hours\n",
    "#### This features mentions the training hours completed by the candidate."
   ]
  },
  {
   "cell_type": "code",
   "execution_count": 54,
   "id": "87dd0a4b",
   "metadata": {
    "execution": {
     "iopub.execute_input": "2021-10-02T14:04:08.121576Z",
     "iopub.status.busy": "2021-10-02T14:04:08.120784Z",
     "iopub.status.idle": "2021-10-02T14:04:08.124304Z",
     "shell.execute_reply": "2021-10-02T14:04:08.124850Z",
     "shell.execute_reply.started": "2021-10-02T12:31:17.9335Z"
    },
    "papermill": {
     "duration": 0.099002,
     "end_time": "2021-10-02T14:04:08.125016",
     "exception": false,
     "start_time": "2021-10-02T14:04:08.026014",
     "status": "completed"
    },
    "tags": []
   },
   "outputs": [
    {
     "name": "stdout",
     "output_type": "stream",
     "text": [
      "The number of missing values for this feature is 0\n"
     ]
    }
   ],
   "source": [
    "print(\"The number of missing values for this feature is\",data[\"training_hours\"].isnull().sum())"
   ]
  },
  {
   "cell_type": "code",
   "execution_count": 55,
   "id": "b6adbe70",
   "metadata": {
    "execution": {
     "iopub.execute_input": "2021-10-02T14:04:08.302750Z",
     "iopub.status.busy": "2021-10-02T14:04:08.302193Z",
     "iopub.status.idle": "2021-10-02T14:04:08.306907Z",
     "shell.execute_reply": "2021-10-02T14:04:08.306274Z",
     "shell.execute_reply.started": "2021-10-02T12:31:17.996797Z"
    },
    "papermill": {
     "duration": 0.093991,
     "end_time": "2021-10-02T14:04:08.307067",
     "exception": false,
     "start_time": "2021-10-02T14:04:08.213076",
     "status": "completed"
    },
    "tags": []
   },
   "outputs": [
    {
     "name": "stdout",
     "output_type": "stream",
     "text": [
      "The number of unique values for this feature is: 187\n"
     ]
    }
   ],
   "source": [
    "print(\"The number of unique values for this feature is:\",len(data[\"training_hours\"].unique())-1)"
   ]
  },
  {
   "cell_type": "code",
   "execution_count": 56,
   "id": "993f335a",
   "metadata": {
    "execution": {
     "iopub.execute_input": "2021-10-02T14:04:08.486316Z",
     "iopub.status.busy": "2021-10-02T14:04:08.482594Z",
     "iopub.status.idle": "2021-10-02T14:04:08.810953Z",
     "shell.execute_reply": "2021-10-02T14:04:08.810519Z",
     "shell.execute_reply.started": "2021-10-02T12:31:18.961621Z"
    },
    "papermill": {
     "duration": 0.418934,
     "end_time": "2021-10-02T14:04:08.811080",
     "exception": false,
     "start_time": "2021-10-02T14:04:08.392146",
     "status": "completed"
    },
    "tags": []
   },
   "outputs": [
    {
     "data": {
      "text/plain": [
       "<AxesSubplot:xlabel='training_hours', ylabel='Density'>"
      ]
     },
     "execution_count": 56,
     "metadata": {},
     "output_type": "execute_result"
    },
    {
     "data": {
      "image/png": "[encoded data removed]",
      "text/plain": [
       "<Figure size 864x360 with 1 Axes>"
      ]
     },
     "metadata": {},
     "output_type": "display_data"
    }
   ],
   "source": [
    "plt.figure(figsize=(12, 5))\n",
    "sns.set_style('whitegrid')\n",
    "sns.kdeplot(data=data, x=\"training_hours\", hue=\"target\",cut = 0,palette='Set1')"
   ]
  },
  {
   "cell_type": "markdown",
   "id": "1d924778",
   "metadata": {
    "papermill": {
     "duration": 0.087242,
     "end_time": "2021-10-02T14:04:08.985536",
     "exception": false,
     "start_time": "2021-10-02T14:04:08.898294",
     "status": "completed"
    },
    "tags": []
   },
   "source": [
    "#### Here we can see that employees with fewer training hours have a lower probability of switching their jobs."
   ]
  },
  {
   "cell_type": "markdown",
   "id": "17951376",
   "metadata": {
    "papermill": {
     "duration": 0.087329,
     "end_time": "2021-10-02T14:04:09.160150",
     "exception": false,
     "start_time": "2021-10-02T14:04:09.072821",
     "status": "completed"
    },
    "tags": []
   },
   "source": [
    "### Additional EDA"
   ]
  },
  {
   "cell_type": "code",
   "execution_count": 57,
   "id": "565c61a5",
   "metadata": {
    "execution": {
     "iopub.execute_input": "2021-10-02T14:04:09.344601Z",
     "iopub.status.busy": "2021-10-02T14:04:09.343732Z",
     "iopub.status.idle": "2021-10-02T14:04:09.674350Z",
     "shell.execute_reply": "2021-10-02T14:04:09.673930Z",
     "shell.execute_reply.started": "2021-10-02T12:56:37.933422Z"
    },
    "papermill": {
     "duration": 0.427144,
     "end_time": "2021-10-02T14:04:09.674472",
     "exception": false,
     "start_time": "2021-10-02T14:04:09.247328",
     "status": "completed"
    },
    "tags": []
   },
   "outputs": [
    {
     "data": {
      "text/plain": [
       "<AxesSubplot:xlabel='training_hours', ylabel='Density'>"
      ]
     },
     "execution_count": 57,
     "metadata": {},
     "output_type": "execute_result"
    },
    {
     "data": {
      "image/png": "[encoded data removed]",
      "text/plain": [
       "<Figure size 864x360 with 1 Axes>"
      ]
     },
     "metadata": {},
     "output_type": "display_data"
    }
   ],
   "source": [
    "plt.figure(figsize=(12, 5))\n",
    "sns.kdeplot(data=data_df, x=\"training_hours\", hue=\"relevent_experience\",cut = 0,palette='Set2')"
   ]
  },
  {
   "cell_type": "markdown",
   "id": "4a76b9fe",
   "metadata": {
    "papermill": {
     "duration": 0.0879,
     "end_time": "2021-10-02T14:04:09.850186",
     "exception": false,
     "start_time": "2021-10-02T14:04:09.762286",
     "status": "completed"
    },
    "tags": []
   },
   "source": [
    "#### The above visualization shows that there are a greater number of employees with relevant experience with lower training hours."
   ]
  },
  {
   "cell_type": "code",
   "execution_count": 58,
   "id": "717ef5d8",
   "metadata": {
    "execution": {
     "iopub.execute_input": "2021-10-02T14:04:10.054841Z",
     "iopub.status.busy": "2021-10-02T14:04:10.038874Z",
     "iopub.status.idle": "2021-10-02T14:04:10.312950Z",
     "shell.execute_reply": "2021-10-02T14:04:10.312480Z",
     "shell.execute_reply.started": "2021-10-02T12:31:20.327674Z"
    },
    "papermill": {
     "duration": 0.375499,
     "end_time": "2021-10-02T14:04:10.313084",
     "exception": false,
     "start_time": "2021-10-02T14:04:09.937585",
     "status": "completed"
    },
    "tags": []
   },
   "outputs": [
    {
     "data": {
      "text/plain": [
       "<AxesSubplot:xlabel='education_level', ylabel='count'>"
      ]
     },
     "execution_count": 58,
     "metadata": {},
     "output_type": "execute_result"
    },
    {
     "data": {
      "image/png": "[encoded data removed]",
      "text/plain": [
       "<Figure size 576x432 with 1 Axes>"
      ]
     },
     "metadata": {},
     "output_type": "display_data"
    }
   ],
   "source": [
    "plt.figure(figsize=(8, 6))\n",
    "sns.set_style('whitegrid')\n",
    "sns.countplot(x = 'education_level',hue='relevent_experience',data=data_df,palette='PuRd')"
   ]
  },
  {
   "cell_type": "markdown",
   "id": "31725878",
   "metadata": {
    "papermill": {
     "duration": 0.088934,
     "end_time": "2021-10-02T14:04:10.491606",
     "exception": false,
     "start_time": "2021-10-02T14:04:10.402672",
     "status": "completed"
    },
    "tags": []
   },
   "source": [
    "#### Here we can see that graduates had more relevant experience compared to others."
   ]
  },
  {
   "cell_type": "markdown",
   "id": "987e069e",
   "metadata": {
    "papermill": {
     "duration": 0.088315,
     "end_time": "2021-10-02T14:04:10.668209",
     "exception": false,
     "start_time": "2021-10-02T14:04:10.579894",
     "status": "completed"
    },
    "tags": []
   },
   "source": [
    "### Looking at data after preprocessing "
   ]
  },
  {
   "cell_type": "code",
   "execution_count": 59,
   "id": "9740c1a6",
   "metadata": {
    "execution": {
     "iopub.execute_input": "2021-10-02T14:04:10.861569Z",
     "iopub.status.busy": "2021-10-02T14:04:10.860405Z",
     "iopub.status.idle": "2021-10-02T14:04:10.863534Z",
     "shell.execute_reply": "2021-10-02T14:04:10.863945Z",
     "shell.execute_reply.started": "2021-10-02T12:31:21.995987Z"
    },
    "papermill": {
     "duration": 0.106885,
     "end_time": "2021-10-02T14:04:10.864077",
     "exception": false,
     "start_time": "2021-10-02T14:04:10.757192",
     "status": "completed"
    },
    "tags": []
   },
   "outputs": [
    {
     "data": {
      "text/html": [
       "<div>\n",
       "<style scoped>\n",
       "    .dataframe tbody tr th:only-of-type {\n",
       "        vertical-align: middle;\n",
       "    }\n",
       "\n",
       "    .dataframe tbody tr th {\n",
       "        vertical-align: top;\n",
       "    }\n",
       "\n",
       "    .dataframe thead th {\n",
       "        text-align: right;\n",
       "    }\n",
       "</style>\n",
       "<table border=\"1\" class=\"dataframe\">\n",
       "  <thead>\n",
       "    <tr style=\"text-align: right;\">\n",
       "      <th></th>\n",
       "      <th>city_development_index</th>\n",
       "      <th>training_hours</th>\n",
       "      <th>target</th>\n",
       "      <th>Female</th>\n",
       "      <th>Male</th>\n",
       "      <th>Has relevent experience</th>\n",
       "      <th>Full time course</th>\n",
       "      <th>no_enrollment</th>\n",
       "      <th>Graduate</th>\n",
       "      <th>High School</th>\n",
       "      <th>Masters</th>\n",
       "      <th>STEM</th>\n",
       "      <th>Public Sector</th>\n",
       "      <th>Pvt Ltd</th>\n",
       "    </tr>\n",
       "  </thead>\n",
       "  <tbody>\n",
       "    <tr>\n",
       "      <th>0</th>\n",
       "      <td>0.920</td>\n",
       "      <td>36</td>\n",
       "      <td>1.0</td>\n",
       "      <td>0</td>\n",
       "      <td>1</td>\n",
       "      <td>1</td>\n",
       "      <td>0</td>\n",
       "      <td>1</td>\n",
       "      <td>1</td>\n",
       "      <td>0</td>\n",
       "      <td>0</td>\n",
       "      <td>1</td>\n",
       "      <td>0</td>\n",
       "      <td>1</td>\n",
       "    </tr>\n",
       "    <tr>\n",
       "      <th>1</th>\n",
       "      <td>0.776</td>\n",
       "      <td>47</td>\n",
       "      <td>0.0</td>\n",
       "      <td>0</td>\n",
       "      <td>1</td>\n",
       "      <td>0</td>\n",
       "      <td>0</td>\n",
       "      <td>1</td>\n",
       "      <td>1</td>\n",
       "      <td>0</td>\n",
       "      <td>0</td>\n",
       "      <td>1</td>\n",
       "      <td>0</td>\n",
       "      <td>1</td>\n",
       "    </tr>\n",
       "    <tr>\n",
       "      <th>2</th>\n",
       "      <td>0.624</td>\n",
       "      <td>83</td>\n",
       "      <td>0.0</td>\n",
       "      <td>0</td>\n",
       "      <td>1</td>\n",
       "      <td>0</td>\n",
       "      <td>1</td>\n",
       "      <td>0</td>\n",
       "      <td>1</td>\n",
       "      <td>0</td>\n",
       "      <td>0</td>\n",
       "      <td>1</td>\n",
       "      <td>0</td>\n",
       "      <td>1</td>\n",
       "    </tr>\n",
       "    <tr>\n",
       "      <th>3</th>\n",
       "      <td>0.789</td>\n",
       "      <td>52</td>\n",
       "      <td>1.0</td>\n",
       "      <td>0</td>\n",
       "      <td>1</td>\n",
       "      <td>0</td>\n",
       "      <td>0</td>\n",
       "      <td>1</td>\n",
       "      <td>1</td>\n",
       "      <td>0</td>\n",
       "      <td>0</td>\n",
       "      <td>0</td>\n",
       "      <td>0</td>\n",
       "      <td>1</td>\n",
       "    </tr>\n",
       "    <tr>\n",
       "      <th>4</th>\n",
       "      <td>0.767</td>\n",
       "      <td>8</td>\n",
       "      <td>0.0</td>\n",
       "      <td>0</td>\n",
       "      <td>1</td>\n",
       "      <td>1</td>\n",
       "      <td>0</td>\n",
       "      <td>1</td>\n",
       "      <td>0</td>\n",
       "      <td>0</td>\n",
       "      <td>1</td>\n",
       "      <td>1</td>\n",
       "      <td>0</td>\n",
       "      <td>0</td>\n",
       "    </tr>\n",
       "  </tbody>\n",
       "</table>\n",
       "</div>"
      ],
      "text/plain": [
       "   city_development_index  training_hours  target  Female  Male  \\\n",
       "0                   0.920              36     1.0       0     1   \n",
       "1                   0.776              47     0.0       0     1   \n",
       "2                   0.624              83     0.0       0     1   \n",
       "3                   0.789              52     1.0       0     1   \n",
       "4                   0.767               8     0.0       0     1   \n",
       "\n",
       "   Has relevent experience  Full time course  no_enrollment  Graduate  \\\n",
       "0                        1                 0              1         1   \n",
       "1                        0                 0              1         1   \n",
       "2                        0                 1              0         1   \n",
       "3                        0                 0              1         1   \n",
       "4                        1                 0              1         0   \n",
       "\n",
       "   High School  Masters  STEM  Public Sector  Pvt Ltd  \n",
       "0            0        0     1              0        1  \n",
       "1            0        0     1              0        1  \n",
       "2            0        0     1              0        1  \n",
       "3            0        0     0              0        1  \n",
       "4            0        1     1              0        0  "
      ]
     },
     "execution_count": 59,
     "metadata": {},
     "output_type": "execute_result"
    }
   ],
   "source": [
    "data.head()"
   ]
  },
  {
   "cell_type": "code",
   "execution_count": 60,
   "id": "56360c58",
   "metadata": {
    "execution": {
     "iopub.execute_input": "2021-10-02T14:04:11.057953Z",
     "iopub.status.busy": "2021-10-02T14:04:11.057163Z",
     "iopub.status.idle": "2021-10-02T14:04:11.059734Z",
     "shell.execute_reply": "2021-10-02T14:04:11.059320Z",
     "shell.execute_reply.started": "2021-10-02T12:31:23.074531Z"
    },
    "papermill": {
     "duration": 0.105439,
     "end_time": "2021-10-02T14:04:11.059883",
     "exception": false,
     "start_time": "2021-10-02T14:04:10.954444",
     "status": "completed"
    },
    "tags": []
   },
   "outputs": [],
   "source": [
    "data.drop(['target'],axis=1,inplace=True)"
   ]
  },
  {
   "cell_type": "code",
   "execution_count": 61,
   "id": "26920170",
   "metadata": {
    "execution": {
     "iopub.execute_input": "2021-10-02T14:04:11.249118Z",
     "iopub.status.busy": "2021-10-02T14:04:11.248499Z",
     "iopub.status.idle": "2021-10-02T14:04:11.252297Z",
     "shell.execute_reply": "2021-10-02T14:04:11.252659Z",
     "shell.execute_reply.started": "2021-10-02T12:31:23.089526Z"
    },
    "papermill": {
     "duration": 0.102458,
     "end_time": "2021-10-02T14:04:11.252791",
     "exception": false,
     "start_time": "2021-10-02T14:04:11.150333",
     "status": "completed"
    },
    "tags": []
   },
   "outputs": [
    {
     "data": {
      "text/plain": [
       "city_development_index     0\n",
       "training_hours             0\n",
       "Female                     0\n",
       "Male                       0\n",
       "Has relevent experience    0\n",
       "Full time course           0\n",
       "no_enrollment              0\n",
       "Graduate                   0\n",
       "High School                0\n",
       "Masters                    0\n",
       "STEM                       0\n",
       "Public Sector              0\n",
       "Pvt Ltd                    0\n",
       "dtype: int64"
      ]
     },
     "execution_count": 61,
     "metadata": {},
     "output_type": "execute_result"
    }
   ],
   "source": [
    "data.isnull().sum()"
   ]
  },
  {
   "cell_type": "markdown",
   "id": "50e1a690",
   "metadata": {
    "papermill": {
     "duration": 0.089245,
     "end_time": "2021-10-02T14:04:11.431282",
     "exception": false,
     "start_time": "2021-10-02T14:04:11.342037",
     "status": "completed"
    },
    "tags": []
   },
   "source": [
    "## Applying Normalization"
   ]
  },
  {
   "cell_type": "markdown",
   "id": "03cca4d2",
   "metadata": {
    "papermill": {
     "duration": 0.088939,
     "end_time": "2021-10-02T14:04:11.610010",
     "exception": false,
     "start_time": "2021-10-02T14:04:11.521071",
     "status": "completed"
    },
    "tags": []
   },
   "source": [
    "#### Normalization only needs to be applied to the \"training_hours\" feature, as all the rest of the features are already scaled and preprocessed."
   ]
  },
  {
   "cell_type": "code",
   "execution_count": 62,
   "id": "82307fa5",
   "metadata": {
    "execution": {
     "iopub.execute_input": "2021-10-02T14:04:11.794318Z",
     "iopub.status.busy": "2021-10-02T14:04:11.793636Z",
     "iopub.status.idle": "2021-10-02T14:04:11.880498Z",
     "shell.execute_reply": "2021-10-02T14:04:11.880067Z",
     "shell.execute_reply.started": "2021-10-02T12:31:24.988978Z"
    },
    "papermill": {
     "duration": 0.181356,
     "end_time": "2021-10-02T14:04:11.880621",
     "exception": false,
     "start_time": "2021-10-02T14:04:11.699265",
     "status": "completed"
    },
    "tags": []
   },
   "outputs": [],
   "source": [
    "from sklearn.preprocessing import MinMaxScaler\n",
    "data[\"training_hours\"] = MinMaxScaler().fit_transform(np.array(data[\"training_hours\"]).reshape(-1,1))"
   ]
  },
  {
   "cell_type": "code",
   "execution_count": 63,
   "id": "249fcf31",
   "metadata": {
    "execution": {
     "iopub.execute_input": "2021-10-02T14:04:12.074783Z",
     "iopub.status.busy": "2021-10-02T14:04:12.074149Z",
     "iopub.status.idle": "2021-10-02T14:04:12.077272Z",
     "shell.execute_reply": "2021-10-02T14:04:12.077695Z",
     "shell.execute_reply.started": "2021-10-02T12:31:25.938787Z"
    },
    "papermill": {
     "duration": 0.10707,
     "end_time": "2021-10-02T14:04:12.077836",
     "exception": false,
     "start_time": "2021-10-02T14:04:11.970766",
     "status": "completed"
    },
    "tags": []
   },
   "outputs": [
    {
     "data": {
      "text/html": [
       "<div>\n",
       "<style scoped>\n",
       "    .dataframe tbody tr th:only-of-type {\n",
       "        vertical-align: middle;\n",
       "    }\n",
       "\n",
       "    .dataframe tbody tr th {\n",
       "        vertical-align: top;\n",
       "    }\n",
       "\n",
       "    .dataframe thead th {\n",
       "        text-align: right;\n",
       "    }\n",
       "</style>\n",
       "<table border=\"1\" class=\"dataframe\">\n",
       "  <thead>\n",
       "    <tr style=\"text-align: right;\">\n",
       "      <th></th>\n",
       "      <th>city_development_index</th>\n",
       "      <th>training_hours</th>\n",
       "      <th>Female</th>\n",
       "      <th>Male</th>\n",
       "      <th>Has relevent experience</th>\n",
       "      <th>Full time course</th>\n",
       "      <th>no_enrollment</th>\n",
       "      <th>Graduate</th>\n",
       "      <th>High School</th>\n",
       "      <th>Masters</th>\n",
       "      <th>STEM</th>\n",
       "      <th>Public Sector</th>\n",
       "      <th>Pvt Ltd</th>\n",
       "    </tr>\n",
       "  </thead>\n",
       "  <tbody>\n",
       "    <tr>\n",
       "      <th>0</th>\n",
       "      <td>0.920</td>\n",
       "      <td>0.103030</td>\n",
       "      <td>0</td>\n",
       "      <td>1</td>\n",
       "      <td>1</td>\n",
       "      <td>0</td>\n",
       "      <td>1</td>\n",
       "      <td>1</td>\n",
       "      <td>0</td>\n",
       "      <td>0</td>\n",
       "      <td>1</td>\n",
       "      <td>0</td>\n",
       "      <td>1</td>\n",
       "    </tr>\n",
       "    <tr>\n",
       "      <th>1</th>\n",
       "      <td>0.776</td>\n",
       "      <td>0.136364</td>\n",
       "      <td>0</td>\n",
       "      <td>1</td>\n",
       "      <td>0</td>\n",
       "      <td>0</td>\n",
       "      <td>1</td>\n",
       "      <td>1</td>\n",
       "      <td>0</td>\n",
       "      <td>0</td>\n",
       "      <td>1</td>\n",
       "      <td>0</td>\n",
       "      <td>1</td>\n",
       "    </tr>\n",
       "    <tr>\n",
       "      <th>2</th>\n",
       "      <td>0.624</td>\n",
       "      <td>0.245455</td>\n",
       "      <td>0</td>\n",
       "      <td>1</td>\n",
       "      <td>0</td>\n",
       "      <td>1</td>\n",
       "      <td>0</td>\n",
       "      <td>1</td>\n",
       "      <td>0</td>\n",
       "      <td>0</td>\n",
       "      <td>1</td>\n",
       "      <td>0</td>\n",
       "      <td>1</td>\n",
       "    </tr>\n",
       "    <tr>\n",
       "      <th>3</th>\n",
       "      <td>0.789</td>\n",
       "      <td>0.151515</td>\n",
       "      <td>0</td>\n",
       "      <td>1</td>\n",
       "      <td>0</td>\n",
       "      <td>0</td>\n",
       "      <td>1</td>\n",
       "      <td>1</td>\n",
       "      <td>0</td>\n",
       "      <td>0</td>\n",
       "      <td>0</td>\n",
       "      <td>0</td>\n",
       "      <td>1</td>\n",
       "    </tr>\n",
       "    <tr>\n",
       "      <th>4</th>\n",
       "      <td>0.767</td>\n",
       "      <td>0.018182</td>\n",
       "      <td>0</td>\n",
       "      <td>1</td>\n",
       "      <td>1</td>\n",
       "      <td>0</td>\n",
       "      <td>1</td>\n",
       "      <td>0</td>\n",
       "      <td>0</td>\n",
       "      <td>1</td>\n",
       "      <td>1</td>\n",
       "      <td>0</td>\n",
       "      <td>0</td>\n",
       "    </tr>\n",
       "  </tbody>\n",
       "</table>\n",
       "</div>"
      ],
      "text/plain": [
       "   city_development_index  training_hours  Female  Male  \\\n",
       "0                   0.920        0.103030       0     1   \n",
       "1                   0.776        0.136364       0     1   \n",
       "2                   0.624        0.245455       0     1   \n",
       "3                   0.789        0.151515       0     1   \n",
       "4                   0.767        0.018182       0     1   \n",
       "\n",
       "   Has relevent experience  Full time course  no_enrollment  Graduate  \\\n",
       "0                        1                 0              1         1   \n",
       "1                        0                 0              1         1   \n",
       "2                        0                 1              0         1   \n",
       "3                        0                 0              1         1   \n",
       "4                        1                 0              1         0   \n",
       "\n",
       "   High School  Masters  STEM  Public Sector  Pvt Ltd  \n",
       "0            0        0     1              0        1  \n",
       "1            0        0     1              0        1  \n",
       "2            0        0     1              0        1  \n",
       "3            0        0     0              0        1  \n",
       "4            0        1     1              0        0  "
      ]
     },
     "execution_count": 63,
     "metadata": {},
     "output_type": "execute_result"
    }
   ],
   "source": [
    "data.head()"
   ]
  },
  {
   "cell_type": "markdown",
   "id": "0ac2efbf",
   "metadata": {
    "papermill": {
     "duration": 0.092623,
     "end_time": "2021-10-02T14:04:12.276164",
     "exception": false,
     "start_time": "2021-10-02T14:04:12.183541",
     "status": "completed"
    },
    "tags": []
   },
   "source": [
    "# Model Training"
   ]
  },
  {
   "cell_type": "code",
   "execution_count": 64,
   "id": "3f7ab167",
   "metadata": {
    "execution": {
     "iopub.execute_input": "2021-10-02T14:04:12.463433Z",
     "iopub.status.busy": "2021-10-02T14:04:12.462673Z",
     "iopub.status.idle": "2021-10-02T14:04:12.638140Z",
     "shell.execute_reply": "2021-10-02T14:04:12.637171Z",
     "shell.execute_reply.started": "2021-10-02T12:31:27.024632Z"
    },
    "papermill": {
     "duration": 0.272378,
     "end_time": "2021-10-02T14:04:12.638269",
     "exception": false,
     "start_time": "2021-10-02T14:04:12.365891",
     "status": "completed"
    },
    "tags": []
   },
   "outputs": [],
   "source": [
    "from sklearn import svm\n",
    "from sklearn.linear_model import LogisticRegression\n",
    "from sklearn.ensemble import RandomForestClassifier, AdaBoostClassifier\n",
    "from sklearn.tree import DecisionTreeClassifier\n",
    "from sklearn.neighbors import KNeighborsClassifier\n",
    "from sklearn.ensemble import GradientBoostingClassifier\n",
    "from sklearn import metrics\n",
    "from sklearn.metrics import accuracy_score\n",
    "from sklearn.model_selection import KFold, cross_val_score\n",
    "from sklearn.metrics import confusion_matrix\n",
    "\n",
    "classifiers = ['LinearSVM', 'RadialSVM', \n",
    "               'Logistic',  'RandomForest', \n",
    "               'KNeighbors','DecisionTree', \n",
    "               'GradientBoosting']\n",
    "\n",
    "models = [svm.SVC(kernel='linear'),\n",
    "          svm.SVC(kernel='rbf'),\n",
    "          LogisticRegression(max_iter = 1000),\n",
    "          RandomForestClassifier(n_estimators=200, random_state=0),\n",
    "          DecisionTreeClassifier(random_state=0),\n",
    "          KNeighborsClassifier(),\n",
    "          GradientBoostingClassifier(random_state=0)]\n"
   ]
  },
  {
   "cell_type": "code",
   "execution_count": 65,
   "id": "d53a6b2d",
   "metadata": {
    "execution": {
     "iopub.execute_input": "2021-10-02T14:04:12.827861Z",
     "iopub.status.busy": "2021-10-02T14:04:12.826180Z",
     "iopub.status.idle": "2021-10-02T14:04:12.828456Z",
     "shell.execute_reply": "2021-10-02T14:04:12.828843Z",
     "shell.execute_reply.started": "2021-10-02T12:31:27.206037Z"
    },
    "papermill": {
     "duration": 0.100324,
     "end_time": "2021-10-02T14:04:12.828998",
     "exception": false,
     "start_time": "2021-10-02T14:04:12.728674",
     "status": "completed"
    },
    "tags": []
   },
   "outputs": [],
   "source": [
    "from sklearn.model_selection import train_test_split\n",
    "def split(df,label):\n",
    "    X_tr, X_te, Y_tr, Y_te = train_test_split(df, label, test_size=0.25, random_state=42)\n",
    "    return X_tr, X_te, Y_tr, Y_te\n",
    "\n",
    "def acc_score(df,label):\n",
    "    Score = pd.DataFrame({\"Classifier\":classifiers})\n",
    "    j = 0\n",
    "    acc = []\n",
    "    X_train,X_test,Y_train,Y_test = split(df,label)\n",
    "    for i in models:\n",
    "        model = i\n",
    "        model.fit(X_train,Y_train)\n",
    "        predictions = model.predict(X_test)\n",
    "        acc.append(accuracy_score(Y_test,predictions))\n",
    "        j = j+1     \n",
    "    Score[\"Accuracy\"] = acc\n",
    "    Score.sort_values(by=\"Accuracy\", ascending=False,inplace = True)\n",
    "    Score.reset_index(drop=True, inplace=True)\n",
    "    return Score"
   ]
  },
  {
   "cell_type": "markdown",
   "id": "1daac27a",
   "metadata": {
    "papermill": {
     "duration": 0.093357,
     "end_time": "2021-10-02T14:04:13.012628",
     "exception": false,
     "start_time": "2021-10-02T14:04:12.919271",
     "status": "completed"
    },
    "tags": []
   },
   "source": [
    "## Feature Importance\n",
    "#### Checking the feature importance using 'Random Forest Feature Importance'."
   ]
  },
  {
   "cell_type": "code",
   "execution_count": 66,
   "id": "c83691c2",
   "metadata": {
    "execution": {
     "iopub.execute_input": "2021-10-02T14:04:13.204444Z",
     "iopub.status.busy": "2021-10-02T14:04:13.203844Z",
     "iopub.status.idle": "2021-10-02T14:04:13.947110Z",
     "shell.execute_reply": "2021-10-02T14:04:13.946638Z",
     "shell.execute_reply.started": "2021-10-02T12:31:28.121285Z"
    },
    "papermill": {
     "duration": 0.840631,
     "end_time": "2021-10-02T14:04:13.947235",
     "exception": false,
     "start_time": "2021-10-02T14:04:13.106604",
     "status": "completed"
    },
    "tags": []
   },
   "outputs": [
    {
     "data": {
      "text/plain": [
       "Text(0.5, 0, 'Random Forest Feature Importance')"
      ]
     },
     "execution_count": 66,
     "metadata": {},
     "output_type": "execute_result"
    },
    {
     "data": {
      "image/png": "[encoded data removed]",
      "text/plain": [
       "<Figure size 432x288 with 1 Axes>"
      ]
     },
     "metadata": {},
     "output_type": "display_data"
    }
   ],
   "source": [
    "rf = RandomForestClassifier(n_estimators=200, random_state=0)\n",
    "X_tr, X_te, Y_tr, Y_te = train_test_split(data, pred, test_size=0.25, random_state=42)\n",
    "rf.fit(X_tr, Y_tr)\n",
    "sorted_idx = rf.feature_importances_.argsort()\n",
    "plt.barh(data.columns[sorted_idx], rf.feature_importances_[sorted_idx],color = 'orange')\n",
    "plt.xlabel(\"Random Forest Feature Importance\")"
   ]
  },
  {
   "cell_type": "markdown",
   "id": "34b1f30d",
   "metadata": {
    "papermill": {
     "duration": 0.091344,
     "end_time": "2021-10-02T14:04:14.131228",
     "exception": false,
     "start_time": "2021-10-02T14:04:14.039884",
     "status": "completed"
    },
    "tags": []
   },
   "source": [
    "#### Here we can see that training hours and city development index are the most significant features in this dataset, therefore we will be selecting them for model training."
   ]
  },
  {
   "cell_type": "code",
   "execution_count": 67,
   "id": "60a3111d",
   "metadata": {
    "execution": {
     "iopub.execute_input": "2021-10-02T14:04:14.321673Z",
     "iopub.status.busy": "2021-10-02T14:04:14.320117Z",
     "iopub.status.idle": "2021-10-02T14:04:14.322316Z",
     "shell.execute_reply": "2021-10-02T14:04:14.322721Z",
     "shell.execute_reply.started": "2021-10-02T12:31:29.07126Z"
    },
    "papermill": {
     "duration": 0.100176,
     "end_time": "2021-10-02T14:04:14.322852",
     "exception": false,
     "start_time": "2021-10-02T14:04:14.222676",
     "status": "completed"
    },
    "tags": []
   },
   "outputs": [],
   "source": [
    "new_data = data[[\"training_hours\",\"city_development_index\"]]"
   ]
  },
  {
   "cell_type": "code",
   "execution_count": 68,
   "id": "5f04e53e",
   "metadata": {
    "execution": {
     "iopub.execute_input": "2021-10-02T14:04:14.513310Z",
     "iopub.status.busy": "2021-10-02T14:04:14.510173Z",
     "iopub.status.idle": "2021-10-02T14:04:15.060791Z",
     "shell.execute_reply": "2021-10-02T14:04:15.061212Z",
     "shell.execute_reply.started": "2021-10-02T12:31:29.993467Z"
    },
    "papermill": {
     "duration": 0.647419,
     "end_time": "2021-10-02T14:04:15.061372",
     "exception": false,
     "start_time": "2021-10-02T14:04:14.413953",
     "status": "completed"
    },
    "tags": []
   },
   "outputs": [
    {
     "data": {
      "text/html": [
       "<div>\n",
       "<style scoped>\n",
       "    .dataframe tbody tr th:only-of-type {\n",
       "        vertical-align: middle;\n",
       "    }\n",
       "\n",
       "    .dataframe tbody tr th {\n",
       "        vertical-align: top;\n",
       "    }\n",
       "\n",
       "    .dataframe thead th {\n",
       "        text-align: right;\n",
       "    }\n",
       "</style>\n",
       "<table border=\"1\" class=\"dataframe\">\n",
       "  <thead>\n",
       "    <tr style=\"text-align: right;\">\n",
       "      <th></th>\n",
       "      <th>Classifier</th>\n",
       "      <th>Accuracy</th>\n",
       "    </tr>\n",
       "  </thead>\n",
       "  <tbody>\n",
       "    <tr>\n",
       "      <th>0</th>\n",
       "      <td>GradientBoosting</td>\n",
       "      <td>0.748</td>\n",
       "    </tr>\n",
       "    <tr>\n",
       "      <th>1</th>\n",
       "      <td>LinearSVM</td>\n",
       "      <td>0.744</td>\n",
       "    </tr>\n",
       "    <tr>\n",
       "      <th>2</th>\n",
       "      <td>RadialSVM</td>\n",
       "      <td>0.744</td>\n",
       "    </tr>\n",
       "    <tr>\n",
       "      <th>3</th>\n",
       "      <td>Logistic</td>\n",
       "      <td>0.744</td>\n",
       "    </tr>\n",
       "    <tr>\n",
       "      <th>4</th>\n",
       "      <td>RandomForest</td>\n",
       "      <td>0.744</td>\n",
       "    </tr>\n",
       "    <tr>\n",
       "      <th>5</th>\n",
       "      <td>KNeighbors</td>\n",
       "      <td>0.740</td>\n",
       "    </tr>\n",
       "    <tr>\n",
       "      <th>6</th>\n",
       "      <td>DecisionTree</td>\n",
       "      <td>0.732</td>\n",
       "    </tr>\n",
       "  </tbody>\n",
       "</table>\n",
       "</div>"
      ],
      "text/plain": [
       "         Classifier  Accuracy\n",
       "0  GradientBoosting     0.748\n",
       "1         LinearSVM     0.744\n",
       "2         RadialSVM     0.744\n",
       "3          Logistic     0.744\n",
       "4      RandomForest     0.744\n",
       "5        KNeighbors     0.740\n",
       "6      DecisionTree     0.732"
      ]
     },
     "execution_count": 68,
     "metadata": {},
     "output_type": "execute_result"
    }
   ],
   "source": [
    "acc_score(new_data,pred)"
   ]
  },
  {
   "cell_type": "markdown",
   "id": "8f113155",
   "metadata": {
    "papermill": {
     "duration": 0.091885,
     "end_time": "2021-10-02T14:04:15.250209",
     "exception": false,
     "start_time": "2021-10-02T14:04:15.158324",
     "status": "completed"
    },
    "tags": []
   },
   "source": [
    "#### Gradient boosting gives the maximum accuracy among all the classifiers."
   ]
  },
  {
   "cell_type": "markdown",
   "id": "c4134fd4",
   "metadata": {
    "papermill": {
     "duration": 0.09281,
     "end_time": "2021-10-02T14:04:15.435811",
     "exception": false,
     "start_time": "2021-10-02T14:04:15.343001",
     "status": "completed"
    },
    "tags": []
   },
   "source": [
    "## Ensembling Model"
   ]
  },
  {
   "cell_type": "markdown",
   "id": "822bf7da",
   "metadata": {
    "papermill": {
     "duration": 0.093315,
     "end_time": "2021-10-02T14:04:15.622120",
     "exception": false,
     "start_time": "2021-10-02T14:04:15.528805",
     "status": "completed"
    },
    "tags": []
   },
   "source": [
    "#### We will also observe the results given by the Voting Classifier."
   ]
  },
  {
   "cell_type": "code",
   "execution_count": 69,
   "id": "81844763",
   "metadata": {
    "execution": {
     "iopub.execute_input": "2021-10-02T14:04:15.815842Z",
     "iopub.status.busy": "2021-10-02T14:04:15.815311Z",
     "iopub.status.idle": "2021-10-02T14:04:16.428225Z",
     "shell.execute_reply": "2021-10-02T14:04:16.429185Z",
     "shell.execute_reply.started": "2021-10-02T13:22:04.47742Z"
    },
    "papermill": {
     "duration": 0.714601,
     "end_time": "2021-10-02T14:04:16.429404",
     "exception": false,
     "start_time": "2021-10-02T14:04:15.714803",
     "status": "completed"
    },
    "tags": []
   },
   "outputs": [
    {
     "name": "stdout",
     "output_type": "stream",
     "text": [
      "Voting Score : 0.744\n"
     ]
    }
   ],
   "source": [
    "from sklearn.ensemble import VotingClassifier\n",
    "\n",
    "X_tr, X_te, Y_tr, Y_te = train_test_split(new_data, pred, test_size=0.25, random_state=42)\n",
    "estimator = []\n",
    "estimator.append(('GB', GradientBoostingClassifier(random_state=0)))\n",
    "estimator.append(('SVC',svm.SVC(kernel='rbf')))\n",
    "estimator.append(('RF',RandomForestClassifier(n_estimators=200, random_state=0)))\n",
    "\n",
    "voting = VotingClassifier(estimators = estimator)\n",
    "voting.fit(X_tr, Y_tr)\n",
    "Y_pred1 = voting.predict(X_te)\n",
    "  \n",
    "score = accuracy_score(Y_te, Y_pred1)\n",
    "print(\"Voting Score :\",score)"
   ]
  },
  {
   "cell_type": "markdown",
   "id": "9af36522",
   "metadata": {
    "papermill": {
     "duration": 0.133565,
     "end_time": "2021-10-02T14:04:16.714045",
     "exception": false,
     "start_time": "2021-10-02T14:04:16.580480",
     "status": "completed"
    },
    "tags": []
   },
   "source": [
    "# Hyperparameter Tuning"
   ]
  },
  {
   "cell_type": "markdown",
   "id": "29d5bc39",
   "metadata": {
    "papermill": {
     "duration": 0.09108,
     "end_time": "2021-10-02T14:04:16.897146",
     "exception": false,
     "start_time": "2021-10-02T14:04:16.806066",
     "status": "completed"
    },
    "tags": []
   },
   "source": [
    "#### Applying GradientBoostingClassifier with hyperparameter tuning"
   ]
  },
  {
   "cell_type": "code",
   "execution_count": 70,
   "id": "7325f2d6",
   "metadata": {
    "execution": {
     "iopub.execute_input": "2021-10-02T14:04:17.087337Z",
     "iopub.status.busy": "2021-10-02T14:04:17.085738Z",
     "iopub.status.idle": "2021-10-02T14:04:17.087971Z",
     "shell.execute_reply": "2021-10-02T14:04:17.088365Z",
     "shell.execute_reply.started": "2021-10-02T12:31:31.983859Z"
    },
    "papermill": {
     "duration": 0.099598,
     "end_time": "2021-10-02T14:04:17.088505",
     "exception": false,
     "start_time": "2021-10-02T14:04:16.988907",
     "status": "completed"
    },
    "tags": []
   },
   "outputs": [],
   "source": [
    "gbc = GradientBoostingClassifier(random_state=0)\n",
    "\n",
    "param_grid = { \n",
    "    'learning_rate':[0.01,0.001],\n",
    "    'n_estimators': [600,750,800],\n",
    "    'max_features': [ 'sqrt'],\n",
    "    'max_depth' : [8,9,10]\n",
    "}"
   ]
  },
  {
   "cell_type": "code",
   "execution_count": 71,
   "id": "f7d39732",
   "metadata": {
    "execution": {
     "iopub.execute_input": "2021-10-02T14:04:17.280239Z",
     "iopub.status.busy": "2021-10-02T14:04:17.279381Z",
     "iopub.status.idle": "2021-10-02T14:09:16.520494Z",
     "shell.execute_reply": "2021-10-02T14:09:16.520925Z",
     "shell.execute_reply.started": "2021-10-02T12:31:33.094456Z"
    },
    "papermill": {
     "duration": 299.340672,
     "end_time": "2021-10-02T14:09:16.521095",
     "exception": false,
     "start_time": "2021-10-02T14:04:17.180423",
     "status": "completed"
    },
    "tags": []
   },
   "outputs": [
    {
     "data": {
      "text/plain": [
       "GridSearchCV(cv=5, estimator=GradientBoostingClassifier(random_state=0),\n",
       "             n_jobs=1,\n",
       "             param_grid={'learning_rate': [0.01, 0.001],\n",
       "                         'max_depth': [8, 9, 10], 'max_features': ['sqrt'],\n",
       "                         'n_estimators': [600, 750, 800]})"
      ]
     },
     "execution_count": 71,
     "metadata": {},
     "output_type": "execute_result"
    }
   ],
   "source": [
    "from sklearn.model_selection import GridSearchCV\n",
    "X_tr, X_te, Y_tr, Y_te = train_test_split(new_data, pred, test_size=0.25, random_state=42)\n",
    "CV_gbc = GridSearchCV(estimator=gbc, param_grid=param_grid, cv= 5,n_jobs = 1)\n",
    "CV_gbc.fit(X_tr,Y_tr)"
   ]
  },
  {
   "cell_type": "code",
   "execution_count": 72,
   "id": "848645a0",
   "metadata": {
    "execution": {
     "iopub.execute_input": "2021-10-02T14:09:16.710544Z",
     "iopub.status.busy": "2021-10-02T14:09:16.709932Z",
     "iopub.status.idle": "2021-10-02T14:09:16.712559Z",
     "shell.execute_reply": "2021-10-02T14:09:16.712970Z",
     "shell.execute_reply.started": "2021-10-02T12:36:24.595927Z"
    },
    "papermill": {
     "duration": 0.100207,
     "end_time": "2021-10-02T14:09:16.713102",
     "exception": false,
     "start_time": "2021-10-02T14:09:16.612895",
     "status": "completed"
    },
    "tags": []
   },
   "outputs": [
    {
     "data": {
      "text/plain": [
       "{'learning_rate': 0.001,\n",
       " 'max_depth': 9,\n",
       " 'max_features': 'sqrt',\n",
       " 'n_estimators': 750}"
      ]
     },
     "execution_count": 72,
     "metadata": {},
     "output_type": "execute_result"
    }
   ],
   "source": [
    "CV_gbc.best_params_"
   ]
  },
  {
   "cell_type": "markdown",
   "id": "36b86bf1",
   "metadata": {
    "papermill": {
     "duration": 0.092177,
     "end_time": "2021-10-02T14:09:16.896914",
     "exception": false,
     "start_time": "2021-10-02T14:09:16.804737",
     "status": "completed"
    },
    "tags": []
   },
   "source": [
    "#### These are the best paramters after hyperparamter tuning."
   ]
  },
  {
   "cell_type": "code",
   "execution_count": 73,
   "id": "c7c6d825",
   "metadata": {
    "execution": {
     "iopub.execute_input": "2021-10-02T14:09:17.086422Z",
     "iopub.status.busy": "2021-10-02T14:09:17.085639Z",
     "iopub.status.idle": "2021-10-02T14:09:17.087959Z",
     "shell.execute_reply": "2021-10-02T14:09:17.087545Z",
     "shell.execute_reply.started": "2021-10-02T12:36:24.603269Z"
    },
    "papermill": {
     "duration": 0.099023,
     "end_time": "2021-10-02T14:09:17.088070",
     "exception": false,
     "start_time": "2021-10-02T14:09:16.989047",
     "status": "completed"
    },
    "tags": []
   },
   "outputs": [],
   "source": [
    "tuned_gbc = GradientBoostingClassifier(learning_rate= 0.001,\n",
    "                                       max_depth= 9,\n",
    "                                       max_features= 'sqrt',\n",
    "                                       n_estimators= 750,\n",
    "                                       random_state=0)"
   ]
  },
  {
   "cell_type": "code",
   "execution_count": 74,
   "id": "c8314cb7",
   "metadata": {
    "execution": {
     "iopub.execute_input": "2021-10-02T14:09:17.279667Z",
     "iopub.status.busy": "2021-10-02T14:09:17.278833Z",
     "iopub.status.idle": "2021-10-02T14:09:20.961887Z",
     "shell.execute_reply": "2021-10-02T14:09:20.962443Z",
     "shell.execute_reply.started": "2021-10-02T13:27:26.964736Z"
    },
    "papermill": {
     "duration": 3.781936,
     "end_time": "2021-10-02T14:09:20.962645",
     "exception": false,
     "start_time": "2021-10-02T14:09:17.180709",
     "status": "completed"
    },
    "tags": []
   },
   "outputs": [
    {
     "name": "stdout",
     "output_type": "stream",
     "text": [
      "Accuracy after optimization : 0.784\n"
     ]
    }
   ],
   "source": [
    "tuned_gbc.fit(X_tr,Y_tr)\n",
    "Y_pred = tuned_gbc.predict(X_te)\n",
    "\n",
    "print(\"Accuracy after optimization :\",accuracy_score(Y_te, Y_pred))"
   ]
  },
  {
   "cell_type": "markdown",
   "id": "08980461",
   "metadata": {
    "papermill": {
     "duration": 0.094241,
     "end_time": "2021-10-02T14:09:21.153436",
     "exception": false,
     "start_time": "2021-10-02T14:09:21.059195",
     "status": "completed"
    },
    "tags": []
   },
   "source": [
    "#### Here we can see an improvement of 3.6% after hyperparameter tuning."
   ]
  },
  {
   "cell_type": "markdown",
   "id": "407d161a",
   "metadata": {
    "papermill": {
     "duration": 0.092046,
     "end_time": "2021-10-02T14:09:21.338953",
     "exception": false,
     "start_time": "2021-10-02T14:09:21.246907",
     "status": "completed"
    },
    "tags": []
   },
   "source": [
    "### Confusion Matrix"
   ]
  },
  {
   "cell_type": "code",
   "execution_count": 75,
   "id": "407c7cca",
   "metadata": {
    "execution": {
     "iopub.execute_input": "2021-10-02T14:09:21.531775Z",
     "iopub.status.busy": "2021-10-02T14:09:21.530856Z",
     "iopub.status.idle": "2021-10-02T14:09:21.816915Z",
     "shell.execute_reply": "2021-10-02T14:09:21.817609Z",
     "shell.execute_reply.started": "2021-10-02T12:36:28.379799Z"
    },
    "papermill": {
     "duration": 0.384594,
     "end_time": "2021-10-02T14:09:21.817766",
     "exception": false,
     "start_time": "2021-10-02T14:09:21.433172",
     "status": "completed"
    },
    "tags": []
   },
   "outputs": [
    {
     "name": "stdout",
     "output_type": "stream",
     "text": [
      "[[181   5]\n",
      " [ 49  15]]\n"
     ]
    },
    {
     "data": {
      "text/plain": [
       "Text(51.0, 0.5, 'Truth')"
      ]
     },
     "execution_count": 75,
     "metadata": {},
     "output_type": "execute_result"
    },
    {
     "data": {
      "image/png": "[encoded data removed]",
      "text/plain": [
       "<Figure size 576x432 with 2 Axes>"
      ]
     },
     "metadata": {},
     "output_type": "display_data"
    }
   ],
   "source": [
    "cm = confusion_matrix(Y_te, Y_pred)\n",
    "print(cm)\n",
    "\n",
    "plt.figure(figsize = (8,6))\n",
    "sns.heatmap(cm, annot=True, cmap = 'YlOrBr_r')\n",
    "plt.xlabel('Predicted')\n",
    "plt.ylabel('Truth')"
   ]
  },
  {
   "cell_type": "markdown",
   "id": "4c91065a",
   "metadata": {
    "papermill": {
     "duration": 0.094592,
     "end_time": "2021-10-02T14:09:22.010172",
     "exception": false,
     "start_time": "2021-10-02T14:09:21.915580",
     "status": "completed"
    },
    "tags": []
   },
   "source": [
    "### Classification Report"
   ]
  },
  {
   "cell_type": "code",
   "execution_count": 76,
   "id": "f6e331eb",
   "metadata": {
    "execution": {
     "iopub.execute_input": "2021-10-02T14:09:22.214864Z",
     "iopub.status.busy": "2021-10-02T14:09:22.214063Z",
     "iopub.status.idle": "2021-10-02T14:09:22.222433Z",
     "shell.execute_reply": "2021-10-02T14:09:22.222001Z",
     "shell.execute_reply.started": "2021-10-02T12:36:28.648857Z"
    },
    "papermill": {
     "duration": 0.116837,
     "end_time": "2021-10-02T14:09:22.222555",
     "exception": false,
     "start_time": "2021-10-02T14:09:22.105718",
     "status": "completed"
    },
    "tags": []
   },
   "outputs": [
    {
     "name": "stdout",
     "output_type": "stream",
     "text": [
      "              precision    recall  f1-score   support\n",
      "\n",
      "         0.0       0.79      0.97      0.87       186\n",
      "         1.0       0.75      0.23      0.36        64\n",
      "\n",
      "    accuracy                           0.78       250\n",
      "   macro avg       0.77      0.60      0.61       250\n",
      "weighted avg       0.78      0.78      0.74       250\n",
      "\n"
     ]
    }
   ],
   "source": [
    "from sklearn.metrics import classification_report\n",
    "print(classification_report(Y_te, Y_pred))"
   ]
  },
  {
   "cell_type": "markdown",
   "id": "72fc8253",
   "metadata": {
    "papermill": {
     "duration": 0.09478,
     "end_time": "2021-10-02T14:09:22.411663",
     "exception": false,
     "start_time": "2021-10-02T14:09:22.316883",
     "status": "completed"
    },
    "tags": []
   },
   "source": [
    "### ROC Curve"
   ]
  },
  {
   "cell_type": "code",
   "execution_count": 77,
   "id": "fb4ac679",
   "metadata": {
    "execution": {
     "iopub.execute_input": "2021-10-02T14:09:22.610647Z",
     "iopub.status.busy": "2021-10-02T14:09:22.609892Z",
     "iopub.status.idle": "2021-10-02T14:09:26.638431Z",
     "shell.execute_reply": "2021-10-02T14:09:26.638004Z",
     "shell.execute_reply.started": "2021-10-02T12:36:28.661972Z"
    },
    "papermill": {
     "duration": 4.132061,
     "end_time": "2021-10-02T14:09:26.638554",
     "exception": false,
     "start_time": "2021-10-02T14:09:22.506493",
     "status": "completed"
    },
    "tags": []
   },
   "outputs": [
    {
     "data": {
      "image/png": "[encoded data removed]",
      "text/plain": [
       "<Figure size 432x288 with 1 Axes>"
      ]
     },
     "metadata": {},
     "output_type": "display_data"
    }
   ],
   "source": [
    "tuned_gbc.fit(X_tr,Y_tr)\n",
    "probs = tuned_gbc.predict_proba(X_te)\n",
    "preds = probs[:,1]\n",
    "fpr, tpr, threshold = metrics.roc_curve(Y_te, preds)\n",
    "roc_auc = metrics.auc(fpr, tpr)\n",
    "\n",
    "plt.title('Receiver Operating Characteristic')\n",
    "plt.plot(fpr, tpr, 'b', label = 'AUC = %0.2f' % roc_auc)\n",
    "plt.legend(loc = 'lower right')\n",
    "plt.plot([0, 1], [0, 1],'r--')\n",
    "plt.xlim([0, 1])\n",
    "plt.ylim([0, 1])\n",
    "plt.ylabel('True Positive Rate')\n",
    "plt.xlabel('False Positive Rate')\n",
    "plt.show()"
   ]
  },
  {
   "cell_type": "code",
   "execution_count": null,
   "id": "e7912195",
   "metadata": {
    "papermill": {
     "duration": 0.098147,
     "end_time": "2021-10-02T14:09:26.832214",
     "exception": false,
     "start_time": "2021-10-02T14:09:26.734067",
     "status": "completed"
    },
    "tags": []
   },
   "outputs": [],
   "source": []
  }
 ],
 "metadata": {
  "kernelspec": {
   "display_name": "Python 3",
   "language": "python",
   "name": "python3"
  },
  "language_info": {
   "codemirror_mode": {
    "name": "ipython",
    "version": 3
   },
   "file_extension": ".py",
   "mimetype": "text/x-python",
   "name": "python",
   "nbconvert_exporter": "python",
   "pygments_lexer": "ipython3",
   "version": "3.7.10"
  },
  "papermill": {
   "default_parameters": {},
   "duration": 343.976133,
   "end_time": "2021-10-02T14:09:28.364865",
   "environment_variables": {},
   "exception": null,
   "input_path": "__notebook__.ipynb",
   "output_path": "__notebook__.ipynb",
   "parameters": {},
   "start_time": "2021-10-02T14:03:44.388732",
   "version": "2.3.3"
  }
 },
 "nbformat": 4,
 "nbformat_minor": 5
}
