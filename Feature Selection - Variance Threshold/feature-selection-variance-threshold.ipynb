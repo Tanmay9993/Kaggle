{
 "cells": [
  {
   "cell_type": "markdown",
   "id": "interracial-catering",
   "metadata": {
    "papermill": {
     "duration": 0.02721,
     "end_time": "2021-06-29T07:27:05.563486",
     "exception": false,
     "start_time": "2021-06-29T07:27:05.536276",
     "status": "completed"
    },
    "tags": []
   },
   "source": [
    "## Feature Selection\n",
    "#### Feature selection is the process of reducing the number of input variables when developing a predictive model. It is desirable to reduce the number of input variables to both reduce the computational cost of modeling and, in some cases, to improve the performance of the model."
   ]
  },
  {
   "cell_type": "markdown",
   "id": "above-charter",
   "metadata": {
    "papermill": {
     "duration": 0.026487,
     "end_time": "2021-06-29T07:27:05.614938",
     "exception": false,
     "start_time": "2021-06-29T07:27:05.588451",
     "status": "completed"
    },
    "tags": []
   },
   "source": [
    "## Variance Threshold\n",
    "________\n",
    "#### Variance threshold is a simple baseline approach to feature selection. It removes all features whose variance doesn’t meet some threshold as it is assumed that features with a higher variance may contain more useful information. \n",
    "#### Here it is used as a feature selector that removes all low-variance features."
   ]
  },
  {
   "cell_type": "markdown",
   "id": "rolled-optimization",
   "metadata": {
    "papermill": {
     "duration": 0.025613,
     "end_time": "2021-06-29T07:27:05.666175",
     "exception": false,
     "start_time": "2021-06-29T07:27:05.640562",
     "status": "completed"
    },
    "tags": []
   },
   "source": [
    "![](https://cdn.analyticsvidhya.com/wp-content/uploads/2020/10/Image-6-1.png)\n",
    "\n",
    "#### Features having variance lower than or equal to the threshold value will be returned as 'False' (in the array returned by .get_support()) and will be dropped. \n",
    "#### After dropping these features  we check the accuracy of the new dataset and compare it with original.\n",
    "#### For choosing the threshold values, I experimented with different numbers and chose the suitable ones."
   ]
  },
  {
   "cell_type": "markdown",
   "id": "difficult-moses",
   "metadata": {
    "papermill": {
     "duration": 0.024982,
     "end_time": "2021-06-29T07:27:05.715945",
     "exception": false,
     "start_time": "2021-06-29T07:27:05.690963",
     "status": "completed"
    },
    "tags": []
   },
   "source": [
    "__________"
   ]
  },
  {
   "cell_type": "markdown",
   "id": "psychological-platinum",
   "metadata": {
    "papermill": {
     "duration": 0.024246,
     "end_time": "2021-06-29T07:27:05.765171",
     "exception": false,
     "start_time": "2021-06-29T07:27:05.740925",
     "status": "completed"
    },
    "tags": []
   },
   "source": [
    "### Importing the required libraries "
   ]
  },
  {
   "cell_type": "code",
   "execution_count": 1,
   "id": "constitutional-monday",
   "metadata": {
    "execution": {
     "iopub.execute_input": "2021-06-29T07:27:05.820608Z",
     "iopub.status.busy": "2021-06-29T07:27:05.819256Z",
     "iopub.status.idle": "2021-06-29T07:27:07.382999Z",
     "shell.execute_reply": "2021-06-29T07:27:07.381715Z",
     "shell.execute_reply.started": "2021-06-26T11:21:59.858556Z"
    },
    "papermill": {
     "duration": 1.59306,
     "end_time": "2021-06-29T07:27:07.383252",
     "exception": false,
     "start_time": "2021-06-29T07:27:05.790192",
     "status": "completed"
    },
    "tags": []
   },
   "outputs": [],
   "source": [
    "import numpy as np\n",
    "import pandas as pd\n",
    "import seaborn as sns\n",
    "import matplotlib.pyplot as plt\n",
    "%matplotlib inline \n",
    "import warnings\n",
    "warnings.filterwarnings(\"ignore\")\n",
    "\n",
    "\n",
    "from sklearn.model_selection import train_test_split\n",
    "def split(df,label):\n",
    "    X_tr, X_te, Y_tr, Y_te = train_test_split(df, label, test_size=0.25, random_state=42)\n",
    "    return X_tr, X_te, Y_tr, Y_te\n",
    "\n",
    "\n",
    "from sklearn.feature_selection import VarianceThreshold\n",
    "def variance_threshold(df,th):\n",
    "    var_thres=VarianceThreshold(threshold=th)\n",
    "    var_thres.fit(df)\n",
    "    new_cols = var_thres.get_support()\n",
    "    return df.iloc[:,new_cols]\n",
    "    \n",
    "\n",
    "from sklearn import svm\n",
    "from sklearn.linear_model import LogisticRegression\n",
    "from sklearn.ensemble import RandomForestClassifier, AdaBoostClassifier\n",
    "from sklearn.tree import DecisionTreeClassifier\n",
    "import xgboost as xgb\n",
    "from sklearn.neighbors import KNeighborsClassifier\n",
    "from sklearn.ensemble import GradientBoostingClassifier\n",
    "from sklearn import metrics\n",
    "from sklearn.metrics import accuracy_score\n",
    "from sklearn.model_selection import KFold, cross_val_score\n",
    "\n",
    "classifiers = ['LinearSVM', 'RadialSVM', \n",
    "               'Logistic',  'RandomForest', \n",
    "               'AdaBoost',  'DecisionTree', \n",
    "               'KNeighbors','GradientBoosting']\n",
    "\n",
    "models = [svm.SVC(kernel='linear'),\n",
    "          svm.SVC(kernel='rbf'),\n",
    "          LogisticRegression(max_iter = 1000),\n",
    "          RandomForestClassifier(n_estimators=200, random_state=0),\n",
    "          AdaBoostClassifier(random_state = 0),\n",
    "          DecisionTreeClassifier(random_state=0),\n",
    "          KNeighborsClassifier(),\n",
    "          GradientBoostingClassifier(random_state=0)]\n",
    "\n",
    "def acc_score(df,label):\n",
    "    Score = pd.DataFrame({\"Classifier\":classifiers})\n",
    "    j = 0\n",
    "    acc = []\n",
    "    X_train,X_test,Y_train,Y_test = split(df,label)\n",
    "    for i in models:\n",
    "        model = i\n",
    "        model.fit(X_train,Y_train)\n",
    "        predictions = model.predict(X_test)\n",
    "        acc.append(accuracy_score(Y_test,predictions))\n",
    "        j = j+1     \n",
    "    Score[\"Accuracy\"] = acc\n",
    "    Score.sort_values(by=\"Accuracy\", ascending=False,inplace = True)\n",
    "    Score.reset_index(drop=True, inplace=True)\n",
    "    return Score\n",
    "\n",
    "def acc_score_thr(df,label,thr_list):\n",
    "    Score = pd.DataFrame({\"Classifier\":classifiers})\n",
    "    for k in range(len(thr_list)):\n",
    "        df2 = variance_threshold(df,thr_list[k])\n",
    "        X_train,X_test,Y_train,Y_test = split(df2,label)\n",
    "        j = 0\n",
    "        acc = []\n",
    "        for i in models:\n",
    "            model = i\n",
    "            model.fit(X_train,Y_train)\n",
    "            predictions = model.predict(X_test)\n",
    "            acc.append(accuracy_score(Y_test,predictions))\n",
    "            j = j+1  \n",
    "        feat = str(thr_list[k])\n",
    "        Score[feat] = acc\n",
    "    return Score\n",
    "\n",
    "        \n",
    "def plot2(df,l1,l2,p1,p2,c = \"b\"):\n",
    "    feat = []\n",
    "    feat = df.columns.tolist()\n",
    "    feat = feat[1:]\n",
    "    plt.figure(figsize = (16, 18))\n",
    "    for j in range(0,df.shape[0]):\n",
    "        value = []\n",
    "        k = 0\n",
    "        for i in range(1,len(df.columns.tolist())):\n",
    "            value.append(df.iloc[j][i])\n",
    "        plt.subplot(4, 4,j+1)\n",
    "        ax = sns.pointplot(x=feat, y=value,color = c )\n",
    "        plt.text(p1,p2,df.iloc[j][0])\n",
    "        plt.xticks(rotation=90)\n",
    "        ax.set(ylim=(l1,l2))\n",
    "        k = k+1\n",
    "        \n",
    "\n",
    "def highlight_max(data, color='aquamarine'):\n",
    "    attr = 'background-color: {}'.format(color)\n",
    "    if data.ndim == 1:  \n",
    "        is_max = data == data.max()\n",
    "        return [attr if v else '' for v in is_max]\n",
    "    else: \n",
    "        is_max = data == data.max().max()\n",
    "        return pd.DataFrame(np.where(is_max, attr, ''),\n",
    "                            index=data.index, columns=data.columns)"
   ]
  },
  {
   "cell_type": "markdown",
   "id": "varied-customs",
   "metadata": {
    "papermill": {
     "duration": 0.024484,
     "end_time": "2021-06-29T07:27:07.433473",
     "exception": false,
     "start_time": "2021-06-29T07:27:07.408989",
     "status": "completed"
    },
    "tags": []
   },
   "source": [
    "_______\n",
    "### Function Description\n",
    "#### 1. split():\n",
    "Splits the dataset into training and test set.\n",
    "#### 2. variance_threshold():\n",
    "Returns the dataframe after dropping features with lower variance than the threshold value.\n",
    "#### 3. acc_score():\n",
    "Returns accuracy for all the classifiers.\n",
    "#### 4. acc_score_thr():\n",
    "Returns accuracy for all the classifiers for the respective threshold value.\n",
    "#### 5. plot2():\n",
    "For plotting the results.\n",
    "___________\n",
    "### The following 3 datasets are used:\n",
    "1. Breast Cancer\n",
    "2. Parkinson's Disease\n",
    "3. PCOS\n",
    "________\n",
    "### Plan of action:\n",
    "* Looking at dataset (includes a little preprocessing)\n",
    "* Checking Accuracy (comparing accuracies with the new dataset)\n",
    "* Visualization (Plotting the graphs)\n",
    "_______"
   ]
  },
  {
   "cell_type": "markdown",
   "id": "sensitive-resident",
   "metadata": {
    "papermill": {
     "duration": 0.02447,
     "end_time": "2021-06-29T07:27:07.482929",
     "exception": false,
     "start_time": "2021-06-29T07:27:07.458459",
     "status": "completed"
    },
    "tags": []
   },
   "source": [
    "______________\n",
    "# Breast Cancer\n",
    "_____________"
   ]
  },
  {
   "cell_type": "markdown",
   "id": "complicated-composition",
   "metadata": {
    "papermill": {
     "duration": 0.024836,
     "end_time": "2021-06-29T07:27:07.533858",
     "exception": false,
     "start_time": "2021-06-29T07:27:07.509022",
     "status": "completed"
    },
    "tags": []
   },
   "source": [
    "### 1. Looking at dataset"
   ]
  },
  {
   "cell_type": "code",
   "execution_count": 2,
   "id": "exceptional-gambling",
   "metadata": {
    "execution": {
     "iopub.execute_input": "2021-06-29T07:27:07.591747Z",
     "iopub.status.busy": "2021-06-29T07:27:07.590843Z",
     "iopub.status.idle": "2021-06-29T07:27:07.648353Z",
     "shell.execute_reply": "2021-06-29T07:27:07.648928Z",
     "shell.execute_reply.started": "2021-06-26T10:38:42.716407Z"
    },
    "papermill": {
     "duration": 0.089702,
     "end_time": "2021-06-29T07:27:07.649110",
     "exception": false,
     "start_time": "2021-06-29T07:27:07.559408",
     "status": "completed"
    },
    "tags": []
   },
   "outputs": [
    {
     "name": "stdout",
     "output_type": "stream",
     "text": [
      "Breast Cancer dataset:\n",
      " 569 Records\n",
      " 30 Features\n"
     ]
    }
   ],
   "source": [
    "data_bc = pd.read_csv(\"../input/breast-cancer-wisconsin-data/data.csv\")\n",
    "label_bc = data_bc[\"diagnosis\"]\n",
    "label_bc = np.where(label_bc == 'M',1,0)\n",
    "data_bc.drop([\"id\",\"diagnosis\",\"Unnamed: 32\"],axis = 1,inplace = True)\n",
    "\n",
    "print(\"Breast Cancer dataset:\\n\",data_bc.shape[0],\"Records\\n\",data_bc.shape[1],\"Features\")"
   ]
  },
  {
   "cell_type": "code",
   "execution_count": 3,
   "id": "assumed-sussex",
   "metadata": {
    "execution": {
     "iopub.execute_input": "2021-06-29T07:27:07.708471Z",
     "iopub.status.busy": "2021-06-29T07:27:07.707456Z",
     "iopub.status.idle": "2021-06-29T07:27:07.742906Z",
     "shell.execute_reply": "2021-06-29T07:27:07.743414Z",
     "shell.execute_reply.started": "2021-06-26T10:38:43.836967Z"
    },
    "papermill": {
     "duration": 0.069013,
     "end_time": "2021-06-29T07:27:07.743607",
     "exception": false,
     "start_time": "2021-06-29T07:27:07.674594",
     "status": "completed"
    },
    "tags": []
   },
   "outputs": [
    {
     "data": {
      "text/html": [
       "<div>\n",
       "<style scoped>\n",
       "    .dataframe tbody tr th:only-of-type {\n",
       "        vertical-align: middle;\n",
       "    }\n",
       "\n",
       "    .dataframe tbody tr th {\n",
       "        vertical-align: top;\n",
       "    }\n",
       "\n",
       "    .dataframe thead th {\n",
       "        text-align: right;\n",
       "    }\n",
       "</style>\n",
       "<table border=\"1\" class=\"dataframe\">\n",
       "  <thead>\n",
       "    <tr style=\"text-align: right;\">\n",
       "      <th></th>\n",
       "      <th>radius_mean</th>\n",
       "      <th>texture_mean</th>\n",
       "      <th>perimeter_mean</th>\n",
       "      <th>area_mean</th>\n",
       "      <th>smoothness_mean</th>\n",
       "      <th>compactness_mean</th>\n",
       "      <th>concavity_mean</th>\n",
       "      <th>concave points_mean</th>\n",
       "      <th>symmetry_mean</th>\n",
       "      <th>fractal_dimension_mean</th>\n",
       "      <th>...</th>\n",
       "      <th>radius_worst</th>\n",
       "      <th>texture_worst</th>\n",
       "      <th>perimeter_worst</th>\n",
       "      <th>area_worst</th>\n",
       "      <th>smoothness_worst</th>\n",
       "      <th>compactness_worst</th>\n",
       "      <th>concavity_worst</th>\n",
       "      <th>concave points_worst</th>\n",
       "      <th>symmetry_worst</th>\n",
       "      <th>fractal_dimension_worst</th>\n",
       "    </tr>\n",
       "  </thead>\n",
       "  <tbody>\n",
       "    <tr>\n",
       "      <th>0</th>\n",
       "      <td>17.99</td>\n",
       "      <td>10.38</td>\n",
       "      <td>122.80</td>\n",
       "      <td>1001.0</td>\n",
       "      <td>0.11840</td>\n",
       "      <td>0.27760</td>\n",
       "      <td>0.3001</td>\n",
       "      <td>0.14710</td>\n",
       "      <td>0.2419</td>\n",
       "      <td>0.07871</td>\n",
       "      <td>...</td>\n",
       "      <td>25.38</td>\n",
       "      <td>17.33</td>\n",
       "      <td>184.60</td>\n",
       "      <td>2019.0</td>\n",
       "      <td>0.1622</td>\n",
       "      <td>0.6656</td>\n",
       "      <td>0.7119</td>\n",
       "      <td>0.2654</td>\n",
       "      <td>0.4601</td>\n",
       "      <td>0.11890</td>\n",
       "    </tr>\n",
       "    <tr>\n",
       "      <th>1</th>\n",
       "      <td>20.57</td>\n",
       "      <td>17.77</td>\n",
       "      <td>132.90</td>\n",
       "      <td>1326.0</td>\n",
       "      <td>0.08474</td>\n",
       "      <td>0.07864</td>\n",
       "      <td>0.0869</td>\n",
       "      <td>0.07017</td>\n",
       "      <td>0.1812</td>\n",
       "      <td>0.05667</td>\n",
       "      <td>...</td>\n",
       "      <td>24.99</td>\n",
       "      <td>23.41</td>\n",
       "      <td>158.80</td>\n",
       "      <td>1956.0</td>\n",
       "      <td>0.1238</td>\n",
       "      <td>0.1866</td>\n",
       "      <td>0.2416</td>\n",
       "      <td>0.1860</td>\n",
       "      <td>0.2750</td>\n",
       "      <td>0.08902</td>\n",
       "    </tr>\n",
       "    <tr>\n",
       "      <th>2</th>\n",
       "      <td>19.69</td>\n",
       "      <td>21.25</td>\n",
       "      <td>130.00</td>\n",
       "      <td>1203.0</td>\n",
       "      <td>0.10960</td>\n",
       "      <td>0.15990</td>\n",
       "      <td>0.1974</td>\n",
       "      <td>0.12790</td>\n",
       "      <td>0.2069</td>\n",
       "      <td>0.05999</td>\n",
       "      <td>...</td>\n",
       "      <td>23.57</td>\n",
       "      <td>25.53</td>\n",
       "      <td>152.50</td>\n",
       "      <td>1709.0</td>\n",
       "      <td>0.1444</td>\n",
       "      <td>0.4245</td>\n",
       "      <td>0.4504</td>\n",
       "      <td>0.2430</td>\n",
       "      <td>0.3613</td>\n",
       "      <td>0.08758</td>\n",
       "    </tr>\n",
       "    <tr>\n",
       "      <th>3</th>\n",
       "      <td>11.42</td>\n",
       "      <td>20.38</td>\n",
       "      <td>77.58</td>\n",
       "      <td>386.1</td>\n",
       "      <td>0.14250</td>\n",
       "      <td>0.28390</td>\n",
       "      <td>0.2414</td>\n",
       "      <td>0.10520</td>\n",
       "      <td>0.2597</td>\n",
       "      <td>0.09744</td>\n",
       "      <td>...</td>\n",
       "      <td>14.91</td>\n",
       "      <td>26.50</td>\n",
       "      <td>98.87</td>\n",
       "      <td>567.7</td>\n",
       "      <td>0.2098</td>\n",
       "      <td>0.8663</td>\n",
       "      <td>0.6869</td>\n",
       "      <td>0.2575</td>\n",
       "      <td>0.6638</td>\n",
       "      <td>0.17300</td>\n",
       "    </tr>\n",
       "    <tr>\n",
       "      <th>4</th>\n",
       "      <td>20.29</td>\n",
       "      <td>14.34</td>\n",
       "      <td>135.10</td>\n",
       "      <td>1297.0</td>\n",
       "      <td>0.10030</td>\n",
       "      <td>0.13280</td>\n",
       "      <td>0.1980</td>\n",
       "      <td>0.10430</td>\n",
       "      <td>0.1809</td>\n",
       "      <td>0.05883</td>\n",
       "      <td>...</td>\n",
       "      <td>22.54</td>\n",
       "      <td>16.67</td>\n",
       "      <td>152.20</td>\n",
       "      <td>1575.0</td>\n",
       "      <td>0.1374</td>\n",
       "      <td>0.2050</td>\n",
       "      <td>0.4000</td>\n",
       "      <td>0.1625</td>\n",
       "      <td>0.2364</td>\n",
       "      <td>0.07678</td>\n",
       "    </tr>\n",
       "  </tbody>\n",
       "</table>\n",
       "<p>5 rows × 30 columns</p>\n",
       "</div>"
      ],
      "text/plain": [
       "   radius_mean  texture_mean  perimeter_mean  area_mean  smoothness_mean  \\\n",
       "0        17.99         10.38          122.80     1001.0          0.11840   \n",
       "1        20.57         17.77          132.90     1326.0          0.08474   \n",
       "2        19.69         21.25          130.00     1203.0          0.10960   \n",
       "3        11.42         20.38           77.58      386.1          0.14250   \n",
       "4        20.29         14.34          135.10     1297.0          0.10030   \n",
       "\n",
       "   compactness_mean  concavity_mean  concave points_mean  symmetry_mean  \\\n",
       "0           0.27760          0.3001              0.14710         0.2419   \n",
       "1           0.07864          0.0869              0.07017         0.1812   \n",
       "2           0.15990          0.1974              0.12790         0.2069   \n",
       "3           0.28390          0.2414              0.10520         0.2597   \n",
       "4           0.13280          0.1980              0.10430         0.1809   \n",
       "\n",
       "   fractal_dimension_mean  ...  radius_worst  texture_worst  perimeter_worst  \\\n",
       "0                 0.07871  ...         25.38          17.33           184.60   \n",
       "1                 0.05667  ...         24.99          23.41           158.80   \n",
       "2                 0.05999  ...         23.57          25.53           152.50   \n",
       "3                 0.09744  ...         14.91          26.50            98.87   \n",
       "4                 0.05883  ...         22.54          16.67           152.20   \n",
       "\n",
       "   area_worst  smoothness_worst  compactness_worst  concavity_worst  \\\n",
       "0      2019.0            0.1622             0.6656           0.7119   \n",
       "1      1956.0            0.1238             0.1866           0.2416   \n",
       "2      1709.0            0.1444             0.4245           0.4504   \n",
       "3       567.7            0.2098             0.8663           0.6869   \n",
       "4      1575.0            0.1374             0.2050           0.4000   \n",
       "\n",
       "   concave points_worst  symmetry_worst  fractal_dimension_worst  \n",
       "0                0.2654          0.4601                  0.11890  \n",
       "1                0.1860          0.2750                  0.08902  \n",
       "2                0.2430          0.3613                  0.08758  \n",
       "3                0.2575          0.6638                  0.17300  \n",
       "4                0.1625          0.2364                  0.07678  \n",
       "\n",
       "[5 rows x 30 columns]"
      ]
     },
     "metadata": {},
     "output_type": "display_data"
    },
    {
     "name": "stdout",
     "output_type": "stream",
     "text": [
      "All the features in this dataset have continuous values\n"
     ]
    }
   ],
   "source": [
    "display(data_bc.head())\n",
    "print(\"All the features in this dataset have continuous values\")"
   ]
  },
  {
   "cell_type": "markdown",
   "id": "vanilla-visibility",
   "metadata": {
    "papermill": {
     "duration": 0.027155,
     "end_time": "2021-06-29T07:27:07.797137",
     "exception": false,
     "start_time": "2021-06-29T07:27:07.769982",
     "status": "completed"
    },
    "tags": []
   },
   "source": [
    "### 2. Checking Accuracy"
   ]
  },
  {
   "cell_type": "code",
   "execution_count": 4,
   "id": "tracked-connectivity",
   "metadata": {
    "execution": {
     "iopub.execute_input": "2021-06-29T07:27:07.867819Z",
     "iopub.status.busy": "2021-06-29T07:27:07.866762Z",
     "iopub.status.idle": "2021-06-29T07:27:11.219882Z",
     "shell.execute_reply": "2021-06-29T07:27:11.219246Z",
     "shell.execute_reply.started": "2021-06-26T10:38:43.875249Z"
    },
    "papermill": {
     "duration": 3.395036,
     "end_time": "2021-06-29T07:27:11.220045",
     "exception": false,
     "start_time": "2021-06-29T07:27:07.825009",
     "status": "completed"
    },
    "tags": []
   },
   "outputs": [
    {
     "data": {
      "text/html": [
       "<div>\n",
       "<style scoped>\n",
       "    .dataframe tbody tr th:only-of-type {\n",
       "        vertical-align: middle;\n",
       "    }\n",
       "\n",
       "    .dataframe tbody tr th {\n",
       "        vertical-align: top;\n",
       "    }\n",
       "\n",
       "    .dataframe thead th {\n",
       "        text-align: right;\n",
       "    }\n",
       "</style>\n",
       "<table border=\"1\" class=\"dataframe\">\n",
       "  <thead>\n",
       "    <tr style=\"text-align: right;\">\n",
       "      <th></th>\n",
       "      <th>Classifier</th>\n",
       "      <th>Accuracy</th>\n",
       "    </tr>\n",
       "  </thead>\n",
       "  <tbody>\n",
       "    <tr>\n",
       "      <th>0</th>\n",
       "      <td>RandomForest</td>\n",
       "      <td>0.972028</td>\n",
       "    </tr>\n",
       "    <tr>\n",
       "      <th>1</th>\n",
       "      <td>Logistic</td>\n",
       "      <td>0.965035</td>\n",
       "    </tr>\n",
       "    <tr>\n",
       "      <th>2</th>\n",
       "      <td>KNeighbors</td>\n",
       "      <td>0.965035</td>\n",
       "    </tr>\n",
       "    <tr>\n",
       "      <th>3</th>\n",
       "      <td>LinearSVM</td>\n",
       "      <td>0.958042</td>\n",
       "    </tr>\n",
       "    <tr>\n",
       "      <th>4</th>\n",
       "      <td>GradientBoosting</td>\n",
       "      <td>0.958042</td>\n",
       "    </tr>\n",
       "    <tr>\n",
       "      <th>5</th>\n",
       "      <td>RadialSVM</td>\n",
       "      <td>0.951049</td>\n",
       "    </tr>\n",
       "    <tr>\n",
       "      <th>6</th>\n",
       "      <td>AdaBoost</td>\n",
       "      <td>0.951049</td>\n",
       "    </tr>\n",
       "    <tr>\n",
       "      <th>7</th>\n",
       "      <td>DecisionTree</td>\n",
       "      <td>0.930070</td>\n",
       "    </tr>\n",
       "  </tbody>\n",
       "</table>\n",
       "</div>"
      ],
      "text/plain": [
       "         Classifier  Accuracy\n",
       "0      RandomForest  0.972028\n",
       "1          Logistic  0.965035\n",
       "2        KNeighbors  0.965035\n",
       "3         LinearSVM  0.958042\n",
       "4  GradientBoosting  0.958042\n",
       "5         RadialSVM  0.951049\n",
       "6          AdaBoost  0.951049\n",
       "7      DecisionTree  0.930070"
      ]
     },
     "execution_count": 4,
     "metadata": {},
     "output_type": "execute_result"
    }
   ],
   "source": [
    "score1 = acc_score(data_bc,label_bc)\n",
    "score1"
   ]
  },
  {
   "cell_type": "code",
   "execution_count": 5,
   "id": "recovered-shore",
   "metadata": {
    "execution": {
     "iopub.execute_input": "2021-06-29T07:27:11.285053Z",
     "iopub.status.busy": "2021-06-29T07:27:11.283993Z",
     "iopub.status.idle": "2021-06-29T07:27:29.105499Z",
     "shell.execute_reply": "2021-06-29T07:27:29.104855Z",
     "shell.execute_reply.started": "2021-06-26T11:22:05.248917Z"
    },
    "papermill": {
     "duration": 17.858394,
     "end_time": "2021-06-29T07:27:29.105666",
     "exception": false,
     "start_time": "2021-06-29T07:27:11.247272",
     "status": "completed"
    },
    "tags": []
   },
   "outputs": [
    {
     "data": {
      "text/html": [
       "<style  type=\"text/css\" >\n",
       "#T_49b06_row3_col1,#T_49b06_row3_col2,#T_49b06_row3_col3,#T_49b06_row3_col4{\n",
       "            background-color:  aquamarine;\n",
       "        }</style><table id=\"T_49b06_\" ><thead>    <tr>        <th class=\"blank level0\" ></th>        <th class=\"col_heading level0 col0\" >Classifier</th>        <th class=\"col_heading level0 col1\" >0.04</th>        <th class=\"col_heading level0 col2\" >0.02</th>        <th class=\"col_heading level0 col3\" >0.01</th>        <th class=\"col_heading level0 col4\" >0.008</th>        <th class=\"col_heading level0 col5\" >0.004</th>        <th class=\"col_heading level0 col6\" >0.001</th>    </tr></thead><tbody>\n",
       "                <tr>\n",
       "                        <th id=\"T_49b06_level0_row0\" class=\"row_heading level0 row0\" >0</th>\n",
       "                        <td id=\"T_49b06_row0_col0\" class=\"data row0 col0\" >RandomForest</td>\n",
       "                        <td id=\"T_49b06_row0_col1\" class=\"data row0 col1\" >0.965035</td>\n",
       "                        <td id=\"T_49b06_row0_col2\" class=\"data row0 col2\" >0.965035</td>\n",
       "                        <td id=\"T_49b06_row0_col3\" class=\"data row0 col3\" >0.965035</td>\n",
       "                        <td id=\"T_49b06_row0_col4\" class=\"data row0 col4\" >0.965035</td>\n",
       "                        <td id=\"T_49b06_row0_col5\" class=\"data row0 col5\" >0.972028</td>\n",
       "                        <td id=\"T_49b06_row0_col6\" class=\"data row0 col6\" >0.965035</td>\n",
       "            </tr>\n",
       "            <tr>\n",
       "                        <th id=\"T_49b06_level0_row1\" class=\"row_heading level0 row1\" >1</th>\n",
       "                        <td id=\"T_49b06_row1_col0\" class=\"data row1 col0\" >Logistic</td>\n",
       "                        <td id=\"T_49b06_row1_col1\" class=\"data row1 col1\" >0.951049</td>\n",
       "                        <td id=\"T_49b06_row1_col2\" class=\"data row1 col2\" >0.951049</td>\n",
       "                        <td id=\"T_49b06_row1_col3\" class=\"data row1 col3\" >0.951049</td>\n",
       "                        <td id=\"T_49b06_row1_col4\" class=\"data row1 col4\" >0.951049</td>\n",
       "                        <td id=\"T_49b06_row1_col5\" class=\"data row1 col5\" >0.951049</td>\n",
       "                        <td id=\"T_49b06_row1_col6\" class=\"data row1 col6\" >0.951049</td>\n",
       "            </tr>\n",
       "            <tr>\n",
       "                        <th id=\"T_49b06_level0_row2\" class=\"row_heading level0 row2\" >2</th>\n",
       "                        <td id=\"T_49b06_row2_col0\" class=\"data row2 col0\" >KNeighbors</td>\n",
       "                        <td id=\"T_49b06_row2_col1\" class=\"data row2 col1\" >0.965035</td>\n",
       "                        <td id=\"T_49b06_row2_col2\" class=\"data row2 col2\" >0.972028</td>\n",
       "                        <td id=\"T_49b06_row2_col3\" class=\"data row2 col3\" >0.972028</td>\n",
       "                        <td id=\"T_49b06_row2_col4\" class=\"data row2 col4\" >0.972028</td>\n",
       "                        <td id=\"T_49b06_row2_col5\" class=\"data row2 col5\" >0.965035</td>\n",
       "                        <td id=\"T_49b06_row2_col6\" class=\"data row2 col6\" >0.958042</td>\n",
       "            </tr>\n",
       "            <tr>\n",
       "                        <th id=\"T_49b06_level0_row3\" class=\"row_heading level0 row3\" >3</th>\n",
       "                        <td id=\"T_49b06_row3_col0\" class=\"data row3 col0\" >LinearSVM</td>\n",
       "                        <td id=\"T_49b06_row3_col1\" class=\"data row3 col1\" >0.979021</td>\n",
       "                        <td id=\"T_49b06_row3_col2\" class=\"data row3 col2\" >0.979021</td>\n",
       "                        <td id=\"T_49b06_row3_col3\" class=\"data row3 col3\" >0.979021</td>\n",
       "                        <td id=\"T_49b06_row3_col4\" class=\"data row3 col4\" >0.979021</td>\n",
       "                        <td id=\"T_49b06_row3_col5\" class=\"data row3 col5\" >0.965035</td>\n",
       "                        <td id=\"T_49b06_row3_col6\" class=\"data row3 col6\" >0.972028</td>\n",
       "            </tr>\n",
       "            <tr>\n",
       "                        <th id=\"T_49b06_level0_row4\" class=\"row_heading level0 row4\" >4</th>\n",
       "                        <td id=\"T_49b06_row4_col0\" class=\"data row4 col0\" >GradientBoosting</td>\n",
       "                        <td id=\"T_49b06_row4_col1\" class=\"data row4 col1\" >0.958042</td>\n",
       "                        <td id=\"T_49b06_row4_col2\" class=\"data row4 col2\" >0.958042</td>\n",
       "                        <td id=\"T_49b06_row4_col3\" class=\"data row4 col3\" >0.958042</td>\n",
       "                        <td id=\"T_49b06_row4_col4\" class=\"data row4 col4\" >0.958042</td>\n",
       "                        <td id=\"T_49b06_row4_col5\" class=\"data row4 col5\" >0.951049</td>\n",
       "                        <td id=\"T_49b06_row4_col6\" class=\"data row4 col6\" >0.951049</td>\n",
       "            </tr>\n",
       "            <tr>\n",
       "                        <th id=\"T_49b06_level0_row5\" class=\"row_heading level0 row5\" >5</th>\n",
       "                        <td id=\"T_49b06_row5_col0\" class=\"data row5 col0\" >RadialSVM</td>\n",
       "                        <td id=\"T_49b06_row5_col1\" class=\"data row5 col1\" >0.951049</td>\n",
       "                        <td id=\"T_49b06_row5_col2\" class=\"data row5 col2\" >0.951049</td>\n",
       "                        <td id=\"T_49b06_row5_col3\" class=\"data row5 col3\" >0.951049</td>\n",
       "                        <td id=\"T_49b06_row5_col4\" class=\"data row5 col4\" >0.951049</td>\n",
       "                        <td id=\"T_49b06_row5_col5\" class=\"data row5 col5\" >0.923077</td>\n",
       "                        <td id=\"T_49b06_row5_col6\" class=\"data row5 col6\" >0.937063</td>\n",
       "            </tr>\n",
       "            <tr>\n",
       "                        <th id=\"T_49b06_level0_row6\" class=\"row_heading level0 row6\" >6</th>\n",
       "                        <td id=\"T_49b06_row6_col0\" class=\"data row6 col0\" >AdaBoost</td>\n",
       "                        <td id=\"T_49b06_row6_col1\" class=\"data row6 col1\" >0.965035</td>\n",
       "                        <td id=\"T_49b06_row6_col2\" class=\"data row6 col2\" >0.965035</td>\n",
       "                        <td id=\"T_49b06_row6_col3\" class=\"data row6 col3\" >0.965035</td>\n",
       "                        <td id=\"T_49b06_row6_col4\" class=\"data row6 col4\" >0.965035</td>\n",
       "                        <td id=\"T_49b06_row6_col5\" class=\"data row6 col5\" >0.965035</td>\n",
       "                        <td id=\"T_49b06_row6_col6\" class=\"data row6 col6\" >0.965035</td>\n",
       "            </tr>\n",
       "            <tr>\n",
       "                        <th id=\"T_49b06_level0_row7\" class=\"row_heading level0 row7\" >7</th>\n",
       "                        <td id=\"T_49b06_row7_col0\" class=\"data row7 col0\" >DecisionTree</td>\n",
       "                        <td id=\"T_49b06_row7_col1\" class=\"data row7 col1\" >0.972028</td>\n",
       "                        <td id=\"T_49b06_row7_col2\" class=\"data row7 col2\" >0.965035</td>\n",
       "                        <td id=\"T_49b06_row7_col3\" class=\"data row7 col3\" >0.965035</td>\n",
       "                        <td id=\"T_49b06_row7_col4\" class=\"data row7 col4\" >0.965035</td>\n",
       "                        <td id=\"T_49b06_row7_col5\" class=\"data row7 col5\" >0.958042</td>\n",
       "                        <td id=\"T_49b06_row7_col6\" class=\"data row7 col6\" >0.958042</td>\n",
       "            </tr>\n",
       "    </tbody></table>"
      ],
      "text/plain": [
       "<pandas.io.formats.style.Styler at 0x7f5ad1b7f390>"
      ]
     },
     "execution_count": 5,
     "metadata": {},
     "output_type": "execute_result"
    }
   ],
   "source": [
    "threshold_bc = [0.04,0.02,0.01,0.008,0.004,0.001]\n",
    "classifiers = score1[\"Classifier\"].tolist()\n",
    "score_bc = acc_score_thr(data_bc,label_bc,threshold_bc)\n",
    "score_bc.style.apply(highlight_max, subset = score_bc.columns[1:], axis=None)"
   ]
  },
  {
   "cell_type": "markdown",
   "id": "neither-sigma",
   "metadata": {
    "papermill": {
     "duration": 0.02711,
     "end_time": "2021-06-29T07:27:29.159859",
     "exception": false,
     "start_time": "2021-06-29T07:27:29.132749",
     "status": "completed"
    },
    "tags": []
   },
   "source": [
    "#### Best Accuracy with all features : RandomForest Classifier - 0.972\n",
    "#### Best Accuracy after applying with VarianceThreshold() : LinearSVM - for threshold = (0.04,0.02,0.01,0.008) - 0.979\n",
    "#### Here we can only see a slight improvement."
   ]
  },
  {
   "cell_type": "markdown",
   "id": "stuffed-louisville",
   "metadata": {
    "papermill": {
     "duration": 0.027501,
     "end_time": "2021-06-29T07:27:29.214967",
     "exception": false,
     "start_time": "2021-06-29T07:27:29.187466",
     "status": "completed"
    },
    "tags": []
   },
   "source": [
    "### 3. Visualization"
   ]
  },
  {
   "cell_type": "code",
   "execution_count": 6,
   "id": "interim-empty",
   "metadata": {
    "execution": {
     "iopub.execute_input": "2021-06-29T07:27:29.293165Z",
     "iopub.status.busy": "2021-06-29T07:27:29.292449Z",
     "iopub.status.idle": "2021-06-29T07:27:30.397722Z",
     "shell.execute_reply": "2021-06-29T07:27:30.397173Z",
     "shell.execute_reply.started": "2021-06-26T11:22:30.368321Z"
    },
    "papermill": {
     "duration": 1.155455,
     "end_time": "2021-06-29T07:27:30.397875",
     "exception": false,
     "start_time": "2021-06-29T07:27:29.242420",
     "status": "completed"
    },
    "tags": []
   },
   "outputs": [
    {
     "data": {
      "image/png": "[encoded data removed]",
      "text/plain": [
       "<Figure size 1152x1296 with 8 Axes>"
      ]
     },
     "metadata": {
      "needs_background": "light"
     },
     "output_type": "display_data"
    }
   ],
   "source": [
    "plot2(score_bc,0.90,1,2.5,0.91,c = \"gold\")"
   ]
  },
  {
   "cell_type": "markdown",
   "id": "understanding-assistant",
   "metadata": {
    "papermill": {
     "duration": 0.028476,
     "end_time": "2021-06-29T07:27:30.456720",
     "exception": false,
     "start_time": "2021-06-29T07:27:30.428244",
     "status": "completed"
    },
    "tags": []
   },
   "source": [
    "______\n",
    "# Parkinson's disease\n",
    "_______"
   ]
  },
  {
   "cell_type": "markdown",
   "id": "arbitrary-walnut",
   "metadata": {
    "papermill": {
     "duration": 0.02853,
     "end_time": "2021-06-29T07:27:30.514029",
     "exception": false,
     "start_time": "2021-06-29T07:27:30.485499",
     "status": "completed"
    },
    "tags": []
   },
   "source": [
    "### 1. Looking at dataset"
   ]
  },
  {
   "cell_type": "code",
   "execution_count": 7,
   "id": "monthly-denmark",
   "metadata": {
    "execution": {
     "iopub.execute_input": "2021-06-29T07:27:30.577971Z",
     "iopub.status.busy": "2021-06-29T07:27:30.577132Z",
     "iopub.status.idle": "2021-06-29T07:27:30.605228Z",
     "shell.execute_reply": "2021-06-29T07:27:30.604605Z",
     "shell.execute_reply.started": "2021-06-26T10:59:02.697015Z"
    },
    "papermill": {
     "duration": 0.062282,
     "end_time": "2021-06-29T07:27:30.605387",
     "exception": false,
     "start_time": "2021-06-29T07:27:30.543105",
     "status": "completed"
    },
    "tags": []
   },
   "outputs": [
    {
     "name": "stdout",
     "output_type": "stream",
     "text": [
      "Parkinson's disease dataset:\n",
      " 195 Records\n",
      " 22 Features\n"
     ]
    }
   ],
   "source": [
    "data_pd = pd.read_csv(\"../input/parkinson-disease-detection/Parkinsson disease.csv\")\n",
    "label_pd = data_pd[\"status\"]\n",
    "data_pd.drop([\"status\",\"name\"],axis = 1,inplace = True)\n",
    "\n",
    "print(\"Parkinson's disease dataset:\\n\",data_pd.shape[0],\"Records\\n\",data_pd.shape[1],\"Features\")"
   ]
  },
  {
   "cell_type": "code",
   "execution_count": 8,
   "id": "completed-receipt",
   "metadata": {
    "execution": {
     "iopub.execute_input": "2021-06-29T07:27:30.680767Z",
     "iopub.status.busy": "2021-06-29T07:27:30.680050Z",
     "iopub.status.idle": "2021-06-29T07:27:30.699037Z",
     "shell.execute_reply": "2021-06-29T07:27:30.698354Z",
     "shell.execute_reply.started": "2021-06-26T10:59:02.7198Z"
    },
    "papermill": {
     "duration": 0.062984,
     "end_time": "2021-06-29T07:27:30.699187",
     "exception": false,
     "start_time": "2021-06-29T07:27:30.636203",
     "status": "completed"
    },
    "tags": []
   },
   "outputs": [
    {
     "data": {
      "text/html": [
       "<div>\n",
       "<style scoped>\n",
       "    .dataframe tbody tr th:only-of-type {\n",
       "        vertical-align: middle;\n",
       "    }\n",
       "\n",
       "    .dataframe tbody tr th {\n",
       "        vertical-align: top;\n",
       "    }\n",
       "\n",
       "    .dataframe thead th {\n",
       "        text-align: right;\n",
       "    }\n",
       "</style>\n",
       "<table border=\"1\" class=\"dataframe\">\n",
       "  <thead>\n",
       "    <tr style=\"text-align: right;\">\n",
       "      <th></th>\n",
       "      <th>MDVP:Fo(Hz)</th>\n",
       "      <th>MDVP:Fhi(Hz)</th>\n",
       "      <th>MDVP:Flo(Hz)</th>\n",
       "      <th>MDVP:Jitter(%)</th>\n",
       "      <th>MDVP:Jitter(Abs)</th>\n",
       "      <th>MDVP:RAP</th>\n",
       "      <th>MDVP:PPQ</th>\n",
       "      <th>Jitter:DDP</th>\n",
       "      <th>MDVP:Shimmer</th>\n",
       "      <th>MDVP:Shimmer(dB)</th>\n",
       "      <th>...</th>\n",
       "      <th>MDVP:APQ</th>\n",
       "      <th>Shimmer:DDA</th>\n",
       "      <th>NHR</th>\n",
       "      <th>HNR</th>\n",
       "      <th>RPDE</th>\n",
       "      <th>DFA</th>\n",
       "      <th>spread1</th>\n",
       "      <th>spread2</th>\n",
       "      <th>D2</th>\n",
       "      <th>PPE</th>\n",
       "    </tr>\n",
       "  </thead>\n",
       "  <tbody>\n",
       "    <tr>\n",
       "      <th>0</th>\n",
       "      <td>119.992</td>\n",
       "      <td>157.302</td>\n",
       "      <td>74.997</td>\n",
       "      <td>0.00784</td>\n",
       "      <td>0.00007</td>\n",
       "      <td>0.00370</td>\n",
       "      <td>0.00554</td>\n",
       "      <td>0.01109</td>\n",
       "      <td>0.04374</td>\n",
       "      <td>0.426</td>\n",
       "      <td>...</td>\n",
       "      <td>0.02971</td>\n",
       "      <td>0.06545</td>\n",
       "      <td>0.02211</td>\n",
       "      <td>21.033</td>\n",
       "      <td>0.414783</td>\n",
       "      <td>0.815285</td>\n",
       "      <td>-4.813031</td>\n",
       "      <td>0.266482</td>\n",
       "      <td>2.301442</td>\n",
       "      <td>0.284654</td>\n",
       "    </tr>\n",
       "    <tr>\n",
       "      <th>1</th>\n",
       "      <td>122.400</td>\n",
       "      <td>148.650</td>\n",
       "      <td>113.819</td>\n",
       "      <td>0.00968</td>\n",
       "      <td>0.00008</td>\n",
       "      <td>0.00465</td>\n",
       "      <td>0.00696</td>\n",
       "      <td>0.01394</td>\n",
       "      <td>0.06134</td>\n",
       "      <td>0.626</td>\n",
       "      <td>...</td>\n",
       "      <td>0.04368</td>\n",
       "      <td>0.09403</td>\n",
       "      <td>0.01929</td>\n",
       "      <td>19.085</td>\n",
       "      <td>0.458359</td>\n",
       "      <td>0.819521</td>\n",
       "      <td>-4.075192</td>\n",
       "      <td>0.335590</td>\n",
       "      <td>2.486855</td>\n",
       "      <td>0.368674</td>\n",
       "    </tr>\n",
       "    <tr>\n",
       "      <th>2</th>\n",
       "      <td>116.682</td>\n",
       "      <td>131.111</td>\n",
       "      <td>111.555</td>\n",
       "      <td>0.01050</td>\n",
       "      <td>0.00009</td>\n",
       "      <td>0.00544</td>\n",
       "      <td>0.00781</td>\n",
       "      <td>0.01633</td>\n",
       "      <td>0.05233</td>\n",
       "      <td>0.482</td>\n",
       "      <td>...</td>\n",
       "      <td>0.03590</td>\n",
       "      <td>0.08270</td>\n",
       "      <td>0.01309</td>\n",
       "      <td>20.651</td>\n",
       "      <td>0.429895</td>\n",
       "      <td>0.825288</td>\n",
       "      <td>-4.443179</td>\n",
       "      <td>0.311173</td>\n",
       "      <td>2.342259</td>\n",
       "      <td>0.332634</td>\n",
       "    </tr>\n",
       "    <tr>\n",
       "      <th>3</th>\n",
       "      <td>116.676</td>\n",
       "      <td>137.871</td>\n",
       "      <td>111.366</td>\n",
       "      <td>0.00997</td>\n",
       "      <td>0.00009</td>\n",
       "      <td>0.00502</td>\n",
       "      <td>0.00698</td>\n",
       "      <td>0.01505</td>\n",
       "      <td>0.05492</td>\n",
       "      <td>0.517</td>\n",
       "      <td>...</td>\n",
       "      <td>0.03772</td>\n",
       "      <td>0.08771</td>\n",
       "      <td>0.01353</td>\n",
       "      <td>20.644</td>\n",
       "      <td>0.434969</td>\n",
       "      <td>0.819235</td>\n",
       "      <td>-4.117501</td>\n",
       "      <td>0.334147</td>\n",
       "      <td>2.405554</td>\n",
       "      <td>0.368975</td>\n",
       "    </tr>\n",
       "    <tr>\n",
       "      <th>4</th>\n",
       "      <td>116.014</td>\n",
       "      <td>141.781</td>\n",
       "      <td>110.655</td>\n",
       "      <td>0.01284</td>\n",
       "      <td>0.00011</td>\n",
       "      <td>0.00655</td>\n",
       "      <td>0.00908</td>\n",
       "      <td>0.01966</td>\n",
       "      <td>0.06425</td>\n",
       "      <td>0.584</td>\n",
       "      <td>...</td>\n",
       "      <td>0.04465</td>\n",
       "      <td>0.10470</td>\n",
       "      <td>0.01767</td>\n",
       "      <td>19.649</td>\n",
       "      <td>0.417356</td>\n",
       "      <td>0.823484</td>\n",
       "      <td>-3.747787</td>\n",
       "      <td>0.234513</td>\n",
       "      <td>2.332180</td>\n",
       "      <td>0.410335</td>\n",
       "    </tr>\n",
       "  </tbody>\n",
       "</table>\n",
       "<p>5 rows × 22 columns</p>\n",
       "</div>"
      ],
      "text/plain": [
       "   MDVP:Fo(Hz)  MDVP:Fhi(Hz)  MDVP:Flo(Hz)  MDVP:Jitter(%)  MDVP:Jitter(Abs)  \\\n",
       "0      119.992       157.302        74.997         0.00784           0.00007   \n",
       "1      122.400       148.650       113.819         0.00968           0.00008   \n",
       "2      116.682       131.111       111.555         0.01050           0.00009   \n",
       "3      116.676       137.871       111.366         0.00997           0.00009   \n",
       "4      116.014       141.781       110.655         0.01284           0.00011   \n",
       "\n",
       "   MDVP:RAP  MDVP:PPQ  Jitter:DDP  MDVP:Shimmer  MDVP:Shimmer(dB)  ...  \\\n",
       "0   0.00370   0.00554     0.01109       0.04374             0.426  ...   \n",
       "1   0.00465   0.00696     0.01394       0.06134             0.626  ...   \n",
       "2   0.00544   0.00781     0.01633       0.05233             0.482  ...   \n",
       "3   0.00502   0.00698     0.01505       0.05492             0.517  ...   \n",
       "4   0.00655   0.00908     0.01966       0.06425             0.584  ...   \n",
       "\n",
       "   MDVP:APQ  Shimmer:DDA      NHR     HNR      RPDE       DFA   spread1  \\\n",
       "0   0.02971      0.06545  0.02211  21.033  0.414783  0.815285 -4.813031   \n",
       "1   0.04368      0.09403  0.01929  19.085  0.458359  0.819521 -4.075192   \n",
       "2   0.03590      0.08270  0.01309  20.651  0.429895  0.825288 -4.443179   \n",
       "3   0.03772      0.08771  0.01353  20.644  0.434969  0.819235 -4.117501   \n",
       "4   0.04465      0.10470  0.01767  19.649  0.417356  0.823484 -3.747787   \n",
       "\n",
       "    spread2        D2       PPE  \n",
       "0  0.266482  2.301442  0.284654  \n",
       "1  0.335590  2.486855  0.368674  \n",
       "2  0.311173  2.342259  0.332634  \n",
       "3  0.334147  2.405554  0.368975  \n",
       "4  0.234513  2.332180  0.410335  \n",
       "\n",
       "[5 rows x 22 columns]"
      ]
     },
     "metadata": {},
     "output_type": "display_data"
    },
    {
     "name": "stdout",
     "output_type": "stream",
     "text": [
      "All the features in this dataset have continuous values\n"
     ]
    }
   ],
   "source": [
    "display(data_pd.head())\n",
    "print(\"All the features in this dataset have continuous values\")"
   ]
  },
  {
   "cell_type": "markdown",
   "id": "about-agreement",
   "metadata": {
    "papermill": {
     "duration": 0.030365,
     "end_time": "2021-06-29T07:27:30.761252",
     "exception": false,
     "start_time": "2021-06-29T07:27:30.730887",
     "status": "completed"
    },
    "tags": []
   },
   "source": [
    "### 2. Checking Accuracy"
   ]
  },
  {
   "cell_type": "code",
   "execution_count": 9,
   "id": "after-contamination",
   "metadata": {
    "execution": {
     "iopub.execute_input": "2021-06-29T07:27:30.834726Z",
     "iopub.status.busy": "2021-06-29T07:27:30.833998Z",
     "iopub.status.idle": "2021-06-29T07:27:31.710189Z",
     "shell.execute_reply": "2021-06-29T07:27:31.709488Z",
     "shell.execute_reply.started": "2021-06-26T10:59:02.752251Z"
    },
    "papermill": {
     "duration": 0.915938,
     "end_time": "2021-06-29T07:27:31.710336",
     "exception": false,
     "start_time": "2021-06-29T07:27:30.794398",
     "status": "completed"
    },
    "tags": []
   },
   "outputs": [
    {
     "data": {
      "text/html": [
       "<div>\n",
       "<style scoped>\n",
       "    .dataframe tbody tr th:only-of-type {\n",
       "        vertical-align: middle;\n",
       "    }\n",
       "\n",
       "    .dataframe tbody tr th {\n",
       "        vertical-align: top;\n",
       "    }\n",
       "\n",
       "    .dataframe thead th {\n",
       "        text-align: right;\n",
       "    }\n",
       "</style>\n",
       "<table border=\"1\" class=\"dataframe\">\n",
       "  <thead>\n",
       "    <tr style=\"text-align: right;\">\n",
       "      <th></th>\n",
       "      <th>Classifier</th>\n",
       "      <th>Accuracy</th>\n",
       "    </tr>\n",
       "  </thead>\n",
       "  <tbody>\n",
       "    <tr>\n",
       "      <th>0</th>\n",
       "      <td>LinearSVM</td>\n",
       "      <td>0.918367</td>\n",
       "    </tr>\n",
       "    <tr>\n",
       "      <th>1</th>\n",
       "      <td>KNeighbors</td>\n",
       "      <td>0.897959</td>\n",
       "    </tr>\n",
       "    <tr>\n",
       "      <th>2</th>\n",
       "      <td>DecisionTree</td>\n",
       "      <td>0.897959</td>\n",
       "    </tr>\n",
       "    <tr>\n",
       "      <th>3</th>\n",
       "      <td>RandomForest</td>\n",
       "      <td>0.877551</td>\n",
       "    </tr>\n",
       "    <tr>\n",
       "      <th>4</th>\n",
       "      <td>RadialSVM</td>\n",
       "      <td>0.877551</td>\n",
       "    </tr>\n",
       "    <tr>\n",
       "      <th>5</th>\n",
       "      <td>GradientBoosting</td>\n",
       "      <td>0.857143</td>\n",
       "    </tr>\n",
       "    <tr>\n",
       "      <th>6</th>\n",
       "      <td>Logistic</td>\n",
       "      <td>0.836735</td>\n",
       "    </tr>\n",
       "    <tr>\n",
       "      <th>7</th>\n",
       "      <td>AdaBoost</td>\n",
       "      <td>0.836735</td>\n",
       "    </tr>\n",
       "  </tbody>\n",
       "</table>\n",
       "</div>"
      ],
      "text/plain": [
       "         Classifier  Accuracy\n",
       "0         LinearSVM  0.918367\n",
       "1        KNeighbors  0.897959\n",
       "2      DecisionTree  0.897959\n",
       "3      RandomForest  0.877551\n",
       "4         RadialSVM  0.877551\n",
       "5  GradientBoosting  0.857143\n",
       "6          Logistic  0.836735\n",
       "7          AdaBoost  0.836735"
      ]
     },
     "execution_count": 9,
     "metadata": {},
     "output_type": "execute_result"
    }
   ],
   "source": [
    "score3 = acc_score(data_pd,label_pd)\n",
    "score3"
   ]
  },
  {
   "cell_type": "code",
   "execution_count": 10,
   "id": "beneficial-bernard",
   "metadata": {
    "execution": {
     "iopub.execute_input": "2021-06-29T07:27:31.785053Z",
     "iopub.status.busy": "2021-06-29T07:27:31.784349Z",
     "iopub.status.idle": "2021-06-29T07:27:37.561175Z",
     "shell.execute_reply": "2021-06-29T07:27:37.560452Z",
     "shell.execute_reply.started": "2021-06-26T11:11:32.392411Z"
    },
    "papermill": {
     "duration": 5.820176,
     "end_time": "2021-06-29T07:27:37.561325",
     "exception": false,
     "start_time": "2021-06-29T07:27:31.741149",
     "status": "completed"
    },
    "tags": []
   },
   "outputs": [
    {
     "data": {
      "text/html": [
       "<style  type=\"text/css\" >\n",
       "#T_06c97_row3_col3,#T_06c97_row3_col5,#T_06c97_row3_col6,#T_06c97_row5_col6{\n",
       "            background-color:  aquamarine;\n",
       "        }</style><table id=\"T_06c97_\" ><thead>    <tr>        <th class=\"blank level0\" ></th>        <th class=\"col_heading level0 col0\" >Classifier</th>        <th class=\"col_heading level0 col1\" >0.05</th>        <th class=\"col_heading level0 col2\" >0.01</th>        <th class=\"col_heading level0 col3\" >0.005</th>        <th class=\"col_heading level0 col4\" >0.001</th>        <th class=\"col_heading level0 col5\" >0.0001</th>        <th class=\"col_heading level0 col6\" >0.0005</th>    </tr></thead><tbody>\n",
       "                <tr>\n",
       "                        <th id=\"T_06c97_level0_row0\" class=\"row_heading level0 row0\" >0</th>\n",
       "                        <td id=\"T_06c97_row0_col0\" class=\"data row0 col0\" >LinearSVM</td>\n",
       "                        <td id=\"T_06c97_row0_col1\" class=\"data row0 col1\" >0.877551</td>\n",
       "                        <td id=\"T_06c97_row0_col2\" class=\"data row0 col2\" >0.877551</td>\n",
       "                        <td id=\"T_06c97_row0_col3\" class=\"data row0 col3\" >0.877551</td>\n",
       "                        <td id=\"T_06c97_row0_col4\" class=\"data row0 col4\" >0.877551</td>\n",
       "                        <td id=\"T_06c97_row0_col5\" class=\"data row0 col5\" >0.877551</td>\n",
       "                        <td id=\"T_06c97_row0_col6\" class=\"data row0 col6\" >0.877551</td>\n",
       "            </tr>\n",
       "            <tr>\n",
       "                        <th id=\"T_06c97_level0_row1\" class=\"row_heading level0 row1\" >1</th>\n",
       "                        <td id=\"T_06c97_row1_col0\" class=\"data row1 col0\" >KNeighbors</td>\n",
       "                        <td id=\"T_06c97_row1_col1\" class=\"data row1 col1\" >0.836735</td>\n",
       "                        <td id=\"T_06c97_row1_col2\" class=\"data row1 col2\" >0.836735</td>\n",
       "                        <td id=\"T_06c97_row1_col3\" class=\"data row1 col3\" >0.836735</td>\n",
       "                        <td id=\"T_06c97_row1_col4\" class=\"data row1 col4\" >0.836735</td>\n",
       "                        <td id=\"T_06c97_row1_col5\" class=\"data row1 col5\" >0.836735</td>\n",
       "                        <td id=\"T_06c97_row1_col6\" class=\"data row1 col6\" >0.836735</td>\n",
       "            </tr>\n",
       "            <tr>\n",
       "                        <th id=\"T_06c97_level0_row2\" class=\"row_heading level0 row2\" >2</th>\n",
       "                        <td id=\"T_06c97_row2_col0\" class=\"data row2 col0\" >DecisionTree</td>\n",
       "                        <td id=\"T_06c97_row2_col1\" class=\"data row2 col1\" >0.897959</td>\n",
       "                        <td id=\"T_06c97_row2_col2\" class=\"data row2 col2\" >0.897959</td>\n",
       "                        <td id=\"T_06c97_row2_col3\" class=\"data row2 col3\" >0.897959</td>\n",
       "                        <td id=\"T_06c97_row2_col4\" class=\"data row2 col4\" >0.897959</td>\n",
       "                        <td id=\"T_06c97_row2_col5\" class=\"data row2 col5\" >0.897959</td>\n",
       "                        <td id=\"T_06c97_row2_col6\" class=\"data row2 col6\" >0.897959</td>\n",
       "            </tr>\n",
       "            <tr>\n",
       "                        <th id=\"T_06c97_level0_row3\" class=\"row_heading level0 row3\" >3</th>\n",
       "                        <td id=\"T_06c97_row3_col0\" class=\"data row3 col0\" >RandomForest</td>\n",
       "                        <td id=\"T_06c97_row3_col1\" class=\"data row3 col1\" >0.897959</td>\n",
       "                        <td id=\"T_06c97_row3_col2\" class=\"data row3 col2\" >0.877551</td>\n",
       "                        <td id=\"T_06c97_row3_col3\" class=\"data row3 col3\" >0.938776</td>\n",
       "                        <td id=\"T_06c97_row3_col4\" class=\"data row3 col4\" >0.918367</td>\n",
       "                        <td id=\"T_06c97_row3_col5\" class=\"data row3 col5\" >0.938776</td>\n",
       "                        <td id=\"T_06c97_row3_col6\" class=\"data row3 col6\" >0.938776</td>\n",
       "            </tr>\n",
       "            <tr>\n",
       "                        <th id=\"T_06c97_level0_row4\" class=\"row_heading level0 row4\" >4</th>\n",
       "                        <td id=\"T_06c97_row4_col0\" class=\"data row4 col0\" >RadialSVM</td>\n",
       "                        <td id=\"T_06c97_row4_col1\" class=\"data row4 col1\" >0.857143</td>\n",
       "                        <td id=\"T_06c97_row4_col2\" class=\"data row4 col2\" >0.857143</td>\n",
       "                        <td id=\"T_06c97_row4_col3\" class=\"data row4 col3\" >0.857143</td>\n",
       "                        <td id=\"T_06c97_row4_col4\" class=\"data row4 col4\" >0.857143</td>\n",
       "                        <td id=\"T_06c97_row4_col5\" class=\"data row4 col5\" >0.877551</td>\n",
       "                        <td id=\"T_06c97_row4_col6\" class=\"data row4 col6\" >0.877551</td>\n",
       "            </tr>\n",
       "            <tr>\n",
       "                        <th id=\"T_06c97_level0_row5\" class=\"row_heading level0 row5\" >5</th>\n",
       "                        <td id=\"T_06c97_row5_col0\" class=\"data row5 col0\" >GradientBoosting</td>\n",
       "                        <td id=\"T_06c97_row5_col1\" class=\"data row5 col1\" >0.897959</td>\n",
       "                        <td id=\"T_06c97_row5_col2\" class=\"data row5 col2\" >0.897959</td>\n",
       "                        <td id=\"T_06c97_row5_col3\" class=\"data row5 col3\" >0.836735</td>\n",
       "                        <td id=\"T_06c97_row5_col4\" class=\"data row5 col4\" >0.877551</td>\n",
       "                        <td id=\"T_06c97_row5_col5\" class=\"data row5 col5\" >0.857143</td>\n",
       "                        <td id=\"T_06c97_row5_col6\" class=\"data row5 col6\" >0.938776</td>\n",
       "            </tr>\n",
       "            <tr>\n",
       "                        <th id=\"T_06c97_level0_row6\" class=\"row_heading level0 row6\" >6</th>\n",
       "                        <td id=\"T_06c97_row6_col0\" class=\"data row6 col0\" >Logistic</td>\n",
       "                        <td id=\"T_06c97_row6_col1\" class=\"data row6 col1\" >0.836735</td>\n",
       "                        <td id=\"T_06c97_row6_col2\" class=\"data row6 col2\" >0.836735</td>\n",
       "                        <td id=\"T_06c97_row6_col3\" class=\"data row6 col3\" >0.836735</td>\n",
       "                        <td id=\"T_06c97_row6_col4\" class=\"data row6 col4\" >0.836735</td>\n",
       "                        <td id=\"T_06c97_row6_col5\" class=\"data row6 col5\" >0.836735</td>\n",
       "                        <td id=\"T_06c97_row6_col6\" class=\"data row6 col6\" >0.836735</td>\n",
       "            </tr>\n",
       "            <tr>\n",
       "                        <th id=\"T_06c97_level0_row7\" class=\"row_heading level0 row7\" >7</th>\n",
       "                        <td id=\"T_06c97_row7_col0\" class=\"data row7 col0\" >AdaBoost</td>\n",
       "                        <td id=\"T_06c97_row7_col1\" class=\"data row7 col1\" >0.857143</td>\n",
       "                        <td id=\"T_06c97_row7_col2\" class=\"data row7 col2\" >0.877551</td>\n",
       "                        <td id=\"T_06c97_row7_col3\" class=\"data row7 col3\" >0.877551</td>\n",
       "                        <td id=\"T_06c97_row7_col4\" class=\"data row7 col4\" >0.918367</td>\n",
       "                        <td id=\"T_06c97_row7_col5\" class=\"data row7 col5\" >0.918367</td>\n",
       "                        <td id=\"T_06c97_row7_col6\" class=\"data row7 col6\" >0.918367</td>\n",
       "            </tr>\n",
       "    </tbody></table>"
      ],
      "text/plain": [
       "<pandas.io.formats.style.Styler at 0x7f5aa5edc210>"
      ]
     },
     "execution_count": 10,
     "metadata": {},
     "output_type": "execute_result"
    }
   ],
   "source": [
    "threshold_pd = [0.05,0.01,0.005,0.001,0.0001,0.0005]\n",
    "classifiers = score3[\"Classifier\"].tolist()\n",
    "score_pd = acc_score_thr(data_pd,label_pd,threshold_pd)\n",
    "score_pd.style.apply(highlight_max, subset = score_pd.columns[1:], axis=None)"
   ]
  },
  {
   "cell_type": "markdown",
   "id": "stupid-adobe",
   "metadata": {
    "papermill": {
     "duration": 0.030873,
     "end_time": "2021-06-29T07:27:37.624149",
     "exception": false,
     "start_time": "2021-06-29T07:27:37.593276",
     "status": "completed"
    },
    "tags": []
   },
   "source": [
    "#### Best Accuracy with all features : RandomForest Classifier - 0.918\n",
    "#### Best Accuracy after applying with VarianceThreshold() : RandomForest Classifier - for threshold = (0.005,0.0001,0.0005) - 0.938 and LiearSVM - for threshold = (0.0005) - 0.938\n",
    "#### Here we can see an improvement of 2%."
   ]
  },
  {
   "cell_type": "markdown",
   "id": "crude-grain",
   "metadata": {
    "papermill": {
     "duration": 0.031847,
     "end_time": "2021-06-29T07:27:37.689617",
     "exception": false,
     "start_time": "2021-06-29T07:27:37.657770",
     "status": "completed"
    },
    "tags": []
   },
   "source": [
    "### 3. Visualization"
   ]
  },
  {
   "cell_type": "code",
   "execution_count": 11,
   "id": "pretty-wyoming",
   "metadata": {
    "execution": {
     "iopub.execute_input": "2021-06-29T07:27:37.781736Z",
     "iopub.status.busy": "2021-06-29T07:27:37.780222Z",
     "iopub.status.idle": "2021-06-29T07:27:38.792902Z",
     "shell.execute_reply": "2021-06-29T07:27:38.792190Z",
     "shell.execute_reply.started": "2021-06-26T11:22:31.827057Z"
    },
    "papermill": {
     "duration": 1.072087,
     "end_time": "2021-06-29T07:27:38.793049",
     "exception": false,
     "start_time": "2021-06-29T07:27:37.720962",
     "status": "completed"
    },
    "tags": []
   },
   "outputs": [
    {
     "data": {
      "image/png": "[encoded data removed]",
      "text/plain": [
       "<Figure size 1152x1296 with 8 Axes>"
      ]
     },
     "metadata": {
      "needs_background": "light"
     },
     "output_type": "display_data"
    }
   ],
   "source": [
    "plot2(score_pd,0.65,1.0,1,0.7,c = \"orange\")"
   ]
  },
  {
   "cell_type": "markdown",
   "id": "unnecessary-deposit",
   "metadata": {
    "papermill": {
     "duration": 0.033049,
     "end_time": "2021-06-29T07:27:38.859979",
     "exception": false,
     "start_time": "2021-06-29T07:27:38.826930",
     "status": "completed"
    },
    "tags": []
   },
   "source": [
    "________\n",
    "# PCOS\n",
    "________"
   ]
  },
  {
   "cell_type": "markdown",
   "id": "composed-yesterday",
   "metadata": {
    "papermill": {
     "duration": 0.033853,
     "end_time": "2021-06-29T07:27:38.927927",
     "exception": false,
     "start_time": "2021-06-29T07:27:38.894074",
     "status": "completed"
    },
    "tags": []
   },
   "source": [
    "### 1. Looking at dataset"
   ]
  },
  {
   "cell_type": "code",
   "execution_count": 12,
   "id": "spanish-luxury",
   "metadata": {
    "execution": {
     "iopub.execute_input": "2021-06-29T07:27:39.002402Z",
     "iopub.status.busy": "2021-06-29T07:27:39.001710Z",
     "iopub.status.idle": "2021-06-29T07:27:39.037059Z",
     "shell.execute_reply": "2021-06-29T07:27:39.036493Z",
     "shell.execute_reply.started": "2021-06-26T11:00:12.204822Z"
    },
    "papermill": {
     "duration": 0.075361,
     "end_time": "2021-06-29T07:27:39.037243",
     "exception": false,
     "start_time": "2021-06-29T07:27:38.961882",
     "status": "completed"
    },
    "tags": []
   },
   "outputs": [
    {
     "name": "stdout",
     "output_type": "stream",
     "text": [
      "PCOS dataset:\n",
      " 541 Records\n",
      " 39 Features\n"
     ]
    }
   ],
   "source": [
    "data_pcos = pd.read_csv(\"../input/pcos-dataset/PCOS_data.csv\")\n",
    "label_pcos = data_pcos[\"PCOS (Y/N)\"]\n",
    "data_pcos.drop([\"Sl. No\",\"Patient File No.\",\"PCOS (Y/N)\",\"Unnamed: 44\",\"II    beta-HCG(mIU/mL)\",\"AMH(ng/mL)\"],axis = 1,inplace = True)\n",
    "data_pcos[\"Marraige Status (Yrs)\"].fillna(data_pcos['Marraige Status (Yrs)'].describe().loc[['50%']][0], inplace = True) \n",
    "data_pcos[\"Fast food (Y/N)\"].fillna(1, inplace = True) \n",
    "\n",
    "print(\"PCOS dataset:\\n\",data_pcos.shape[0],\"Records\\n\",data_pcos.shape[1],\"Features\")"
   ]
  },
  {
   "cell_type": "code",
   "execution_count": 13,
   "id": "unlimited-expert",
   "metadata": {
    "execution": {
     "iopub.execute_input": "2021-06-29T07:27:39.118668Z",
     "iopub.status.busy": "2021-06-29T07:27:39.117282Z",
     "iopub.status.idle": "2021-06-29T07:27:39.136524Z",
     "shell.execute_reply": "2021-06-29T07:27:39.137165Z",
     "shell.execute_reply.started": "2021-06-26T11:00:12.485592Z"
    },
    "papermill": {
     "duration": 0.066461,
     "end_time": "2021-06-29T07:27:39.137402",
     "exception": false,
     "start_time": "2021-06-29T07:27:39.070941",
     "status": "completed"
    },
    "tags": []
   },
   "outputs": [
    {
     "data": {
      "text/html": [
       "<div>\n",
       "<style scoped>\n",
       "    .dataframe tbody tr th:only-of-type {\n",
       "        vertical-align: middle;\n",
       "    }\n",
       "\n",
       "    .dataframe tbody tr th {\n",
       "        vertical-align: top;\n",
       "    }\n",
       "\n",
       "    .dataframe thead th {\n",
       "        text-align: right;\n",
       "    }\n",
       "</style>\n",
       "<table border=\"1\" class=\"dataframe\">\n",
       "  <thead>\n",
       "    <tr style=\"text-align: right;\">\n",
       "      <th></th>\n",
       "      <th>Age (yrs)</th>\n",
       "      <th>Weight (Kg)</th>\n",
       "      <th>Height(Cm)</th>\n",
       "      <th>BMI</th>\n",
       "      <th>Blood Group</th>\n",
       "      <th>Pulse rate(bpm)</th>\n",
       "      <th>RR (breaths/min)</th>\n",
       "      <th>Hb(g/dl)</th>\n",
       "      <th>Cycle(R/I)</th>\n",
       "      <th>Cycle length(days)</th>\n",
       "      <th>...</th>\n",
       "      <th>Pimples(Y/N)</th>\n",
       "      <th>Fast food (Y/N)</th>\n",
       "      <th>Reg.Exercise(Y/N)</th>\n",
       "      <th>BP _Systolic (mmHg)</th>\n",
       "      <th>BP _Diastolic (mmHg)</th>\n",
       "      <th>Follicle No. (L)</th>\n",
       "      <th>Follicle No. (R)</th>\n",
       "      <th>Avg. F size (L) (mm)</th>\n",
       "      <th>Avg. F size (R) (mm)</th>\n",
       "      <th>Endometrium (mm)</th>\n",
       "    </tr>\n",
       "  </thead>\n",
       "  <tbody>\n",
       "    <tr>\n",
       "      <th>0</th>\n",
       "      <td>28</td>\n",
       "      <td>44.6</td>\n",
       "      <td>152.0</td>\n",
       "      <td>19.3</td>\n",
       "      <td>15</td>\n",
       "      <td>78</td>\n",
       "      <td>22</td>\n",
       "      <td>10.48</td>\n",
       "      <td>2</td>\n",
       "      <td>5</td>\n",
       "      <td>...</td>\n",
       "      <td>0</td>\n",
       "      <td>1.0</td>\n",
       "      <td>0</td>\n",
       "      <td>110</td>\n",
       "      <td>80</td>\n",
       "      <td>3</td>\n",
       "      <td>3</td>\n",
       "      <td>18.0</td>\n",
       "      <td>18.0</td>\n",
       "      <td>8.5</td>\n",
       "    </tr>\n",
       "    <tr>\n",
       "      <th>1</th>\n",
       "      <td>36</td>\n",
       "      <td>65.0</td>\n",
       "      <td>161.5</td>\n",
       "      <td>24.9</td>\n",
       "      <td>15</td>\n",
       "      <td>74</td>\n",
       "      <td>20</td>\n",
       "      <td>11.70</td>\n",
       "      <td>2</td>\n",
       "      <td>5</td>\n",
       "      <td>...</td>\n",
       "      <td>0</td>\n",
       "      <td>0.0</td>\n",
       "      <td>0</td>\n",
       "      <td>120</td>\n",
       "      <td>70</td>\n",
       "      <td>3</td>\n",
       "      <td>5</td>\n",
       "      <td>15.0</td>\n",
       "      <td>14.0</td>\n",
       "      <td>3.7</td>\n",
       "    </tr>\n",
       "    <tr>\n",
       "      <th>2</th>\n",
       "      <td>33</td>\n",
       "      <td>68.8</td>\n",
       "      <td>165.0</td>\n",
       "      <td>25.3</td>\n",
       "      <td>11</td>\n",
       "      <td>72</td>\n",
       "      <td>18</td>\n",
       "      <td>11.80</td>\n",
       "      <td>2</td>\n",
       "      <td>5</td>\n",
       "      <td>...</td>\n",
       "      <td>1</td>\n",
       "      <td>1.0</td>\n",
       "      <td>0</td>\n",
       "      <td>120</td>\n",
       "      <td>80</td>\n",
       "      <td>13</td>\n",
       "      <td>15</td>\n",
       "      <td>18.0</td>\n",
       "      <td>20.0</td>\n",
       "      <td>10.0</td>\n",
       "    </tr>\n",
       "    <tr>\n",
       "      <th>3</th>\n",
       "      <td>37</td>\n",
       "      <td>65.0</td>\n",
       "      <td>148.0</td>\n",
       "      <td>29.7</td>\n",
       "      <td>13</td>\n",
       "      <td>72</td>\n",
       "      <td>20</td>\n",
       "      <td>12.00</td>\n",
       "      <td>2</td>\n",
       "      <td>5</td>\n",
       "      <td>...</td>\n",
       "      <td>0</td>\n",
       "      <td>0.0</td>\n",
       "      <td>0</td>\n",
       "      <td>120</td>\n",
       "      <td>70</td>\n",
       "      <td>2</td>\n",
       "      <td>2</td>\n",
       "      <td>15.0</td>\n",
       "      <td>14.0</td>\n",
       "      <td>7.5</td>\n",
       "    </tr>\n",
       "    <tr>\n",
       "      <th>4</th>\n",
       "      <td>25</td>\n",
       "      <td>52.0</td>\n",
       "      <td>161.0</td>\n",
       "      <td>20.1</td>\n",
       "      <td>11</td>\n",
       "      <td>72</td>\n",
       "      <td>18</td>\n",
       "      <td>10.00</td>\n",
       "      <td>2</td>\n",
       "      <td>5</td>\n",
       "      <td>...</td>\n",
       "      <td>0</td>\n",
       "      <td>0.0</td>\n",
       "      <td>0</td>\n",
       "      <td>120</td>\n",
       "      <td>80</td>\n",
       "      <td>3</td>\n",
       "      <td>4</td>\n",
       "      <td>16.0</td>\n",
       "      <td>14.0</td>\n",
       "      <td>7.0</td>\n",
       "    </tr>\n",
       "  </tbody>\n",
       "</table>\n",
       "<p>5 rows × 39 columns</p>\n",
       "</div>"
      ],
      "text/plain": [
       "    Age (yrs)  Weight (Kg)  Height(Cm)    BMI  Blood Group  Pulse rate(bpm)   \\\n",
       "0          28         44.6        152.0  19.3           15                78   \n",
       "1          36         65.0        161.5  24.9           15                74   \n",
       "2          33         68.8        165.0  25.3           11                72   \n",
       "3          37         65.0        148.0  29.7           13                72   \n",
       "4          25         52.0        161.0  20.1           11                72   \n",
       "\n",
       "   RR (breaths/min)  Hb(g/dl)  Cycle(R/I)  Cycle length(days)  ...  \\\n",
       "0                22     10.48           2                   5  ...   \n",
       "1                20     11.70           2                   5  ...   \n",
       "2                18     11.80           2                   5  ...   \n",
       "3                20     12.00           2                   5  ...   \n",
       "4                18     10.00           2                   5  ...   \n",
       "\n",
       "   Pimples(Y/N)  Fast food (Y/N)  Reg.Exercise(Y/N)  BP _Systolic (mmHg)  \\\n",
       "0             0              1.0                  0                  110   \n",
       "1             0              0.0                  0                  120   \n",
       "2             1              1.0                  0                  120   \n",
       "3             0              0.0                  0                  120   \n",
       "4             0              0.0                  0                  120   \n",
       "\n",
       "   BP _Diastolic (mmHg)  Follicle No. (L)  Follicle No. (R)  \\\n",
       "0                    80                 3                 3   \n",
       "1                    70                 3                 5   \n",
       "2                    80                13                15   \n",
       "3                    70                 2                 2   \n",
       "4                    80                 3                 4   \n",
       "\n",
       "   Avg. F size (L) (mm)  Avg. F size (R) (mm)  Endometrium (mm)  \n",
       "0                  18.0                  18.0               8.5  \n",
       "1                  15.0                  14.0               3.7  \n",
       "2                  18.0                  20.0              10.0  \n",
       "3                  15.0                  14.0               7.5  \n",
       "4                  16.0                  14.0               7.0  \n",
       "\n",
       "[5 rows x 39 columns]"
      ]
     },
     "metadata": {},
     "output_type": "display_data"
    },
    {
     "name": "stdout",
     "output_type": "stream",
     "text": [
      "The features in this dataset have both discrete and continuous values\n"
     ]
    }
   ],
   "source": [
    "display(data_pcos.head())\n",
    "print(\"The features in this dataset have both discrete and continuous values\")"
   ]
  },
  {
   "cell_type": "markdown",
   "id": "diverse-underground",
   "metadata": {
    "papermill": {
     "duration": 0.034755,
     "end_time": "2021-06-29T07:27:39.207211",
     "exception": false,
     "start_time": "2021-06-29T07:27:39.172456",
     "status": "completed"
    },
    "tags": []
   },
   "source": [
    "### 2. Checking Accuracy"
   ]
  },
  {
   "cell_type": "code",
   "execution_count": 14,
   "id": "handed-bridges",
   "metadata": {
    "execution": {
     "iopub.execute_input": "2021-06-29T07:27:39.280428Z",
     "iopub.status.busy": "2021-06-29T07:27:39.279372Z",
     "iopub.status.idle": "2021-06-29T07:28:40.716324Z",
     "shell.execute_reply": "2021-06-29T07:28:40.716870Z",
     "shell.execute_reply.started": "2021-06-26T11:00:14.543597Z"
    },
    "papermill": {
     "duration": 61.475266,
     "end_time": "2021-06-29T07:28:40.717052",
     "exception": false,
     "start_time": "2021-06-29T07:27:39.241786",
     "status": "completed"
    },
    "tags": []
   },
   "outputs": [
    {
     "data": {
      "text/html": [
       "<div>\n",
       "<style scoped>\n",
       "    .dataframe tbody tr th:only-of-type {\n",
       "        vertical-align: middle;\n",
       "    }\n",
       "\n",
       "    .dataframe tbody tr th {\n",
       "        vertical-align: top;\n",
       "    }\n",
       "\n",
       "    .dataframe thead th {\n",
       "        text-align: right;\n",
       "    }\n",
       "</style>\n",
       "<table border=\"1\" class=\"dataframe\">\n",
       "  <thead>\n",
       "    <tr style=\"text-align: right;\">\n",
       "      <th></th>\n",
       "      <th>Classifier</th>\n",
       "      <th>Accuracy</th>\n",
       "    </tr>\n",
       "  </thead>\n",
       "  <tbody>\n",
       "    <tr>\n",
       "      <th>0</th>\n",
       "      <td>RandomForest</td>\n",
       "      <td>0.889706</td>\n",
       "    </tr>\n",
       "    <tr>\n",
       "      <th>1</th>\n",
       "      <td>RadialSVM</td>\n",
       "      <td>0.860294</td>\n",
       "    </tr>\n",
       "    <tr>\n",
       "      <th>2</th>\n",
       "      <td>AdaBoost</td>\n",
       "      <td>0.860294</td>\n",
       "    </tr>\n",
       "    <tr>\n",
       "      <th>3</th>\n",
       "      <td>LinearSVM</td>\n",
       "      <td>0.852941</td>\n",
       "    </tr>\n",
       "    <tr>\n",
       "      <th>4</th>\n",
       "      <td>DecisionTree</td>\n",
       "      <td>0.845588</td>\n",
       "    </tr>\n",
       "    <tr>\n",
       "      <th>5</th>\n",
       "      <td>GradientBoosting</td>\n",
       "      <td>0.838235</td>\n",
       "    </tr>\n",
       "    <tr>\n",
       "      <th>6</th>\n",
       "      <td>KNeighbors</td>\n",
       "      <td>0.698529</td>\n",
       "    </tr>\n",
       "    <tr>\n",
       "      <th>7</th>\n",
       "      <td>Logistic</td>\n",
       "      <td>0.676471</td>\n",
       "    </tr>\n",
       "  </tbody>\n",
       "</table>\n",
       "</div>"
      ],
      "text/plain": [
       "         Classifier  Accuracy\n",
       "0      RandomForest  0.889706\n",
       "1         RadialSVM  0.860294\n",
       "2          AdaBoost  0.860294\n",
       "3         LinearSVM  0.852941\n",
       "4      DecisionTree  0.845588\n",
       "5  GradientBoosting  0.838235\n",
       "6        KNeighbors  0.698529\n",
       "7          Logistic  0.676471"
      ]
     },
     "execution_count": 14,
     "metadata": {},
     "output_type": "execute_result"
    }
   ],
   "source": [
    "score4 = acc_score(data_pcos,label_pcos)\n",
    "score4"
   ]
  },
  {
   "cell_type": "code",
   "execution_count": 15,
   "id": "pressed-authentication",
   "metadata": {
    "execution": {
     "iopub.execute_input": "2021-06-29T07:28:40.789726Z",
     "iopub.status.busy": "2021-06-29T07:28:40.788991Z",
     "iopub.status.idle": "2021-06-29T07:34:50.947116Z",
     "shell.execute_reply": "2021-06-29T07:34:50.947660Z",
     "shell.execute_reply.started": "2021-06-26T11:11:37.026189Z"
    },
    "papermill": {
     "duration": 370.196209,
     "end_time": "2021-06-29T07:34:50.947847",
     "exception": false,
     "start_time": "2021-06-29T07:28:40.751638",
     "status": "completed"
    },
    "tags": []
   },
   "outputs": [
    {
     "data": {
      "text/html": [
       "<style  type=\"text/css\" >\n",
       "#T_3f5c2_row3_col2{\n",
       "            background-color:  aquamarine;\n",
       "        }</style><table id=\"T_3f5c2_\" ><thead>    <tr>        <th class=\"blank level0\" ></th>        <th class=\"col_heading level0 col0\" >Classifier</th>        <th class=\"col_heading level0 col1\" >0.17</th>        <th class=\"col_heading level0 col2\" >0.19</th>        <th class=\"col_heading level0 col3\" >0.21</th>        <th class=\"col_heading level0 col4\" >0.23</th>        <th class=\"col_heading level0 col5\" >0.5</th>        <th class=\"col_heading level0 col6\" >0.8</th>    </tr></thead><tbody>\n",
       "                <tr>\n",
       "                        <th id=\"T_3f5c2_level0_row0\" class=\"row_heading level0 row0\" >0</th>\n",
       "                        <td id=\"T_3f5c2_row0_col0\" class=\"data row0 col0\" >RandomForest</td>\n",
       "                        <td id=\"T_3f5c2_row0_col1\" class=\"data row0 col1\" >0.852941</td>\n",
       "                        <td id=\"T_3f5c2_row0_col2\" class=\"data row0 col2\" >0.860294</td>\n",
       "                        <td id=\"T_3f5c2_row0_col3\" class=\"data row0 col3\" >0.860294</td>\n",
       "                        <td id=\"T_3f5c2_row0_col4\" class=\"data row0 col4\" >0.860294</td>\n",
       "                        <td id=\"T_3f5c2_row0_col5\" class=\"data row0 col5\" >0.816176</td>\n",
       "                        <td id=\"T_3f5c2_row0_col6\" class=\"data row0 col6\" >0.816176</td>\n",
       "            </tr>\n",
       "            <tr>\n",
       "                        <th id=\"T_3f5c2_level0_row1\" class=\"row_heading level0 row1\" >1</th>\n",
       "                        <td id=\"T_3f5c2_row1_col0\" class=\"data row1 col0\" >RadialSVM</td>\n",
       "                        <td id=\"T_3f5c2_row1_col1\" class=\"data row1 col1\" >0.698529</td>\n",
       "                        <td id=\"T_3f5c2_row1_col2\" class=\"data row1 col2\" >0.698529</td>\n",
       "                        <td id=\"T_3f5c2_row1_col3\" class=\"data row1 col3\" >0.698529</td>\n",
       "                        <td id=\"T_3f5c2_row1_col4\" class=\"data row1 col4\" >0.698529</td>\n",
       "                        <td id=\"T_3f5c2_row1_col5\" class=\"data row1 col5\" >0.698529</td>\n",
       "                        <td id=\"T_3f5c2_row1_col6\" class=\"data row1 col6\" >0.698529</td>\n",
       "            </tr>\n",
       "            <tr>\n",
       "                        <th id=\"T_3f5c2_level0_row2\" class=\"row_heading level0 row2\" >2</th>\n",
       "                        <td id=\"T_3f5c2_row2_col0\" class=\"data row2 col0\" >AdaBoost</td>\n",
       "                        <td id=\"T_3f5c2_row2_col1\" class=\"data row2 col1\" >0.845588</td>\n",
       "                        <td id=\"T_3f5c2_row2_col2\" class=\"data row2 col2\" >0.852941</td>\n",
       "                        <td id=\"T_3f5c2_row2_col3\" class=\"data row2 col3\" >0.838235</td>\n",
       "                        <td id=\"T_3f5c2_row2_col4\" class=\"data row2 col4\" >0.838235</td>\n",
       "                        <td id=\"T_3f5c2_row2_col5\" class=\"data row2 col5\" >0.823529</td>\n",
       "                        <td id=\"T_3f5c2_row2_col6\" class=\"data row2 col6\" >0.808824</td>\n",
       "            </tr>\n",
       "            <tr>\n",
       "                        <th id=\"T_3f5c2_level0_row3\" class=\"row_heading level0 row3\" >3</th>\n",
       "                        <td id=\"T_3f5c2_row3_col0\" class=\"data row3 col0\" >LinearSVM</td>\n",
       "                        <td id=\"T_3f5c2_row3_col1\" class=\"data row3 col1\" >0.875000</td>\n",
       "                        <td id=\"T_3f5c2_row3_col2\" class=\"data row3 col2\" >0.897059</td>\n",
       "                        <td id=\"T_3f5c2_row3_col3\" class=\"data row3 col3\" >0.867647</td>\n",
       "                        <td id=\"T_3f5c2_row3_col4\" class=\"data row3 col4\" >0.889706</td>\n",
       "                        <td id=\"T_3f5c2_row3_col5\" class=\"data row3 col5\" >0.838235</td>\n",
       "                        <td id=\"T_3f5c2_row3_col6\" class=\"data row3 col6\" >0.845588</td>\n",
       "            </tr>\n",
       "            <tr>\n",
       "                        <th id=\"T_3f5c2_level0_row4\" class=\"row_heading level0 row4\" >4</th>\n",
       "                        <td id=\"T_3f5c2_row4_col0\" class=\"data row4 col0\" >DecisionTree</td>\n",
       "                        <td id=\"T_3f5c2_row4_col1\" class=\"data row4 col1\" >0.875000</td>\n",
       "                        <td id=\"T_3f5c2_row4_col2\" class=\"data row4 col2\" >0.875000</td>\n",
       "                        <td id=\"T_3f5c2_row4_col3\" class=\"data row4 col3\" >0.852941</td>\n",
       "                        <td id=\"T_3f5c2_row4_col4\" class=\"data row4 col4\" >0.860294</td>\n",
       "                        <td id=\"T_3f5c2_row4_col5\" class=\"data row4 col5\" >0.779412</td>\n",
       "                        <td id=\"T_3f5c2_row4_col6\" class=\"data row4 col6\" >0.779412</td>\n",
       "            </tr>\n",
       "            <tr>\n",
       "                        <th id=\"T_3f5c2_level0_row5\" class=\"row_heading level0 row5\" >5</th>\n",
       "                        <td id=\"T_3f5c2_row5_col0\" class=\"data row5 col0\" >GradientBoosting</td>\n",
       "                        <td id=\"T_3f5c2_row5_col1\" class=\"data row5 col1\" >0.838235</td>\n",
       "                        <td id=\"T_3f5c2_row5_col2\" class=\"data row5 col2\" >0.852941</td>\n",
       "                        <td id=\"T_3f5c2_row5_col3\" class=\"data row5 col3\" >0.808824</td>\n",
       "                        <td id=\"T_3f5c2_row5_col4\" class=\"data row5 col4\" >0.801471</td>\n",
       "                        <td id=\"T_3f5c2_row5_col5\" class=\"data row5 col5\" >0.779412</td>\n",
       "                        <td id=\"T_3f5c2_row5_col6\" class=\"data row5 col6\" >0.757353</td>\n",
       "            </tr>\n",
       "            <tr>\n",
       "                        <th id=\"T_3f5c2_level0_row6\" class=\"row_heading level0 row6\" >6</th>\n",
       "                        <td id=\"T_3f5c2_row6_col0\" class=\"data row6 col0\" >KNeighbors</td>\n",
       "                        <td id=\"T_3f5c2_row6_col1\" class=\"data row6 col1\" >0.676471</td>\n",
       "                        <td id=\"T_3f5c2_row6_col2\" class=\"data row6 col2\" >0.676471</td>\n",
       "                        <td id=\"T_3f5c2_row6_col3\" class=\"data row6 col3\" >0.676471</td>\n",
       "                        <td id=\"T_3f5c2_row6_col4\" class=\"data row6 col4\" >0.676471</td>\n",
       "                        <td id=\"T_3f5c2_row6_col5\" class=\"data row6 col5\" >0.676471</td>\n",
       "                        <td id=\"T_3f5c2_row6_col6\" class=\"data row6 col6\" >0.676471</td>\n",
       "            </tr>\n",
       "            <tr>\n",
       "                        <th id=\"T_3f5c2_level0_row7\" class=\"row_heading level0 row7\" >7</th>\n",
       "                        <td id=\"T_3f5c2_row7_col0\" class=\"data row7 col0\" >Logistic</td>\n",
       "                        <td id=\"T_3f5c2_row7_col1\" class=\"data row7 col1\" >0.875000</td>\n",
       "                        <td id=\"T_3f5c2_row7_col2\" class=\"data row7 col2\" >0.867647</td>\n",
       "                        <td id=\"T_3f5c2_row7_col3\" class=\"data row7 col3\" >0.867647</td>\n",
       "                        <td id=\"T_3f5c2_row7_col4\" class=\"data row7 col4\" >0.860294</td>\n",
       "                        <td id=\"T_3f5c2_row7_col5\" class=\"data row7 col5\" >0.823529</td>\n",
       "                        <td id=\"T_3f5c2_row7_col6\" class=\"data row7 col6\" >0.838235</td>\n",
       "            </tr>\n",
       "    </tbody></table>"
      ],
      "text/plain": [
       "<pandas.io.formats.style.Styler at 0x7f5aa3168910>"
      ]
     },
     "execution_count": 15,
     "metadata": {},
     "output_type": "execute_result"
    }
   ],
   "source": [
    "threshold_pcos = [0.17,0.19,0.21,0.23,0.5,0.8]\n",
    "classifiers = score4[\"Classifier\"].tolist()\n",
    "score_pcos = acc_score_thr(data_pcos,label_pcos,threshold_pcos)\n",
    "score_pcos.style.apply(highlight_max, subset = score_pcos.columns[1:], axis=None)"
   ]
  },
  {
   "cell_type": "markdown",
   "id": "republican-christianity",
   "metadata": {
    "papermill": {
     "duration": 0.035992,
     "end_time": "2021-06-29T07:34:51.019006",
     "exception": false,
     "start_time": "2021-06-29T07:34:50.983014",
     "status": "completed"
    },
    "tags": []
   },
   "source": [
    "#### Best Accuracy with all features : RandomForest Classifier - 0.889\n",
    "#### Best Accuracy after applying with VarianceThreshold() : DecisionTree Classifier - for threshold = (0.19) - 0.897\n",
    "#### Here we can see an improvement of ~1%."
   ]
  },
  {
   "cell_type": "markdown",
   "id": "beneficial-swimming",
   "metadata": {
    "papermill": {
     "duration": 0.03558,
     "end_time": "2021-06-29T07:34:51.089733",
     "exception": false,
     "start_time": "2021-06-29T07:34:51.054153",
     "status": "completed"
    },
    "tags": []
   },
   "source": [
    "### 3. Visualization"
   ]
  },
  {
   "cell_type": "code",
   "execution_count": 16,
   "id": "bibliographic-housing",
   "metadata": {
    "execution": {
     "iopub.execute_input": "2021-06-29T07:34:51.162881Z",
     "iopub.status.busy": "2021-06-29T07:34:51.162193Z",
     "iopub.status.idle": "2021-06-29T07:34:52.307982Z",
     "shell.execute_reply": "2021-06-29T07:34:52.308494Z",
     "shell.execute_reply.started": "2021-06-26T11:22:32.588781Z"
    },
    "papermill": {
     "duration": 1.183799,
     "end_time": "2021-06-29T07:34:52.308686",
     "exception": false,
     "start_time": "2021-06-29T07:34:51.124887",
     "status": "completed"
    },
    "tags": []
   },
   "outputs": [
    {
     "data": {
      "image/png": "[encoded data removed]",
      "text/plain": [
       "<Figure size 1152x1296 with 8 Axes>"
      ]
     },
     "metadata": {
      "needs_background": "light"
     },
     "output_type": "display_data"
    }
   ],
   "source": [
    "plot2(score_pcos,0.3,1.0,1,0.35,c = \"limegreen\")"
   ]
  },
  {
   "cell_type": "markdown",
   "id": "prescription-limitation",
   "metadata": {
    "papermill": {
     "duration": 0.036125,
     "end_time": "2021-06-29T07:34:52.381386",
     "exception": false,
     "start_time": "2021-06-29T07:34:52.345261",
     "status": "completed"
    },
    "tags": []
   },
   "source": [
    "________"
   ]
  },
  {
   "cell_type": "markdown",
   "id": "crucial-genealogy",
   "metadata": {
    "papermill": {
     "duration": 0.03625,
     "end_time": "2021-06-29T07:34:52.454112",
     "exception": false,
     "start_time": "2021-06-29T07:34:52.417862",
     "status": "completed"
    },
    "tags": []
   },
   "source": [
    "#### From looking at these results we can see that there is a possibility of slight improvement in the accuracy after removing certain features with low variance.\n",
    "#### Link to other feature selection methods:\n",
    "##### [Genetic Algorithm](https://www.kaggle.com/tanmayunhale/genetic-algorithm-for-feature-selection)\n",
    "##### [Pearson Correlation](https://www.kaggle.com/tanmayunhale/feature-selection-pearson-correlation)\n",
    "##### [F-score](https://www.kaggle.com/tanmayunhale/feature-selection-f-score)\n"
   ]
  },
  {
   "cell_type": "code",
   "execution_count": null,
   "id": "unable-mexico",
   "metadata": {
    "papermill": {
     "duration": 0.036213,
     "end_time": "2021-06-29T07:34:52.526987",
     "exception": false,
     "start_time": "2021-06-29T07:34:52.490774",
     "status": "completed"
    },
    "tags": []
   },
   "outputs": [],
   "source": []
  }
 ],
 "metadata": {
  "kernelspec": {
   "display_name": "Python 3",
   "language": "python",
   "name": "python3"
  },
  "language_info": {
   "codemirror_mode": {
    "name": "ipython",
    "version": 3
   },
   "file_extension": ".py",
   "mimetype": "text/x-python",
   "name": "python",
   "nbconvert_exporter": "python",
   "pygments_lexer": "ipython3",
   "version": "3.7.10"
  },
  "papermill": {
   "default_parameters": {},
   "duration": 476.715813,
   "end_time": "2021-06-29T07:34:53.374750",
   "environment_variables": {},
   "exception": null,
   "input_path": "__notebook__.ipynb",
   "output_path": "__notebook__.ipynb",
   "parameters": {},
   "start_time": "2021-06-29T07:26:56.658937",
   "version": "2.3.3"
  }
 },
 "nbformat": 4,
 "nbformat_minor": 5
}
